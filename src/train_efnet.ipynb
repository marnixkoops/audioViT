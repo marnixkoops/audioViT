{
 "cells": [
  {
   "cell_type": "code",
   "execution_count": null,
   "metadata": {},
   "outputs": [],
   "source": [
    "# %%\n",
    "# !pip install lightning timm librosa albumentations torchaudio==2.2.2 audiomentations\n"
   ]
  },
  {
   "cell_type": "code",
   "execution_count": 8,
   "metadata": {
    "tags": []
   },
   "outputs": [],
   "source": [
    "# %%\n",
    "import gc\n",
    "import logging\n",
    "import os\n",
    "import random\n",
    "import warnings\n",
    "from datetime import datetime\n",
    "from pprint import pformat\n",
    "\n",
    "import albumentations\n",
    "import librosa\n",
    "import lightning as L\n",
    "import matplotlib.pyplot as plt\n",
    "import numpy as np\n",
    "import pandas as pd\n",
    "import seaborn as sns\n",
    "import timm\n",
    "import torch\n",
    "import torchaudio\n",
    "import torchmetrics\n",
    "from joblib import Parallel, delayed\n",
    "from lightning.pytorch.callbacks import ModelCheckpoint, TQDMProgressBar\n",
    "from lightning.pytorch.callbacks.early_stopping import EarlyStopping\n",
    "from sklearn.model_selection import StratifiedGroupKFold, StratifiedKFold, train_test_split\n",
    "from torch.optim.lr_scheduler import CosineAnnealingWarmRestarts\n",
    "from torch.utils.data import DataLoader, Dataset, WeightedRandomSampler\n",
    "from tqdm.notebook import tqdm\n",
    "\n",
    "from losses import FocalCosineLoss, FocalLoss, FocalLossBCE, JsdCrossEntropy\n",
    "from optimizers import Adan, Nadam, NvidiaNovoGrad\n",
    "\n",
    "sns.set(\n",
    "    rc={\n",
    "        \"figure.figsize\": (8, 4),\n",
    "        \"figure.dpi\": 240,\n",
    "    }\n",
    ")\n",
    "sns.set_style(\"darkgrid\", {\"axes.grid\": False})\n",
    "sns.set_context(\"paper\", font_scale=0.6)\n",
    "\n",
    "torch.set_float32_matmul_precision(\"high\")\n",
    "warnings.simplefilter(\"ignore\")\n"
   ]
  },
  {
   "cell_type": "code",
   "execution_count": 9,
   "metadata": {
    "tags": []
   },
   "outputs": [],
   "source": [
    "# %%\n",
    "class cfg:\n",
    "    experiment_name = \"base_mixup_aug\"\n",
    "    data_path = \"../data\"\n",
    "\n",
    "    debug_run = False  # run on a small sample\n",
    "    experiment_run = False  # run on a stratified data sample\n",
    "    production_run = True  # run on all data\n",
    "\n",
    "    normalize_waveform = False # TODO test with and without\n",
    "    sample_rate = 32000\n",
    "    n_fft = 2048\n",
    "    hop_length = 512\n",
    "    window_length = None\n",
    "    melspec_hres = 128\n",
    "    melspec_wres = 312\n",
    "    freq_min = 40\n",
    "    freq_max = 15000\n",
    "    log_scale_power = 2\n",
    "    max_decibels = 100\n",
    "    frame_duration = 5\n",
    "    frame_rate = sample_rate / hop_length\n",
    "\n",
    "    # vit_b0 = \"efficientvit_b0.r224_in1k\"\n",
    "    # vit_b1 = \"efficientvit_b1.r224_in1k\"\n",
    "    # vit_b1 = \"efficientvit_b1.r288_in1k\"\n",
    "    # vit_b2 = \"efficientvit_b2.r224_in1k\"\n",
    "    efnetv2_b0 = \"tf_efficientnetv2_b0.in1k\"\n",
    "    # efnetv2s = \"tf_efficientnetv2_s.in21k_ft_in1k\" # TODO\n",
    "    # efnetv2_b1 = \"tf_efficientnetv2_b1.in1k\"\n",
    "    # vit_m0 = \"efficientvit_m0.r224_in1k\"\n",
    "    # vit_m1 = \"efficientvit_m1.r224_in1k\"\n",
    "    backbone = efnetv2_b0\n",
    "\n",
    "    num_classes = 182\n",
    "    mixup = True\n",
    "    augment_melspec = True\n",
    "    add_secondary_labels = False\n",
    "\n",
    "    label_smoothing = 0.1\n",
    "    weighted_sampling = False\n",
    "    sample_weight_factor = 0.25\n",
    "\n",
    "    accelerator = \"gpu\"\n",
    "    precision = \"16-mixed\"\n",
    "    n_workers = os.cpu_count() - 2\n",
    "\n",
    "    n_epochs = 100\n",
    "    batch_size = 128\n",
    "    val_ratio = 0.2\n",
    "    patience = 25\n",
    "\n",
    "    lr = 1e-3\n",
    "    lr_min = 1e-6\n",
    "    weight_decay = 1e-6\n",
    "\n",
    "    loss = \"Focal\"\n",
    "    optimizer = \"AdamW\"\n",
    "\n",
    "    timestamp = datetime.now().replace(microsecond=0)\n",
    "    run_tag = f\"{timestamp}_{backbone}_{experiment_name}_val_{val_ratio}_{loss}_{optimizer}_lr_{lr}_decay_{weight_decay}\"\n",
    "\n",
    "    if debug_run:\n",
    "        run_tag = f\"{timestamp}_{backbone}_debug\"\n",
    "        # accelerator = \"cpu\"\n",
    "        n_epochs = 5\n",
    "        batch_size = 32\n",
    "        num_classes = 10\n"
   ]
  },
  {
   "cell_type": "code",
   "execution_count": 10,
   "metadata": {
    "tags": []
   },
   "outputs": [],
   "source": [
    "# %%\n",
    "def define_logger():\n",
    "    handlers = [\n",
    "        logging.StreamHandler(),\n",
    "        logging.FileHandler(f\"../logs/{cfg.run_tag}.log\"),\n",
    "    ]\n",
    "\n",
    "    if cfg.debug_run:\n",
    "        handlers = [logging.StreamHandler()]\n",
    "\n",
    "    logger = logging.getLogger(__name__)\n",
    "    logging.basicConfig(\n",
    "        level=logging.INFO,\n",
    "        format=\" %(asctime)s [%(threadName)s] 🐦‍🔥 %(message)s\",\n",
    "        handlers=handlers,\n",
    "        force=True,  # reconfigure root logger, in case of rerunning -> ensures new file\n",
    "    )\n",
    "\n",
    "    return logger\n",
    "\n",
    "\n",
    "def get_config(cfg) -> None:\n",
    "    cfg_dictionary = {\n",
    "        key: value\n",
    "        for key, value in cfg.__dict__.items()\n",
    "        if not key.startswith(\"__\") and not callable(key)\n",
    "    }\n",
    "    logger.info(f\"{'—' * 80}\")\n",
    "    logger.info(f\"Config: \\n{pformat(cfg_dictionary, indent=1)}\")\n",
    "    return cfg_dictionary\n",
    "\n",
    "\n",
    "def load_metadata(data_path: str) -> pd.DataFrame:\n",
    "    logger.info(f\"Loading prepared dataframes from {data_path}\")\n",
    "    model_input_df = pd.read_csv(f\"{data_path}/model_input_df.csv\")\n",
    "    sample_submission = pd.read_csv(f\"{data_path}/sample_submission.csv\")\n",
    "\n",
    "    if cfg.debug_run:\n",
    "        logger.info(\"Running debug: sampling data to 10 species and 250 samples\")\n",
    "        top_10_labels = model_input_df[\"primary_label\"].value_counts()[0:10].index\n",
    "        model_input_df = model_input_df[\n",
    "            model_input_df[\"primary_label\"].isin(top_10_labels)\n",
    "        ]\n",
    "        model_input_df = model_input_df.sample(1000).reset_index(drop=True)\n",
    "\n",
    "    elif cfg.experiment_run:\n",
    "        logger.info(\"Running experiment: sampling data\")\n",
    "        model_input_df = model_input_df.sample(frac=0.1).reset_index(drop=True)\n",
    "\n",
    "    elif cfg.production_run:\n",
    "        logger.info(\"Running production: full data\")\n",
    "        model_input_df = model_input_df.sample(frac=1, random_state=7).reset_index(drop=True)\n",
    "\n",
    "    logger.info(f\"Dataframe shape: {model_input_df.shape}\")\n",
    "\n",
    "    return model_input_df, sample_submission\n",
    "\n",
    "\n",
    "def read_waveform(filename: str) -> np.ndarray:\n",
    "    filepath = f\"{cfg.data_path}/train_windows_n3/{filename}\"\n",
    "    waveform, _ = librosa.load(filepath, sr=cfg.sample_rate)\n",
    "\n",
    "    if cfg.normalize_waveform:\n",
    "        waveform = librosa.util.normalize(waveform)\n",
    "\n",
    "    return waveform\n",
    "\n",
    "\n",
    "def read_waveforms_parallel(model_input_df: pd.DataFrame):\n",
    "    logger.info(\"Parallel Loading waveforms\")\n",
    "    waveforms = Parallel(n_jobs=cfg.n_workers, prefer=\"threads\")(\n",
    "        delayed(read_waveform)(filename)\n",
    "        for filename in tqdm(model_input_df[\"window_filename\"], desc=\"Loading waves\")\n",
    "    )\n",
    "    logger.info(\"Finished loadeding waveforms\")\n",
    "    return waveforms\n",
    "\n",
    "\n",
    "def create_label_map(submission_df: pd.DataFrame) -> dict:\n",
    "    logging.info(\"Creating label mappings\")\n",
    "    cfg.labels = submission_df.columns[1:]\n",
    "    cfg.num_classes = len(cfg.labels)\n",
    "    class_to_label_map = dict(zip(cfg.labels, np.arange(cfg.num_classes)))\n",
    "\n",
    "    return class_to_label_map\n",
    "\n",
    "\n",
    "def pad_or_crop_waveforms(waveforms: list, pad_method: str = \"repeat\") -> list:\n",
    "    logging.info(\"Padding or cropping waveforms to desired duration\")\n",
    "    desired_length = cfg.sample_rate * cfg.frame_duration\n",
    "\n",
    "    def _pad_or_crop(waveform: np.ndarray) -> np.ndarray:\n",
    "        length = len(waveform)\n",
    "\n",
    "        while length < desired_length:  # repeat if waveform too small\n",
    "            repeat_length = desired_length - length\n",
    "            padding_array = waveform[:repeat_length]\n",
    "            if pad_method != \"repeat\":\n",
    "                padding_array = np.zeros(shape=waveform[:repeat_length].shape)\n",
    "            waveform = np.concatenate([waveform, padding_array])\n",
    "            length = len(waveform)\n",
    "\n",
    "        if length > desired_length:  # crop if waveform is too big\n",
    "            offset = np.random.randint(0, length - desired_length)\n",
    "            waveform = waveform[offset : offset + desired_length]\n",
    "\n",
    "        return waveform\n",
    "\n",
    "    waveforms = [_pad_or_crop(wave) for wave in tqdm(waveforms, desc=\"Padding waves\")]\n",
    "\n",
    "    return waveforms\n",
    "\n",
    "\n",
    "def add_sample_weights(\n",
    "    model_input_df: pd.DataFrame, weight_factor: float = cfg.sample_weight_factor\n",
    ") -> pd.DataFrame:\n",
    "    sample_weights = round(\n",
    "        (\n",
    "            model_input_df[\"primary_label\"].value_counts()\n",
    "            / model_input_df[\"primary_label\"].value_counts().sum()\n",
    "        )\n",
    "        ** (-weight_factor)\n",
    "    )\n",
    "    sample_weights = pd.DataFrame(\n",
    "        {\n",
    "            \"primary_label\": sample_weights.index,\n",
    "            \"sample_weight\": sample_weights.values.astype(int),\n",
    "        }\n",
    "    )\n",
    "    model_input_df = model_input_df.merge(\n",
    "        sample_weights, on=\"primary_label\", how=\"left\"\n",
    "    )\n",
    "    return model_input_df\n"
   ]
  },
  {
   "cell_type": "code",
   "execution_count": 19,
   "metadata": {
    "tags": []
   },
   "outputs": [],
   "source": [
    "# %%\n",
    "class BirdDataset(Dataset):\n",
    "    def __init__(\n",
    "        self,\n",
    "        df: pd.DataFrame,\n",
    "        waveforms: list,\n",
    "        add_secondary_labels: bool = cfg.add_secondary_labels,\n",
    "        augmentation: list = None,\n",
    "    ):\n",
    "        self.df = df\n",
    "        self.waveforms = waveforms\n",
    "        self.num_classes = cfg.num_classes\n",
    "        self.class_to_label_map = class_to_label_map\n",
    "        self.add_secondary_labels = add_secondary_labels\n",
    "        self.augmentation = augmentation\n",
    "\n",
    "        self.mel_transform = torchaudio.transforms.MelSpectrogram(\n",
    "            sample_rate=cfg.sample_rate,\n",
    "            n_mels=cfg.melspec_hres,\n",
    "            f_min=cfg.freq_min,\n",
    "            f_max=cfg.freq_max,\n",
    "            n_fft=cfg.n_fft,\n",
    "            hop_length=cfg.hop_length,\n",
    "            normalized=cfg.normalize_waveform,\n",
    "            center=True,\n",
    "            pad_mode=\"reflect\",\n",
    "            norm=\"slaney\",\n",
    "            mel_scale=\"slaney\",\n",
    "        )\n",
    "        self.db_transform = torchaudio.transforms.AmplitudeToDB(\n",
    "            stype=\"power\", top_db=cfg.max_decibels\n",
    "        )\n",
    "\n",
    "    def create_target(\n",
    "        self,\n",
    "        primary_label: str,\n",
    "        secondary_labels: list,\n",
    "        secondary_label_weight: float = 1,\n",
    "    ) -> torch.tensor:\n",
    "        target = torch.zeros(self.num_classes, dtype=torch.float32)\n",
    "        # primary_target = torch.tensor(0, dtype=torch.int64)\n",
    "\n",
    "        if primary_label != \"nocall\":\n",
    "            primary_label = self.class_to_label_map[primary_label]\n",
    "            target[primary_label] = 1\n",
    "            primary_target = torch.tensor(primary_label, dtype=torch.int64)\n",
    "\n",
    "            if self.add_secondary_labels:\n",
    "                secondary_labels = eval(secondary_labels)\n",
    "                for label in secondary_labels:\n",
    "                    if label != \"\" and label in self.class_to_label_map.keys():\n",
    "                        target[self.class_to_label_map[label]] = secondary_label_weight\n",
    "\n",
    "        return target, primary_target\n",
    "\n",
    "    def __len__(self):\n",
    "        return len(self.waveforms)\n",
    "\n",
    "    def __getitem__(self, idx):\n",
    "        waveform = self.waveforms[idx]\n",
    "        primary_label = self.df.iloc[idx][\"primary_label\"]\n",
    "        secondary_labels = self.df.iloc[idx][\"secondary_labels\"]\n",
    "\n",
    "        length = len(waveform)\n",
    "        desired_length = cfg.sample_rate * 5\n",
    "        if length > desired_length:  # take random 5s crop of 6sec sample\n",
    "            offset = np.random.randint(0, length - desired_length)\n",
    "            waveform = waveform[offset : offset + desired_length]\n",
    "\n",
    "        waveform = torch.tensor(waveform, dtype=torch.float32)\n",
    "\n",
    "        target, primary_target = self.create_target(\n",
    "            primary_label=primary_label, secondary_labels=secondary_labels\n",
    "        )\n",
    "\n",
    "        melspec = self.db_transform(self.mel_transform(waveform)).to(torch.uint8)\n",
    "        melspec = melspec.expand(3, -1, -1).permute(1, 2, 0).numpy()\n",
    "\n",
    "        melspec = melspec - melspec.min()\n",
    "        melspec = melspec / melspec.max()\n",
    "        melspec = melspec.astype(np.float32)\n",
    "\n",
    "        if self.augmentation is not None:\n",
    "            melspec = self.augmentation(image=melspec)[\"image\"]\n",
    "\n",
    "        return melspec, target, primary_target\n"
   ]
  },
  {
   "cell_type": "code",
   "execution_count": 20,
   "metadata": {
    "tags": []
   },
   "outputs": [],
   "source": [
    "# %%\n",
    "\n",
    "\n",
    "class GeM(torch.nn.Module):\n",
    "    def __init__(self, p=3, eps=1e-6):\n",
    "        super(GeM, self).__init__()\n",
    "        self.p = torch.nn.Parameter(torch.ones(1) * p)\n",
    "        self.eps = eps\n",
    "\n",
    "    def forward(self, x):\n",
    "        bs, ch, h, w = x.shape\n",
    "        x = torch.nn.functional.avg_pool2d(\n",
    "            x.clamp(min=self.eps).pow(self.p), (x.size(-2), x.size(-1))\n",
    "        ).pow(1.0 / self.p)\n",
    "        x = x.view(bs, ch)\n",
    "        return x\n",
    "\n",
    "\n",
    "class EfficientNetV2(L.LightningModule):\n",
    "    def __init__(self):\n",
    "        super().__init__()\n",
    "\n",
    "        out_indices = (3, 4)\n",
    "        self.efnetv2 = timm.create_model(\n",
    "            cfg.backbone,\n",
    "            features_only=True,\n",
    "            pretrained=True,\n",
    "            in_chans=3,\n",
    "            num_classes=cfg.num_classes,\n",
    "            out_indices=out_indices,\n",
    "        )\n",
    "\n",
    "        feature_dims = self.efnetv2.feature_info.channels()\n",
    "        logger.info(f\"EfficientNetV2 feature dims: {feature_dims}\")\n",
    "\n",
    "        self.global_pools = torch.nn.ModuleList([GeM() for _ in out_indices])\n",
    "        self.mid_features = np.sum(feature_dims)\n",
    "        self.neck = torch.nn.BatchNorm1d(self.mid_features)\n",
    "        self.head = torch.nn.Linear(self.mid_features, cfg.num_classes)\n",
    "\n",
    "        # self.loss_function = FocalCosineLoss()\n",
    "        self.loss_function = FocalLossBCE()\n",
    "        # self.loss_function = FocalLoss()\n",
    "        # self.loss_function = torch.nn.BCEWithLogitsLoss(reduction=\"mean\")\n",
    "        # self.loss_function = torch.nn.CrossEntropyLoss(\n",
    "        #     label_smoothing=cfg.label_smoothing\n",
    "        # )\n",
    "\n",
    "        self.accuracy = torchmetrics.Accuracy(\n",
    "            task=\"multiclass\", num_classes=cfg.num_classes, top_k=1\n",
    "        )\n",
    "        self.accuracy_2 = torchmetrics.Accuracy(\n",
    "            task=\"multiclass\", num_classes=cfg.num_classes, top_k=2\n",
    "        )\n",
    "        self.auroc = torchmetrics.AUROC(\n",
    "            task=\"multilabel\",\n",
    "            num_labels=cfg.num_classes,\n",
    "            average=\"macro\",\n",
    "        )\n",
    "        self.f1_macro = torchmetrics.F1Score(\n",
    "            task=\"multilabel\",\n",
    "            num_labels=cfg.num_classes,\n",
    "            average=\"macro\",\n",
    "            threshold=0.5,\n",
    "        )\n",
    "        self.f1_weighted = torchmetrics.F1Score(\n",
    "            task=\"multilabel\",\n",
    "            num_labels=cfg.num_classes,\n",
    "            average=\"weighted\",\n",
    "            threshold=0.5,\n",
    "        )\n",
    "        self.lrap = torchmetrics.classification.MultilabelRankingAveragePrecision(\n",
    "            num_labels=cfg.num_classes,\n",
    "        )\n",
    "        self.precision_macro = torchmetrics.classification.MultilabelPrecision(\n",
    "            num_labels=cfg.num_classes,\n",
    "            average=\"macro\",\n",
    "            threshold=0.5,\n",
    "        )\n",
    "        self.precision_weighted = torchmetrics.classification.MultilabelPrecision(\n",
    "            num_labels=cfg.num_classes,\n",
    "            average=\"weighted\",\n",
    "            threshold=0.5,\n",
    "        )\n",
    "        self.recall_macro = torchmetrics.classification.MultilabelRecall(\n",
    "            num_labels=cfg.num_classes,\n",
    "            average=\"macro\",\n",
    "            threshold=0.5,\n",
    "        )\n",
    "        self.recall_weighted = torchmetrics.classification.MultilabelRecall(\n",
    "            num_labels=cfg.num_classes,\n",
    "            average=\"weighted\",\n",
    "            threshold=0.5,\n",
    "        )\n",
    "\n",
    "    def normal_mixup(self, melspec, target, alpha=5):\n",
    "        indices = torch.randperm(melspec.size(0))\n",
    "        mix_melspec = melspec[indices]\n",
    "        mix_target = target[indices]\n",
    "\n",
    "        lam = np.random.beta(alpha, alpha)\n",
    "        melspec = melspec * lam + mix_melspec * (1 - lam)\n",
    "        targets = target * lam + mix_target * (1 - lam)\n",
    "\n",
    "        return melspec, target\n",
    "\n",
    "    def time_mixup(self, melspec, target):\n",
    "        indices = torch.randperm(melspec.size(0))\n",
    "        mix_melspec = melspec[indices]\n",
    "        mix_target = target[indices]\n",
    "\n",
    "        melspec = torch.cat([melspec[:, :, :156, :], mix_melspec[:, :, 157:, :]], dim=2)\n",
    "        target = target + mix_target\n",
    "        target = torch.clamp(target, max=1)\n",
    "\n",
    "        return melspec, target\n",
    "\n",
    "    def freq_mixup(self, melspec, target):\n",
    "        indices = torch.randperm(melspec.size(0))\n",
    "        mix_melspec = melspec[indices]\n",
    "        mix_target = target[indices]\n",
    "\n",
    "        melspec = torch.cat([melspec[:, :64, :, :], mix_melspec[:, 64:, :, :]], dim=1)\n",
    "        target = target + mix_target\n",
    "        target = torch.clamp(target, max=1)\n",
    "\n",
    "        return melspec, target\n",
    "\n",
    "    def forward(self, x):\n",
    "        x = x.permute(0, 3, 1, 2)\n",
    "        x = self.efnetv2(x)\n",
    "        x = torch.cat(\n",
    "            [global_pool(m) for m, global_pool in zip(x, self.global_pools)], dim=1\n",
    "        )\n",
    "        x = self.neck(x)\n",
    "        out = self.head(x)\n",
    "\n",
    "        return out\n",
    "\n",
    "    def training_step(self, batch, batch_idx):\n",
    "        x, y, y_primary = batch\n",
    "\n",
    "        if cfg.mixup:\n",
    "            choice = np.random.choice([\"normal\", \"none\"])\n",
    "            if choice == \"normal\":\n",
    "                x, y = self.normal_mixup(x, y)\n",
    "            elif choice == \"time\":\n",
    "                x, y = self.normal_mixup(x, y)\n",
    "\n",
    "        y_pred = self(x)\n",
    "        loss = self.loss_function(y_pred, y)\n",
    "\n",
    "        y_pred = y_pred.sigmoid()\n",
    "        y_int = y.to(torch.int64)\n",
    "\n",
    "        train_accuracy = self.accuracy(y_pred, y_primary)\n",
    "        train_accuracy_2 = self.accuracy_2(y_pred, y_primary)\n",
    "        train_f1_weighted = self.f1_weighted(y_pred, y_int)\n",
    "        train_f1_macro = self.f1_macro(y_pred, y_int)\n",
    "        train_lrap = self.lrap(y_pred, y_int)\n",
    "\n",
    "        train_precision_macro = self.precision_macro(y_pred, y_int)\n",
    "        train_precision_weighted = self.precision_weighted(y_pred, y_int)\n",
    "        train_recall_macro = self.recall_macro(y_pred, y_int)\n",
    "        train_recall_weighted = self.recall_weighted(y_pred, y_int)\n",
    "\n",
    "        self.log(\n",
    "            \"train_loss\",\n",
    "            loss,\n",
    "            on_step=True,\n",
    "            on_epoch=True,\n",
    "            prog_bar=True,\n",
    "            logger=True,\n",
    "        )\n",
    "        self.log(\n",
    "            \"train_accuracy\",\n",
    "            train_accuracy,\n",
    "            on_step=False,\n",
    "            on_epoch=True,\n",
    "            prog_bar=True,\n",
    "            logger=True,\n",
    "        )\n",
    "        self.log(\n",
    "            \"train_accuracy_2\",\n",
    "            train_accuracy_2,\n",
    "            on_step=False,\n",
    "            on_epoch=True,\n",
    "            prog_bar=True,\n",
    "            logger=True,\n",
    "        )\n",
    "        self.log(\n",
    "            \"train_f1_weighted\",\n",
    "            train_f1_weighted,\n",
    "            on_step=False,\n",
    "            on_epoch=True,\n",
    "            prog_bar=True,\n",
    "            logger=True,\n",
    "        )\n",
    "        self.log(\n",
    "            \"train_f1_macro\",\n",
    "            train_f1_macro,\n",
    "            on_step=False,\n",
    "            on_epoch=True,\n",
    "            prog_bar=True,\n",
    "            logger=True,\n",
    "        )\n",
    "        self.log(\n",
    "            \"train_lrap\",\n",
    "            train_lrap,\n",
    "            on_step=False,\n",
    "            on_epoch=True,\n",
    "            prog_bar=True,\n",
    "            logger=True,\n",
    "        )\n",
    "        self.log(\n",
    "            \"train_precision_macro\",\n",
    "            train_precision_macro,\n",
    "            on_step=False,\n",
    "            on_epoch=True,\n",
    "            prog_bar=True,\n",
    "            logger=True,\n",
    "        )\n",
    "        self.log(\n",
    "            \"train_precision_weighted\",\n",
    "            train_precision_weighted,\n",
    "            on_step=False,\n",
    "            on_epoch=True,\n",
    "            prog_bar=True,\n",
    "            logger=True,\n",
    "        )\n",
    "        self.log(\n",
    "            \"train_recall_macro\",\n",
    "            train_recall_macro,\n",
    "            on_step=False,\n",
    "            on_epoch=True,\n",
    "            prog_bar=True,\n",
    "            logger=True,\n",
    "        )\n",
    "        self.log(\n",
    "            \"train_recall_weighted\",\n",
    "            train_recall_weighted,\n",
    "            on_step=False,\n",
    "            on_epoch=True,\n",
    "            prog_bar=True,\n",
    "            logger=True,\n",
    "        )\n",
    "\n",
    "\n",
    "        return loss\n",
    "\n",
    "    def validation_step(self, batch, batch_idx):\n",
    "        x_val, y_val, y_primary_val = batch\n",
    "        y_pred = self(x_val)\n",
    "        val_loss = self.loss_function(y_pred, y_val)\n",
    "\n",
    "        y_pred = y_pred.sigmoid()\n",
    "        y_val_int = y_val.to(torch.int64)\n",
    "\n",
    "        val_accuracy = self.accuracy(y_pred, y_primary_val)\n",
    "        val_accuracy_2 = self.accuracy_2(y_pred, y_primary_val)\n",
    "        val_auroc = self.auroc(y_pred, y_val_int)\n",
    "        val_f1_weighted = self.f1_weighted(y_pred, y_val_int)\n",
    "        val_f1_macro = self.f1_macro(y_pred, y_val_int)\n",
    "        val_lrap = self.lrap(y_pred, y_val_int)\n",
    "\n",
    "        val_precision_macro = self.precision_macro(y_pred, y_val_int)\n",
    "        val_precision_weighted = self.precision_weighted(y_pred, y_val_int)\n",
    "        val_recall_macro = self.recall_macro(y_pred, y_val_int)\n",
    "        val_recall_weighted = self.recall_weighted(y_pred, y_val_int)\n",
    "\n",
    "        self.log(\n",
    "            \"val_loss\",\n",
    "            val_loss,\n",
    "            on_step=False,\n",
    "            on_epoch=True,\n",
    "            prog_bar=True,\n",
    "            logger=True,\n",
    "        )\n",
    "        self.log(\n",
    "            \"val_accuracy\",\n",
    "            val_accuracy,\n",
    "            on_step=False,\n",
    "            on_epoch=True,\n",
    "            prog_bar=True,\n",
    "            logger=True,\n",
    "        )\n",
    "        self.log(\n",
    "            \"val_accuracy_2\",\n",
    "            val_accuracy_2,\n",
    "            on_step=False,\n",
    "            on_epoch=True,\n",
    "            prog_bar=True,\n",
    "            logger=True,\n",
    "        )\n",
    "        self.log(\n",
    "            \"val_auroc\",\n",
    "            val_auroc,\n",
    "            on_step=False,\n",
    "            on_epoch=True,\n",
    "            prog_bar=True,\n",
    "            logger=True,\n",
    "        )\n",
    "        self.log(\n",
    "            \"val_f1_weighted\",\n",
    "            val_f1_weighted,\n",
    "            on_step=False,\n",
    "            on_epoch=True,\n",
    "            prog_bar=True,\n",
    "            logger=True,\n",
    "        )\n",
    "        self.log(\n",
    "            \"val_f1_macro\",\n",
    "            val_f1_macro,\n",
    "            on_step=False,\n",
    "            on_epoch=True,\n",
    "            prog_bar=True,\n",
    "            logger=True,\n",
    "        )\n",
    "        self.log(\n",
    "            \"val_lrap\",\n",
    "            val_lrap,\n",
    "            on_step=False,\n",
    "            on_epoch=True,\n",
    "            prog_bar=True,\n",
    "            logger=True,\n",
    "        )\n",
    "        self.log(\n",
    "            \"val_precision_macro\",\n",
    "            val_precision_macro,\n",
    "            on_step=False,\n",
    "            on_epoch=True,\n",
    "            prog_bar=True,\n",
    "            logger=True,\n",
    "        )\n",
    "        self.log(\n",
    "            \"val_precision_weighted\",\n",
    "            val_precision_weighted,\n",
    "            on_step=False,\n",
    "            on_epoch=True,\n",
    "            prog_bar=True,\n",
    "            logger=True,\n",
    "        )\n",
    "        self.log(\n",
    "            \"val_recall_macro\",\n",
    "            val_recall_macro,\n",
    "            on_step=False,\n",
    "            on_epoch=True,\n",
    "            prog_bar=True,\n",
    "            logger=True,\n",
    "        )\n",
    "        self.log(\n",
    "            \"val_recall_weighted\",\n",
    "            val_recall_weighted,\n",
    "            on_step=False,\n",
    "            on_epoch=True,\n",
    "            prog_bar=True,\n",
    "            logger=True,\n",
    "        )\n",
    "\n",
    "        return val_loss\n",
    "\n",
    "    def on_train_epoch_end(self):\n",
    "        metrics = self.trainer.progress_bar_callback.get_metrics(trainer, model)\n",
    "        metrics.pop(\"v_num\", None)\n",
    "        metrics.pop(\"train_loss_step\", None)\n",
    "        for key, value in metrics.items():\n",
    "            metrics[key] = round(value, 5)\n",
    "        logger.info(f\"Epoch {self.trainer.current_epoch}: {metrics}\")\n",
    "\n",
    "    def configure_optimizers(self):\n",
    "        # optimizer = Adan(\n",
    "        #     model.parameters(),\n",
    "        #     lr=cfg.lr,\n",
    "        #     betas=(0.02, 0.08, 0.01),\n",
    "        #     weight_decay=cfg.weight_decay,\n",
    "        # )\n",
    "        optimizer = torch.optim.AdamW(\n",
    "            params=self.parameters(),\n",
    "            lr=cfg.lr,\n",
    "            weight_decay=cfg.weight_decay,\n",
    "            fused=False,\n",
    "        )\n",
    "        lr_scheduler = CosineAnnealingWarmRestarts(\n",
    "            optimizer, T_0=cfg.n_epochs, T_mult=1, eta_min=cfg.lr_min, last_epoch=-1\n",
    "        )\n",
    "        return {\n",
    "            \"optimizer\": optimizer,\n",
    "            \"lr_scheduler\": {\n",
    "                \"scheduler\": lr_scheduler,\n",
    "                \"interval\": \"epoch\",\n",
    "                \"monitor\": \"train_loss\",\n",
    "                \"frequency\": 1,\n",
    "            },\n",
    "        }\n"
   ]
  },
  {
   "cell_type": "code",
   "execution_count": 21,
   "metadata": {
    "tags": []
   },
   "outputs": [
    {
     "name": "stderr",
     "output_type": "stream",
     "text": [
      " 2024-06-01 14:29:18,690 [MainThread] 🐦‍🔥 ————————————————————————————————————————————————————————————————————————————————\n",
      " 2024-06-01 14:29:18,692 [MainThread] 🐦‍🔥 Config: \n",
      "{'accelerator': 'gpu',\n",
      " 'add_secondary_labels': False,\n",
      " 'augment_melspec': True,\n",
      " 'backbone': 'tf_efficientnetv2_b0.in1k',\n",
      " 'batch_size': 128,\n",
      " 'data_path': '../data',\n",
      " 'debug_run': False,\n",
      " 'efnetv2_b0': 'tf_efficientnetv2_b0.in1k',\n",
      " 'experiment_name': 'base_mixup_aug',\n",
      " 'experiment_run': False,\n",
      " 'frame_duration': 5,\n",
      " 'frame_rate': 62.5,\n",
      " 'freq_max': 15000,\n",
      " 'freq_min': 40,\n",
      " 'hop_length': 512,\n",
      " 'label_smoothing': 0.1,\n",
      " 'labels': Index(['asbfly', 'ashdro1', 'ashpri1', 'ashwoo2', 'asikoe2', 'asiope1',\n",
      "       'aspfly1', 'aspswi1', 'barfly1', 'barswa',\n",
      "       ...\n",
      "       'whbwoo2', 'whcbar1', 'whiter2', 'whrmun', 'whtkin2', 'woosan',\n",
      "       'wynlau1', 'yebbab1', 'yebbul3', 'zitcis1'],\n",
      "      dtype='object', length=182),\n",
      " 'log_scale_power': 2,\n",
      " 'loss': 'Focal',\n",
      " 'lr': 0.001,\n",
      " 'lr_min': 1e-06,\n",
      " 'max_decibels': 100,\n",
      " 'melspec_hres': 128,\n",
      " 'melspec_wres': 312,\n",
      " 'mixup': True,\n",
      " 'n_epochs': 100,\n",
      " 'n_fft': 2048,\n",
      " 'n_workers': 30,\n",
      " 'normalize_waveform': False,\n",
      " 'num_classes': 182,\n",
      " 'optimizer': 'AdamW',\n",
      " 'patience': 25,\n",
      " 'precision': '16-mixed',\n",
      " 'production_run': True,\n",
      " 'run_tag': '2024-06-01 '\n",
      "            '13:53:58_tf_efficientnetv2_b0.in1k_base_mixup_aug_val_0.2_Focal_AdamW_lr_0.001_decay_1e-06',\n",
      " 'sample_rate': 32000,\n",
      " 'sample_weight_factor': 0.25,\n",
      " 'timestamp': datetime.datetime(2024, 6, 1, 13, 53, 58),\n",
      " 'val_ratio': 0.2,\n",
      " 'weight_decay': 1e-06,\n",
      " 'weighted_sampling': False,\n",
      " 'window_length': None}\n",
      " 2024-06-01 14:29:18,694 [MainThread] 🐦‍🔥 Loading prepared dataframes from ../data\n",
      " 2024-06-01 14:29:18,866 [MainThread] 🐦‍🔥 Running production: full data\n",
      " 2024-06-01 14:29:18,877 [MainThread] 🐦‍🔥 Dataframe shape: (26592, 18)\n",
      " 2024-06-01 14:29:18,892 [MainThread] 🐦‍🔥 Creating label mappings\n"
     ]
    }
   ],
   "source": [
    "# %%\n",
    "if __name__ == \"__main__\":\n",
    "    logger = define_logger()\n",
    "    config_dictionary = get_config(cfg)\n",
    "\n",
    "    csv_logger = None\n",
    "    if not cfg.debug_run:\n",
    "        csv_logger = L.pytorch.loggers.CSVLogger(save_dir=\"../logs/\")\n",
    "        csv_logger.log_hyperparams(config_dictionary)\n",
    "\n",
    "    model_input_df, sample_submission = load_metadata(data_path=cfg.data_path)\n",
    "    model_input_df = add_sample_weights(model_input_df)\n",
    "    class_to_label_map = create_label_map(submission_df=sample_submission)\n"
   ]
  },
  {
   "cell_type": "code",
   "execution_count": 22,
   "metadata": {
    "tags": []
   },
   "outputs": [
    {
     "name": "stderr",
     "output_type": "stream",
     "text": [
      " 2024-06-01 14:29:19,287 [MainThread] 🐦‍🔥 Parallel Loading waveforms\n"
     ]
    },
    {
     "data": {
      "application/vnd.jupyter.widget-view+json": {
       "model_id": "f27b39427e9047f5a4c9736f438f3519",
       "version_major": 2,
       "version_minor": 0
      },
      "text/plain": [
       "Loading waves:   0%|          | 0/26592 [00:00<?, ?it/s]"
      ]
     },
     "metadata": {},
     "output_type": "display_data"
    },
    {
     "name": "stderr",
     "output_type": "stream",
     "text": [
      " 2024-06-01 14:29:43,979 [MainThread] 🐦‍🔥 Finished loadeding waveforms\n"
     ]
    }
   ],
   "source": [
    "# %%\n",
    "waveforms = read_waveforms_parallel(model_input_df=model_input_df)\n"
   ]
  },
  {
   "cell_type": "code",
   "execution_count": 25,
   "metadata": {
    "tags": []
   },
   "outputs": [
    {
     "name": "stderr",
     "output_type": "stream",
     "text": [
      " 2024-06-01 14:33:26,376 [MainThread] 🐦‍🔥 Padding or cropping waveforms to desired duration\n"
     ]
    },
    {
     "data": {
      "application/vnd.jupyter.widget-view+json": {
       "model_id": "ad287be7598a481b95d0307be9731ea5",
       "version_major": 2,
       "version_minor": 0
      },
      "text/plain": [
       "Padding waves:   0%|          | 0/26592 [00:00<?, ?it/s]"
      ]
     },
     "metadata": {},
     "output_type": "display_data"
    }
   ],
   "source": [
    "# %%\n",
    "waveforms = pad_or_crop_waveforms(waveforms=waveforms)\n"
   ]
  },
  {
   "cell_type": "code",
   "execution_count": 26,
   "metadata": {
    "tags": []
   },
   "outputs": [
    {
     "name": "stderr",
     "output_type": "stream",
     "text": [
      " 2024-06-01 14:33:29,042 [MainThread] 🐦‍🔥 Splitting 26592 waveforms into train/val: 0.2\n",
      " 2024-06-01 14:33:29,099 [MainThread] 🐦‍🔥 Dataloaders ready to go brrr\n"
     ]
    }
   ],
   "source": [
    "    # %%\n",
    "    train_augmentation = albumentations.OneOf(\n",
    "        [\n",
    "            # albumentations.AdvancedBlur(p=0.20),\n",
    "            # albumentations.GaussNoise(p=0.20),\n",
    "            # albumentations.ImageCompression(\n",
    "            #     quality_lower=80, quality_upper=100, p=0.20\n",
    "            # ),\n",
    "            albumentations.CoarseDropout(\n",
    "                max_holes=1, min_height=16, min_width=16, max_height=48, max_width=48, p=0.25\n",
    "            ),\n",
    "            albumentations.XYMasking(\n",
    "                p=0.25,\n",
    "                num_masks_x=1,\n",
    "                num_masks_y=1,\n",
    "                mask_x_length=(3, 20),\n",
    "                mask_y_length=(3, 20),\n",
    "            ),\n",
    "            albumentations.RandomGridShuffle(grid=(2, 2), p=0.25),\n",
    "            # albumentations.CLAHE(p=0.10),\n",
    "            # albumentations.Downscale(\n",
    "            #     scale_min=0.2, scale_max=0.9, interpolation=4, p=0.10\n",
    "            # ),\n",
    "            # albumentations.Morphological(p=0.10, scale=(1, 3), operation=\"erosion\"),\n",
    "            # albumentations.Normalize(p=1),\n",
    "        ]\n",
    "    )\n",
    "    # val_augmentation = albumentations.Compose([albumentations.Normalize(p=1)])\n",
    "\n",
    "    # grouped split on sample index to keep different windows from the same sample\n",
    "    # together if splitting randomly this can be considered as a form of leakage\n",
    "    # validating on a windowed waveform while windows of the same waveform were used for\n",
    "    # training is easier than classifying a waveform from a different sample, which is\n",
    "    # the case in practice\n",
    "    logger.info(f\"Splitting {len(waveforms)} waveforms into train/val: {cfg.val_ratio}\")\n",
    "    n_splits = int(round(1 / cfg.val_ratio))\n",
    "    kfold = StratifiedKFold(n_splits=n_splits, shuffle=True)\n",
    "    for fold_index, (train_index, val_index) in enumerate(\n",
    "        kfold.split(\n",
    "            X=model_input_df,\n",
    "            y=model_input_df[\"primary_label\"],\n",
    "        )\n",
    "    ):\n",
    "        break\n",
    "\n",
    "    train_df = model_input_df.iloc[train_index]\n",
    "    val_df = model_input_df.iloc[val_index]\n",
    "\n",
    "    train_waveforms = [waveforms[i] for i in train_index]\n",
    "    val_waveforms = [waveforms[i] for i in val_index]\n",
    "\n",
    "    train_dataset = BirdDataset(df=train_df, waveforms=train_waveforms, augmentation=train_augmentation)\n",
    "    val_dataset = BirdDataset(df=val_df, waveforms=val_waveforms)\n",
    "\n",
    "    train_dataloader = DataLoader(\n",
    "        train_dataset,\n",
    "        batch_size=cfg.batch_size,\n",
    "        drop_last=True,\n",
    "        num_workers=cfg.n_workers,\n",
    "        persistent_workers=True,\n",
    "        pin_memory=True,\n",
    "    )\n",
    "\n",
    "    if cfg.weighted_sampling:\n",
    "        logger.info(\n",
    "            f\"Defining weighted sampling with  factor: {cfg.sample_weight_factor}\"\n",
    "        )\n",
    "        sample_weight = train_df[\"sample_weight\"].values\n",
    "        sample_weight = torch.from_numpy(sample_weight)\n",
    "\n",
    "        weighted_sampler = WeightedRandomSampler(\n",
    "            sample_weight.type(\"torch.DoubleTensor\"),\n",
    "            len(sample_weight),\n",
    "            replacement=True,\n",
    "        )\n",
    "\n",
    "        train_dataloader = DataLoader(\n",
    "            train_dataset,\n",
    "            batch_size=cfg.batch_size,\n",
    "            sampler=weighted_sampler,\n",
    "            drop_last=True,\n",
    "            num_workers=cfg.n_workers,\n",
    "            persistent_workers=True,\n",
    "            pin_memory=True,\n",
    "        )\n",
    "\n",
    "    val_dataloader = DataLoader(\n",
    "        val_dataset,\n",
    "        batch_size=cfg.batch_size,\n",
    "        shuffle=False,\n",
    "        drop_last=True,\n",
    "        num_workers=cfg.n_workers,\n",
    "        persistent_workers=True,\n",
    "        pin_memory=True,\n",
    "    )\n",
    "\n",
    "    logger.info(\"Dataloaders ready to go brrr\")\n"
   ]
  },
  {
   "cell_type": "code",
   "execution_count": 27,
   "metadata": {
    "tags": []
   },
   "outputs": [
    {
     "name": "stderr",
     "output_type": "stream",
     "text": [
      " 2024-06-01 14:33:29,680 [MainThread] 🐦‍🔥 Loading pretrained weights from Hugging Face hub (timm/tf_efficientnetv2_b0.in1k)\n",
      " 2024-06-01 14:33:29,809 [MainThread] 🐦‍🔥 [timm/tf_efficientnetv2_b0.in1k] Safe alternative available for 'pytorch_model.bin' (as 'model.safetensors'). Loading weights using safetensors.\n",
      " 2024-06-01 14:33:29,835 [MainThread] 🐦‍🔥 Unexpected keys (bn2.bias, bn2.num_batches_tracked, bn2.running_mean, bn2.running_var, bn2.weight, classifier.bias, classifier.weight, conv_head.weight) found while loading pretrained weights. This may be expected if model is being adapted.\n",
      " 2024-06-01 14:33:29,837 [MainThread] 🐦‍🔥 EfficientNetV2 feature dims: [112, 192]\n",
      "Using 16bit Automatic Mixed Precision (AMP)\n",
      "GPU available: True (cuda), used: True\n",
      "TPU available: False, using: 0 TPU cores\n",
      "IPU available: False, using: 0 IPUs\n",
      "HPU available: False, using: 0 HPUs\n",
      " 2024-06-01 14:33:29,870 [MainThread] 🐦‍🔥 \n",
      "Start training fold 0\n",
      "LOCAL_RANK: 0 - CUDA_VISIBLE_DEVICES: [0]\n",
      "\n",
      "   | Name               | Type                              | Params\n",
      "--------------------------------------------------------------------------\n",
      "0  | efnetv2            | EfficientNetFeatures              | 5.6 M \n",
      "1  | global_pools       | ModuleList                        | 2     \n",
      "2  | neck               | BatchNorm1d                       | 608   \n",
      "3  | head               | Linear                            | 55.5 K\n",
      "4  | loss_function      | FocalLossBCE                      | 0     \n",
      "5  | accuracy           | MulticlassAccuracy                | 0     \n",
      "6  | accuracy_2         | MulticlassAccuracy                | 0     \n",
      "7  | auroc              | MultilabelAUROC                   | 0     \n",
      "8  | f1_macro           | MultilabelF1Score                 | 0     \n",
      "9  | f1_weighted        | MultilabelF1Score                 | 0     \n",
      "10 | lrap               | MultilabelRankingAveragePrecision | 0     \n",
      "11 | precision_macro    | MultilabelPrecision               | 0     \n",
      "12 | precision_weighted | MultilabelPrecision               | 0     \n",
      "13 | recall_macro       | MultilabelRecall                  | 0     \n",
      "14 | recall_weighted    | MultilabelRecall                  | 0     \n",
      "--------------------------------------------------------------------------\n",
      "5.7 M     Trainable params\n",
      "0         Non-trainable params\n",
      "5.7 M     Total params\n",
      "22.666    Total estimated model params size (MB)\n"
     ]
    },
    {
     "data": {
      "application/vnd.jupyter.widget-view+json": {
       "model_id": "",
       "version_major": 2,
       "version_minor": 0
      },
      "text/plain": [
       "Sanity Checking: |          | 0/? [00:00<?, ?it/s]"
      ]
     },
     "metadata": {},
     "output_type": "display_data"
    },
    {
     "data": {
      "application/vnd.jupyter.widget-view+json": {
       "model_id": "5524a6190bf241a8a21491c15e27f092",
       "version_major": 2,
       "version_minor": 0
      },
      "text/plain": [
       "Training: |          | 0/? [00:00<?, ?it/s]"
      ]
     },
     "metadata": {},
     "output_type": "display_data"
    },
    {
     "data": {
      "application/vnd.jupyter.widget-view+json": {
       "model_id": "",
       "version_major": 2,
       "version_minor": 0
      },
      "text/plain": [
       "Validation: |          | 0/? [00:00<?, ?it/s]"
      ]
     },
     "metadata": {},
     "output_type": "display_data"
    },
    {
     "name": "stderr",
     "output_type": "stream",
     "text": [
      " 2024-06-01 14:34:50,396 [MainThread] 🐦‍🔥 Epoch 0: {'val_loss': 0.04834, 'val_accuracy': 0.05888, 'val_accuracy_2': 0.10252, 'val_auroc': 0.23459, 'val_f1_weighted': 0.0, 'val_f1_macro': 0.0, 'val_lrap': 0.14154, 'val_precision_macro': 0.0, 'val_precision_weighted': 0.0, 'val_recall_macro': 0.0, 'val_recall_weighted': 0.0, 'train_loss_epoch': 0.33784, 'train_accuracy': 0.02866, 'train_accuracy_2': 0.05328, 'train_f1_weighted': 0.00943, 'train_f1_macro': 0.00249, 'train_lrap': 0.089, 'train_precision_macro': 0.00144, 'train_precision_weighted': 0.0056, 'train_recall_macro': 0.02953, 'train_recall_weighted': 0.08198}\n",
      "Metric train_lrap improved. New best score: 0.089\n"
     ]
    },
    {
     "data": {
      "application/vnd.jupyter.widget-view+json": {
       "model_id": "",
       "version_major": 2,
       "version_minor": 0
      },
      "text/plain": [
       "Validation: |          | 0/? [00:00<?, ?it/s]"
      ]
     },
     "metadata": {},
     "output_type": "display_data"
    },
    {
     "name": "stderr",
     "output_type": "stream",
     "text": [
      " 2024-06-01 14:35:41,158 [MainThread] 🐦‍🔥 Epoch 1: {'val_loss': 0.03483, 'val_accuracy': 0.12062, 'val_accuracy_2': 0.18998, 'val_auroc': 0.28993, 'val_f1_weighted': 0.0012, 'val_f1_macro': 0.00023, 'val_lrap': 0.22761, 'val_precision_macro': 0.00054, 'val_precision_weighted': 0.00343, 'val_recall_macro': 0.00015, 'val_recall_weighted': 0.00076, 'train_loss_epoch': 0.03988, 'train_accuracy': 0.06998, 'train_accuracy_2': 0.11507, 'train_f1_weighted': 0.00305, 'train_f1_macro': 0.00071, 'train_lrap': 0.15694, 'train_precision_macro': 0.00114, 'train_precision_weighted': 0.00545, 'train_recall_macro': 0.00056, 'train_recall_weighted': 0.00231}\n",
      "Metric train_lrap improved by 0.068 >= min_delta = 0.01. New best score: 0.157\n"
     ]
    },
    {
     "data": {
      "application/vnd.jupyter.widget-view+json": {
       "model_id": "",
       "version_major": 2,
       "version_minor": 0
      },
      "text/plain": [
       "Validation: |          | 0/? [00:00<?, ?it/s]"
      ]
     },
     "metadata": {},
     "output_type": "display_data"
    },
    {
     "name": "stderr",
     "output_type": "stream",
     "text": [
      " 2024-06-01 14:36:31,874 [MainThread] 🐦‍🔥 Epoch 2: {'val_loss': 0.02637, 'val_accuracy': 0.33727, 'val_accuracy_2': 0.44474, 'val_auroc': 0.34365, 'val_f1_weighted': 0.15734, 'val_f1_macro': 0.03854, 'val_lrap': 0.45366, 'val_precision_macro': 0.05645, 'val_precision_weighted': 0.25386, 'val_recall_macro': 0.03271, 'val_recall_weighted': 0.12614, 'train_loss_epoch': 0.0313, 'train_accuracy': 0.24642, 'train_accuracy_2': 0.32765, 'train_f1_weighted': 0.06609, 'train_f1_macro': 0.01643, 'train_lrap': 0.35013, 'train_precision_macro': 0.02476, 'train_precision_weighted': 0.11307, 'train_recall_macro': 0.01376, 'train_recall_weighted': 0.05172}\n",
      "Metric train_lrap improved by 0.193 >= min_delta = 0.01. New best score: 0.350\n"
     ]
    },
    {
     "data": {
      "application/vnd.jupyter.widget-view+json": {
       "model_id": "",
       "version_major": 2,
       "version_minor": 0
      },
      "text/plain": [
       "Validation: |          | 0/? [00:00<?, ?it/s]"
      ]
     },
     "metadata": {},
     "output_type": "display_data"
    },
    {
     "name": "stderr",
     "output_type": "stream",
     "text": [
      " 2024-06-01 14:37:22,392 [MainThread] 🐦‍🔥 Epoch 3: {'val_loss': 0.02057, 'val_accuracy': 0.5242, 'val_accuracy_2': 0.62576, 'val_auroc': 0.35829, 'val_f1_weighted': 0.34677, 'val_f1_macro': 0.09587, 'val_lrap': 0.62365, 'val_precision_macro': 0.12166, 'val_precision_weighted': 0.47511, 'val_recall_macro': 0.08575, 'val_recall_weighted': 0.29497, 'train_loss_epoch': 0.0259, 'train_accuracy': 0.38192, 'train_accuracy_2': 0.47689, 'train_f1_weighted': 0.19558, 'train_f1_macro': 0.05271, 'train_lrap': 0.48581, 'train_precision_macro': 0.07069, 'train_precision_weighted': 0.29108, 'train_recall_macro': 0.04652, 'train_recall_weighted': 0.16194}\n",
      "Metric train_lrap improved by 0.136 >= min_delta = 0.01. New best score: 0.486\n"
     ]
    },
    {
     "data": {
      "application/vnd.jupyter.widget-view+json": {
       "model_id": "",
       "version_major": 2,
       "version_minor": 0
      },
      "text/plain": [
       "Validation: |          | 0/? [00:00<?, ?it/s]"
      ]
     },
     "metadata": {},
     "output_type": "display_data"
    },
    {
     "name": "stderr",
     "output_type": "stream",
     "text": [
      " 2024-06-01 14:38:12,907 [MainThread] 🐦‍🔥 Epoch 4: {'val_loss': 0.0219, 'val_accuracy': 0.48037, 'val_accuracy_2': 0.58136, 'val_auroc': 0.35829, 'val_f1_weighted': 0.30114, 'val_f1_macro': 0.09199, 'val_lrap': 0.58322, 'val_precision_macro': 0.1142, 'val_precision_weighted': 0.4134, 'val_recall_macro': 0.08471, 'val_recall_weighted': 0.26105, 'train_loss_epoch': 0.02289, 'train_accuracy': 0.45825, 'train_accuracy_2': 0.55939, 'train_f1_weighted': 0.27067, 'train_f1_macro': 0.07669, 'train_lrap': 0.56082, 'train_precision_macro': 0.09638, 'train_precision_weighted': 0.37171, 'train_recall_macro': 0.06971, 'train_recall_weighted': 0.23245}\n",
      "Metric train_lrap improved by 0.075 >= min_delta = 0.01. New best score: 0.561\n"
     ]
    },
    {
     "data": {
      "application/vnd.jupyter.widget-view+json": {
       "model_id": "",
       "version_major": 2,
       "version_minor": 0
      },
      "text/plain": [
       "Validation: |          | 0/? [00:00<?, ?it/s]"
      ]
     },
     "metadata": {},
     "output_type": "display_data"
    },
    {
     "name": "stderr",
     "output_type": "stream",
     "text": [
      " 2024-06-01 14:39:03,725 [MainThread] 🐦‍🔥 Epoch 5: {'val_loss': 0.01879, 'val_accuracy': 0.55659, 'val_accuracy_2': 0.65911, 'val_auroc': 0.3612, 'val_f1_weighted': 0.30415, 'val_f1_macro': 0.09249, 'val_lrap': 0.65468, 'val_precision_macro': 0.11864, 'val_precision_weighted': 0.43711, 'val_recall_macro': 0.08263, 'val_recall_weighted': 0.25495, 'train_loss_epoch': 0.02213, 'train_accuracy': 0.47487, 'train_accuracy_2': 0.57888, 'train_f1_weighted': 0.29426, 'train_f1_macro': 0.08773, 'train_lrap': 0.5774, 'train_precision_macro': 0.10611, 'train_precision_weighted': 0.38629, 'train_recall_macro': 0.08136, 'train_recall_weighted': 0.25913}\n",
      "Metric train_lrap improved by 0.017 >= min_delta = 0.01. New best score: 0.577\n"
     ]
    },
    {
     "data": {
      "application/vnd.jupyter.widget-view+json": {
       "model_id": "",
       "version_major": 2,
       "version_minor": 0
      },
      "text/plain": [
       "Validation: |          | 0/? [00:00<?, ?it/s]"
      ]
     },
     "metadata": {},
     "output_type": "display_data"
    },
    {
     "name": "stderr",
     "output_type": "stream",
     "text": [
      " 2024-06-01 14:39:54,586 [MainThread] 🐦‍🔥 Epoch 6: {'val_loss': 0.01639, 'val_accuracy': 0.61261, 'val_accuracy_2': 0.70941, 'val_auroc': 0.36492, 'val_f1_weighted': 0.41761, 'val_f1_macro': 0.1226, 'val_lrap': 0.70119, 'val_precision_macro': 0.14799, 'val_precision_weighted': 0.54071, 'val_recall_macro': 0.11244, 'val_recall_weighted': 0.36585, 'train_loss_epoch': 0.02032, 'train_accuracy': 0.52612, 'train_accuracy_2': 0.63554, 'train_f1_weighted': 0.34816, 'train_f1_macro': 0.1063, 'train_lrap': 0.62559, 'train_precision_macro': 0.12603, 'train_precision_weighted': 0.44484, 'train_recall_macro': 0.09935, 'train_recall_weighted': 0.30958}\n",
      "Metric train_lrap improved by 0.048 >= min_delta = 0.01. New best score: 0.626\n"
     ]
    },
    {
     "data": {
      "application/vnd.jupyter.widget-view+json": {
       "model_id": "",
       "version_major": 2,
       "version_minor": 0
      },
      "text/plain": [
       "Validation: |          | 0/? [00:00<?, ?it/s]"
      ]
     },
     "metadata": {},
     "output_type": "display_data"
    },
    {
     "name": "stderr",
     "output_type": "stream",
     "text": [
      " 2024-06-01 14:40:45,661 [MainThread] 🐦‍🔥 Epoch 7: {'val_loss': 0.01531, 'val_accuracy': 0.64082, 'val_accuracy_2': 0.73838, 'val_auroc': 0.3655, 'val_f1_weighted': 0.50853, 'val_f1_macro': 0.15631, 'val_lrap': 0.72667, 'val_precision_macro': 0.18256, 'val_precision_weighted': 0.62727, 'val_recall_macro': 0.14622, 'val_recall_weighted': 0.45827, 'train_loss_epoch': 0.01926, 'train_accuracy': 0.54777, 'train_accuracy_2': 0.65601, 'train_f1_weighted': 0.38097, 'train_f1_macro': 0.11988, 'train_lrap': 0.64627, 'train_precision_macro': 0.13851, 'train_precision_weighted': 0.47116, 'train_recall_macro': 0.11349, 'train_recall_weighted': 0.34511}\n",
      "Metric train_lrap improved by 0.021 >= min_delta = 0.01. New best score: 0.646\n"
     ]
    },
    {
     "data": {
      "application/vnd.jupyter.widget-view+json": {
       "model_id": "",
       "version_major": 2,
       "version_minor": 0
      },
      "text/plain": [
       "Validation: |          | 0/? [00:00<?, ?it/s]"
      ]
     },
     "metadata": {},
     "output_type": "display_data"
    },
    {
     "name": "stderr",
     "output_type": "stream",
     "text": [
      " 2024-06-01 14:41:36,697 [MainThread] 🐦‍🔥 Epoch 8: {'val_loss': 0.01692, 'val_accuracy': 0.62424, 'val_accuracy_2': 0.7258, 'val_auroc': 0.3639, 'val_f1_weighted': 0.31181, 'val_f1_macro': 0.09525, 'val_lrap': 0.71276, 'val_precision_macro': 0.12495, 'val_precision_weighted': 0.45709, 'val_recall_macro': 0.08395, 'val_recall_weighted': 0.25781, 'train_loss_epoch': 0.01828, 'train_accuracy': 0.57248, 'train_accuracy_2': 0.68166, 'train_f1_weighted': 0.41379, 'train_f1_macro': 0.13351, 'train_lrap': 0.66875, 'train_precision_macro': 0.15061, 'train_precision_weighted': 0.49586, 'train_recall_macro': 0.12781, 'train_recall_weighted': 0.38065}\n",
      "Metric train_lrap improved by 0.022 >= min_delta = 0.01. New best score: 0.669\n"
     ]
    },
    {
     "data": {
      "application/vnd.jupyter.widget-view+json": {
       "model_id": "",
       "version_major": 2,
       "version_minor": 0
      },
      "text/plain": [
       "Validation: |          | 0/? [00:00<?, ?it/s]"
      ]
     },
     "metadata": {},
     "output_type": "display_data"
    },
    {
     "name": "stderr",
     "output_type": "stream",
     "text": [
      " 2024-06-01 14:42:27,797 [MainThread] 🐦‍🔥 Epoch 9: {'val_loss': 0.01573, 'val_accuracy': 0.62557, 'val_accuracy_2': 0.72066, 'val_auroc': 0.36531, 'val_f1_weighted': 0.48252, 'val_f1_macro': 0.14589, 'val_lrap': 0.71146, 'val_precision_macro': 0.16846, 'val_precision_weighted': 0.58759, 'val_recall_macro': 0.13786, 'val_recall_weighted': 0.43998, 'train_loss_epoch': 0.01719, 'train_accuracy': 0.59314, 'train_accuracy_2': 0.70868, 'train_f1_weighted': 0.43721, 'train_f1_macro': 0.14407, 'train_lrap': 0.69079, 'train_precision_macro': 0.16141, 'train_precision_weighted': 0.52009, 'train_recall_macro': 0.13876, 'train_recall_weighted': 0.40432}\n",
      "Metric train_lrap improved by 0.022 >= min_delta = 0.01. New best score: 0.691\n"
     ]
    },
    {
     "data": {
      "application/vnd.jupyter.widget-view+json": {
       "model_id": "",
       "version_major": 2,
       "version_minor": 0
      },
      "text/plain": [
       "Validation: |          | 0/? [00:00<?, ?it/s]"
      ]
     },
     "metadata": {},
     "output_type": "display_data"
    },
    {
     "name": "stderr",
     "output_type": "stream",
     "text": [
      " 2024-06-01 14:43:20,261 [MainThread] 🐦‍🔥 Epoch 10: {'val_loss': 0.01838, 'val_accuracy': 0.57851, 'val_accuracy_2': 0.68083, 'val_auroc': 0.36269, 'val_f1_weighted': 0.25878, 'val_f1_macro': 0.07893, 'val_lrap': 0.67427, 'val_precision_macro': 0.10356, 'val_precision_weighted': 0.38339, 'val_recall_macro': 0.07009, 'val_recall_weighted': 0.21456, 'train_loss_epoch': 0.01731, 'train_accuracy': 0.59083, 'train_accuracy_2': 0.70811, 'train_f1_weighted': 0.43972, 'train_f1_macro': 0.1471, 'train_lrap': 0.68881, 'train_precision_macro': 0.16369, 'train_precision_weighted': 0.51876, 'train_recall_macro': 0.14182, 'train_recall_weighted': 0.40851}\n"
     ]
    },
    {
     "data": {
      "application/vnd.jupyter.widget-view+json": {
       "model_id": "",
       "version_major": 2,
       "version_minor": 0
      },
      "text/plain": [
       "Validation: |          | 0/? [00:00<?, ?it/s]"
      ]
     },
     "metadata": {},
     "output_type": "display_data"
    },
    {
     "name": "stderr",
     "output_type": "stream",
     "text": [
      " 2024-06-01 14:44:11,072 [MainThread] 🐦‍🔥 Epoch 11: {'val_loss': 0.01396, 'val_accuracy': 0.66959, 'val_accuracy_2': 0.76181, 'val_auroc': 0.36713, 'val_f1_weighted': 0.55767, 'val_f1_macro': 0.17634, 'val_lrap': 0.74915, 'val_precision_macro': 0.20057, 'val_precision_weighted': 0.66602, 'val_recall_macro': 0.16735, 'val_recall_weighted': 0.5122, 'train_loss_epoch': 0.01705, 'train_accuracy': 0.59399, 'train_accuracy_2': 0.71804, 'train_f1_weighted': 0.43175, 'train_f1_macro': 0.14451, 'train_lrap': 0.6944, 'train_precision_macro': 0.15989, 'train_precision_weighted': 0.50718, 'train_recall_macro': 0.14013, 'train_recall_weighted': 0.40263}\n"
     ]
    },
    {
     "data": {
      "application/vnd.jupyter.widget-view+json": {
       "model_id": "",
       "version_major": 2,
       "version_minor": 0
      },
      "text/plain": [
       "Validation: |          | 0/? [00:00<?, ?it/s]"
      ]
     },
     "metadata": {},
     "output_type": "display_data"
    },
    {
     "name": "stderr",
     "output_type": "stream",
     "text": [
      " 2024-06-01 14:45:02,431 [MainThread] 🐦‍🔥 Epoch 12: {'val_loss': 0.01434, 'val_accuracy': 0.66902, 'val_accuracy_2': 0.75553, 'val_auroc': 0.36705, 'val_f1_weighted': 0.54421, 'val_f1_macro': 0.17361, 'val_lrap': 0.7471, 'val_precision_macro': 0.19831, 'val_precision_weighted': 0.65829, 'val_recall_macro': 0.16499, 'val_recall_weighted': 0.49733, 'train_loss_epoch': 0.01624, 'train_accuracy': 0.6138, 'train_accuracy_2': 0.73786, 'train_f1_weighted': 0.46111, 'train_f1_macro': 0.15802, 'train_lrap': 0.71207, 'train_precision_macro': 0.17408, 'train_precision_weighted': 0.53861, 'train_recall_macro': 0.15317, 'train_recall_weighted': 0.43148}\n",
      "Metric train_lrap improved by 0.021 >= min_delta = 0.01. New best score: 0.712\n"
     ]
    },
    {
     "data": {
      "application/vnd.jupyter.widget-view+json": {
       "model_id": "",
       "version_major": 2,
       "version_minor": 0
      },
      "text/plain": [
       "Validation: |          | 0/? [00:00<?, ?it/s]"
      ]
     },
     "metadata": {},
     "output_type": "display_data"
    },
    {
     "name": "stderr",
     "output_type": "stream",
     "text": [
      " 2024-06-01 14:45:54,106 [MainThread] 🐦‍🔥 Epoch 13: {'val_loss': 0.01559, 'val_accuracy': 0.64444, 'val_accuracy_2': 0.73971, 'val_auroc': 0.36495, 'val_f1_weighted': 0.44958, 'val_f1_macro': 0.14202, 'val_lrap': 0.7286, 'val_precision_macro': 0.17123, 'val_precision_weighted': 0.58918, 'val_recall_macro': 0.13085, 'val_recall_weighted': 0.39425, 'train_loss_epoch': 0.01521, 'train_accuracy': 0.64241, 'train_accuracy_2': 0.75795, 'train_f1_weighted': 0.50197, 'train_f1_macro': 0.1747, 'train_lrap': 0.73438, 'train_precision_macro': 0.18878, 'train_precision_weighted': 0.57054, 'train_recall_macro': 0.171, 'train_recall_weighted': 0.4759}\n",
      "Metric train_lrap improved by 0.022 >= min_delta = 0.01. New best score: 0.734\n"
     ]
    },
    {
     "data": {
      "application/vnd.jupyter.widget-view+json": {
       "model_id": "",
       "version_major": 2,
       "version_minor": 0
      },
      "text/plain": [
       "Validation: |          | 0/? [00:00<?, ?it/s]"
      ]
     },
     "metadata": {},
     "output_type": "display_data"
    },
    {
     "name": "stderr",
     "output_type": "stream",
     "text": [
      " 2024-06-01 14:46:46,267 [MainThread] 🐦‍🔥 Epoch 14: {'val_loss': 0.01353, 'val_accuracy': 0.68483, 'val_accuracy_2': 0.76791, 'val_auroc': 0.36693, 'val_f1_weighted': 0.59273, 'val_f1_macro': 0.19183, 'val_lrap': 0.75953, 'val_precision_macro': 0.21391, 'val_precision_weighted': 0.69335, 'val_recall_macro': 0.1847, 'val_recall_weighted': 0.55088, 'train_loss_epoch': 0.01281, 'train_accuracy': 0.70284, 'train_accuracy_2': 0.81062, 'train_f1_weighted': 0.57975, 'train_f1_macro': 0.20543, 'train_lrap': 0.78543, 'train_precision_macro': 0.21889, 'train_precision_weighted': 0.64417, 'train_recall_macro': 0.20198, 'train_recall_weighted': 0.5545}\n",
      "Metric train_lrap improved by 0.051 >= min_delta = 0.01. New best score: 0.785\n"
     ]
    },
    {
     "data": {
      "application/vnd.jupyter.widget-view+json": {
       "model_id": "",
       "version_major": 2,
       "version_minor": 0
      },
      "text/plain": [
       "Validation: |          | 0/? [00:00<?, ?it/s]"
      ]
     },
     "metadata": {},
     "output_type": "display_data"
    },
    {
     "name": "stderr",
     "output_type": "stream",
     "text": [
      " 2024-06-01 14:47:38,081 [MainThread] 🐦‍🔥 Epoch 15: {'val_loss': 0.01516, 'val_accuracy': 0.65111, 'val_accuracy_2': 0.74066, 'val_auroc': 0.36442, 'val_f1_weighted': 0.51708, 'val_f1_macro': 0.16326, 'val_lrap': 0.73286, 'val_precision_macro': 0.18786, 'val_precision_weighted': 0.62996, 'val_recall_macro': 0.15456, 'val_recall_weighted': 0.47123, 'train_loss_epoch': 0.01439, 'train_accuracy': 0.66627, 'train_accuracy_2': 0.77956, 'train_f1_weighted': 0.53462, 'train_f1_macro': 0.18935, 'train_lrap': 0.75399, 'train_precision_macro': 0.20163, 'train_precision_weighted': 0.59426, 'train_recall_macro': 0.18628, 'train_recall_weighted': 0.51181}\n"
     ]
    },
    {
     "data": {
      "application/vnd.jupyter.widget-view+json": {
       "model_id": "",
       "version_major": 2,
       "version_minor": 0
      },
      "text/plain": [
       "Validation: |          | 0/? [00:00<?, ?it/s]"
      ]
     },
     "metadata": {},
     "output_type": "display_data"
    },
    {
     "name": "stderr",
     "output_type": "stream",
     "text": [
      " 2024-06-01 14:48:29,409 [MainThread] 🐦‍🔥 Epoch 16: {'val_loss': 0.01371, 'val_accuracy': 0.68883, 'val_accuracy_2': 0.77782, 'val_auroc': 0.36686, 'val_f1_weighted': 0.57225, 'val_f1_macro': 0.18537, 'val_lrap': 0.76448, 'val_precision_macro': 0.20763, 'val_precision_weighted': 0.67515, 'val_recall_macro': 0.17796, 'val_recall_weighted': 0.52992, 'train_loss_epoch': 0.01444, 'train_accuracy': 0.65267, 'train_accuracy_2': 0.77814, 'train_f1_weighted': 0.51085, 'train_f1_macro': 0.18189, 'train_lrap': 0.74826, 'train_precision_macro': 0.19468, 'train_precision_weighted': 0.57408, 'train_recall_macro': 0.17899, 'train_recall_weighted': 0.48781}\n"
     ]
    },
    {
     "data": {
      "application/vnd.jupyter.widget-view+json": {
       "model_id": "",
       "version_major": 2,
       "version_minor": 0
      },
      "text/plain": [
       "Validation: |          | 0/? [00:00<?, ?it/s]"
      ]
     },
     "metadata": {},
     "output_type": "display_data"
    },
    {
     "name": "stderr",
     "output_type": "stream",
     "text": [
      " 2024-06-01 14:49:20,806 [MainThread] 🐦‍🔥 Epoch 17: {'val_loss': 0.01387, 'val_accuracy': 0.68598, 'val_accuracy_2': 0.77382, 'val_auroc': 0.36602, 'val_f1_weighted': 0.55855, 'val_f1_macro': 0.17973, 'val_lrap': 0.76201, 'val_precision_macro': 0.20532, 'val_precision_weighted': 0.67423, 'val_recall_macro': 0.17039, 'val_recall_weighted': 0.51029, 'train_loss_epoch': 0.01303, 'train_accuracy': 0.69701, 'train_accuracy_2': 0.81024, 'train_f1_weighted': 0.57377, 'train_f1_macro': 0.20551, 'train_lrap': 0.78148, 'train_precision_macro': 0.21821, 'train_precision_weighted': 0.63428, 'train_recall_macro': 0.2026, 'train_recall_weighted': 0.55135}\n"
     ]
    },
    {
     "data": {
      "application/vnd.jupyter.widget-view+json": {
       "model_id": "",
       "version_major": 2,
       "version_minor": 0
      },
      "text/plain": [
       "Validation: |          | 0/? [00:00<?, ?it/s]"
      ]
     },
     "metadata": {},
     "output_type": "display_data"
    },
    {
     "name": "stderr",
     "output_type": "stream",
     "text": [
      " 2024-06-01 14:50:12,314 [MainThread] 🐦‍🔥 Epoch 18: {'val_loss': 0.01499, 'val_accuracy': 0.6633, 'val_accuracy_2': 0.75572, 'val_auroc': 0.36497, 'val_f1_weighted': 0.50464, 'val_f1_macro': 0.16187, 'val_lrap': 0.74225, 'val_precision_macro': 0.18831, 'val_precision_weighted': 0.62997, 'val_recall_macro': 0.15205, 'val_recall_weighted': 0.45293, 'train_loss_epoch': 0.0151, 'train_accuracy': 0.6346, 'train_accuracy_2': 0.76788, 'train_f1_weighted': 0.48839, 'train_f1_macro': 0.17432, 'train_lrap': 0.73518, 'train_precision_macro': 0.18608, 'train_precision_weighted': 0.5479, 'train_recall_macro': 0.17219, 'train_recall_weighted': 0.46776}\n"
     ]
    },
    {
     "data": {
      "application/vnd.jupyter.widget-view+json": {
       "model_id": "",
       "version_major": 2,
       "version_minor": 0
      },
      "text/plain": [
       "Validation: |          | 0/? [00:00<?, ?it/s]"
      ]
     },
     "metadata": {},
     "output_type": "display_data"
    },
    {
     "name": "stderr",
     "output_type": "stream",
     "text": [
      " 2024-06-01 14:51:04,388 [MainThread] 🐦‍🔥 Epoch 19: {'val_loss': 0.01401, 'val_accuracy': 0.6835, 'val_accuracy_2': 0.77077, 'val_auroc': 0.36585, 'val_f1_weighted': 0.5894, 'val_f1_macro': 0.19379, 'val_lrap': 0.75915, 'val_precision_macro': 0.21584, 'val_precision_weighted': 0.69206, 'val_recall_macro': 0.18685, 'val_recall_weighted': 0.54668, 'train_loss_epoch': 0.01305, 'train_accuracy': 0.69094, 'train_accuracy_2': 0.80723, 'train_f1_weighted': 0.56776, 'train_f1_macro': 0.2043, 'train_lrap': 0.7774, 'train_precision_macro': 0.21582, 'train_precision_weighted': 0.62335, 'train_recall_macro': 0.20153, 'train_recall_weighted': 0.54749}\n"
     ]
    },
    {
     "data": {
      "application/vnd.jupyter.widget-view+json": {
       "model_id": "",
       "version_major": 2,
       "version_minor": 0
      },
      "text/plain": [
       "Validation: |          | 0/? [00:00<?, ?it/s]"
      ]
     },
     "metadata": {},
     "output_type": "display_data"
    },
    {
     "name": "stderr",
     "output_type": "stream",
     "text": [
      " 2024-06-01 14:51:55,560 [MainThread] 🐦‍🔥 Epoch 20: {'val_loss': 0.0131, 'val_accuracy': 0.70141, 'val_accuracy_2': 0.78277, 'val_auroc': 0.36715, 'val_f1_weighted': 0.60613, 'val_f1_macro': 0.20021, 'val_lrap': 0.77304, 'val_precision_macro': 0.22396, 'val_precision_weighted': 0.71339, 'val_recall_macro': 0.19155, 'val_recall_weighted': 0.56021, 'train_loss_epoch': 0.01348, 'train_accuracy': 0.66896, 'train_accuracy_2': 0.79796, 'train_f1_weighted': 0.53127, 'train_f1_macro': 0.19267, 'train_lrap': 0.76397, 'train_precision_macro': 0.20289, 'train_precision_weighted': 0.58255, 'train_recall_macro': 0.19098, 'train_recall_weighted': 0.51379}\n"
     ]
    },
    {
     "data": {
      "application/vnd.jupyter.widget-view+json": {
       "model_id": "",
       "version_major": 2,
       "version_minor": 0
      },
      "text/plain": [
       "Validation: |          | 0/? [00:00<?, ?it/s]"
      ]
     },
     "metadata": {},
     "output_type": "display_data"
    },
    {
     "name": "stderr",
     "output_type": "stream",
     "text": [
      " 2024-06-01 14:52:47,408 [MainThread] 🐦‍🔥 Epoch 21: {'val_loss': 0.014, 'val_accuracy': 0.6896, 'val_accuracy_2': 0.77325, 'val_auroc': 0.36594, 'val_f1_weighted': 0.54374, 'val_f1_macro': 0.17551, 'val_lrap': 0.76304, 'val_precision_macro': 0.2025, 'val_precision_weighted': 0.67023, 'val_recall_macro': 0.16572, 'val_recall_weighted': 0.49162, 'train_loss_epoch': 0.01226, 'train_accuracy': 0.70218, 'train_accuracy_2': 0.82737, 'train_f1_weighted': 0.57945, 'train_f1_macro': 0.21113, 'train_lrap': 0.79143, 'train_precision_macro': 0.2219, 'train_precision_weighted': 0.6335, 'train_recall_macro': 0.20922, 'train_recall_weighted': 0.56043}\n"
     ]
    },
    {
     "data": {
      "application/vnd.jupyter.widget-view+json": {
       "model_id": "",
       "version_major": 2,
       "version_minor": 0
      },
      "text/plain": [
       "Validation: |          | 0/? [00:00<?, ?it/s]"
      ]
     },
     "metadata": {},
     "output_type": "display_data"
    },
    {
     "name": "stderr",
     "output_type": "stream",
     "text": [
      " 2024-06-01 14:53:39,307 [MainThread] 🐦‍🔥 Epoch 22: {'val_loss': 0.01345, 'val_accuracy': 0.70198, 'val_accuracy_2': 0.78392, 'val_auroc': 0.36631, 'val_f1_weighted': 0.56446, 'val_f1_macro': 0.18303, 'val_lrap': 0.77274, 'val_precision_macro': 0.20936, 'val_precision_weighted': 0.68378, 'val_recall_macro': 0.17285, 'val_recall_weighted': 0.51315, 'train_loss_epoch': 0.01208, 'train_accuracy': 0.70901, 'train_accuracy_2': 0.83151, 'train_f1_weighted': 0.58653, 'train_f1_macro': 0.21363, 'train_lrap': 0.79618, 'train_precision_macro': 0.22351, 'train_precision_weighted': 0.63619, 'train_recall_macro': 0.21226, 'train_recall_weighted': 0.5697}\n",
      "Metric train_lrap improved by 0.011 >= min_delta = 0.01. New best score: 0.796\n"
     ]
    },
    {
     "data": {
      "application/vnd.jupyter.widget-view+json": {
       "model_id": "",
       "version_major": 2,
       "version_minor": 0
      },
      "text/plain": [
       "Validation: |          | 0/? [00:00<?, ?it/s]"
      ]
     },
     "metadata": {},
     "output_type": "display_data"
    },
    {
     "name": "stderr",
     "output_type": "stream",
     "text": [
      " 2024-06-01 14:54:31,120 [MainThread] 🐦‍🔥 Epoch 23: {'val_loss': 0.01283, 'val_accuracy': 0.7096, 'val_accuracy_2': 0.78716, 'val_auroc': 0.36657, 'val_f1_weighted': 0.62238, 'val_f1_macro': 0.20358, 'val_lrap': 0.77773, 'val_precision_macro': 0.22508, 'val_precision_weighted': 0.71924, 'val_recall_macro': 0.19636, 'val_recall_weighted': 0.58117, 'train_loss_epoch': 0.01136, 'train_accuracy': 0.72463, 'train_accuracy_2': 0.83796, 'train_f1_weighted': 0.61554, 'train_f1_macro': 0.22695, 'train_lrap': 0.80613, 'train_precision_macro': 0.23576, 'train_precision_weighted': 0.66043, 'train_recall_macro': 0.22546, 'train_recall_weighted': 0.60006}\n"
     ]
    },
    {
     "data": {
      "application/vnd.jupyter.widget-view+json": {
       "model_id": "145f3cddec434eefb0d4ea7ec9b5ea27",
       "version_major": 2,
       "version_minor": 0
      },
      "text/plain": [
       "Validation: |          | 0/? [00:00<?, ?it/s]"
      ]
     },
     "metadata": {},
     "output_type": "display_data"
    },
    {
     "name": "stderr",
     "output_type": "stream",
     "text": [
      " 2024-06-01 14:55:23,063 [MainThread] 🐦‍🔥 Epoch 24: {'val_loss': 0.01368, 'val_accuracy': 0.69989, 'val_accuracy_2': 0.77915, 'val_auroc': 0.36549, 'val_f1_weighted': 0.57495, 'val_f1_macro': 0.18701, 'val_lrap': 0.76956, 'val_precision_macro': 0.21119, 'val_precision_weighted': 0.68632, 'val_recall_macro': 0.17812, 'val_recall_weighted': 0.52706, 'train_loss_epoch': 0.00962, 'train_accuracy': 0.77603, 'train_accuracy_2': 0.87401, 'train_f1_weighted': 0.68309, 'train_f1_macro': 0.25216, 'train_lrap': 0.84406, 'train_precision_macro': 0.26007, 'train_precision_weighted': 0.72392, 'train_recall_macro': 0.25114, 'train_recall_weighted': 0.66952}\n",
      "Metric train_lrap improved by 0.048 >= min_delta = 0.01. New best score: 0.844\n"
     ]
    },
    {
     "data": {
      "application/vnd.jupyter.widget-view+json": {
       "model_id": "a2adf870fca64bf4afd1d3c1fafec2ac",
       "version_major": 2,
       "version_minor": 0
      },
      "text/plain": [
       "Validation: |          | 0/? [00:00<?, ?it/s]"
      ]
     },
     "metadata": {},
     "output_type": "display_data"
    },
    {
     "name": "stderr",
     "output_type": "stream",
     "text": [
      " 2024-06-01 14:56:16,107 [MainThread] 🐦‍🔥 Epoch 25: {'val_loss': 0.01365, 'val_accuracy': 0.69322, 'val_accuracy_2': 0.77229, 'val_auroc': 0.36656, 'val_f1_weighted': 0.59302, 'val_f1_macro': 0.19364, 'val_lrap': 0.76408, 'val_precision_macro': 0.21559, 'val_precision_weighted': 0.69332, 'val_recall_macro': 0.18669, 'val_recall_weighted': 0.55126, 'train_loss_epoch': 0.01104, 'train_accuracy': 0.73075, 'train_accuracy_2': 0.85147, 'train_f1_weighted': 0.61655, 'train_f1_macro': 0.22704, 'train_lrap': 0.8142, 'train_precision_macro': 0.23607, 'train_precision_weighted': 0.66403, 'train_recall_macro': 0.22655, 'train_recall_weighted': 0.60222}\n"
     ]
    },
    {
     "data": {
      "application/vnd.jupyter.widget-view+json": {
       "model_id": "da49e42d5a0e454e9431f6bf4e03c173",
       "version_major": 2,
       "version_minor": 0
      },
      "text/plain": [
       "Validation: |          | 0/? [00:00<?, ?it/s]"
      ]
     },
     "metadata": {},
     "output_type": "display_data"
    },
    {
     "name": "stderr",
     "output_type": "stream",
     "text": [
      " 2024-06-01 14:57:08,368 [MainThread] 🐦‍🔥 Epoch 26: {'val_loss': 0.01353, 'val_accuracy': 0.69493, 'val_accuracy_2': 0.77439, 'val_auroc': 0.36562, 'val_f1_weighted': 0.60362, 'val_f1_macro': 0.19968, 'val_lrap': 0.76594, 'val_precision_macro': 0.22287, 'val_precision_weighted': 0.70954, 'val_recall_macro': 0.19172, 'val_recall_weighted': 0.55888, 'train_loss_epoch': 0.01131, 'train_accuracy': 0.7244, 'train_accuracy_2': 0.8414, 'train_f1_weighted': 0.61614, 'train_f1_macro': 0.22624, 'train_lrap': 0.80716, 'train_precision_macro': 0.23426, 'train_precision_weighted': 0.65875, 'train_recall_macro': 0.22563, 'train_recall_weighted': 0.60302}\n"
     ]
    },
    {
     "data": {
      "application/vnd.jupyter.widget-view+json": {
       "model_id": "c284fe8d99744b309d3ecaa89b0af112",
       "version_major": 2,
       "version_minor": 0
      },
      "text/plain": [
       "Validation: |          | 0/? [00:00<?, ?it/s]"
      ]
     },
     "metadata": {},
     "output_type": "display_data"
    },
    {
     "name": "stderr",
     "output_type": "stream",
     "text": [
      " 2024-06-01 14:58:00,026 [MainThread] 🐦‍🔥 Epoch 27: {'val_loss': 0.01468, 'val_accuracy': 0.66311, 'val_accuracy_2': 0.75076, 'val_auroc': 0.36504, 'val_f1_weighted': 0.57068, 'val_f1_macro': 0.182, 'val_lrap': 0.73942, 'val_precision_macro': 0.20454, 'val_precision_weighted': 0.67215, 'val_recall_macro': 0.17463, 'val_recall_weighted': 0.52934, 'train_loss_epoch': 0.01164, 'train_accuracy': 0.7083, 'train_accuracy_2': 0.83735, 'train_f1_weighted': 0.58828, 'train_f1_macro': 0.21771, 'train_lrap': 0.79832, 'train_precision_macro': 0.22641, 'train_precision_weighted': 0.63418, 'train_recall_macro': 0.21687, 'train_recall_weighted': 0.57389}\n"
     ]
    },
    {
     "data": {
      "application/vnd.jupyter.widget-view+json": {
       "model_id": "c43633ca42984e8893539a26558847c3",
       "version_major": 2,
       "version_minor": 0
      },
      "text/plain": [
       "Validation: |          | 0/? [00:00<?, ?it/s]"
      ]
     },
     "metadata": {},
     "output_type": "display_data"
    },
    {
     "name": "stderr",
     "output_type": "stream",
     "text": [
      " 2024-06-01 14:58:52,462 [MainThread] 🐦‍🔥 Epoch 28: {'val_loss': 0.01371, 'val_accuracy': 0.69646, 'val_accuracy_2': 0.77877, 'val_auroc': 0.36611, 'val_f1_weighted': 0.57374, 'val_f1_macro': 0.18639, 'val_lrap': 0.76785, 'val_precision_macro': 0.20885, 'val_precision_weighted': 0.67984, 'val_recall_macro': 0.17899, 'val_recall_weighted': 0.53068, 'train_loss_epoch': 0.01186, 'train_accuracy': 0.7004, 'train_accuracy_2': 0.83038, 'train_f1_weighted': 0.58717, 'train_f1_macro': 0.21545, 'train_lrap': 0.79105, 'train_precision_macro': 0.22298, 'train_precision_weighted': 0.62781, 'train_recall_macro': 0.21521, 'train_recall_weighted': 0.57492}\n"
     ]
    },
    {
     "data": {
      "application/vnd.jupyter.widget-view+json": {
       "model_id": "c295889e4a524c4f89478f1a756d382e",
       "version_major": 2,
       "version_minor": 0
      },
      "text/plain": [
       "Validation: |          | 0/? [00:00<?, ?it/s]"
      ]
     },
     "metadata": {},
     "output_type": "display_data"
    },
    {
     "name": "stderr",
     "output_type": "stream",
     "text": [
      " 2024-06-01 14:59:45,277 [MainThread] 🐦‍🔥 Epoch 29: {'val_loss': 0.0149, 'val_accuracy': 0.67912, 'val_accuracy_2': 0.76258, 'val_auroc': 0.36546, 'val_f1_weighted': 0.46808, 'val_f1_macro': 0.14671, 'val_lrap': 0.75191, 'val_precision_macro': 0.17547, 'val_precision_weighted': 0.60274, 'val_recall_macro': 0.13499, 'val_recall_weighted': 0.41101, 'train_loss_epoch': 0.01287, 'train_accuracy': 0.66962, 'train_accuracy_2': 0.8069, 'train_f1_weighted': 0.54683, 'train_f1_macro': 0.20103, 'train_lrap': 0.76758, 'train_precision_macro': 0.20989, 'train_precision_weighted': 0.59419, 'train_recall_macro': 0.19999, 'train_recall_weighted': 0.53191}\n"
     ]
    },
    {
     "data": {
      "application/vnd.jupyter.widget-view+json": {
       "model_id": "75953c8f18044a3d8a216e0b7259c63b",
       "version_major": 2,
       "version_minor": 0
      },
      "text/plain": [
       "Validation: |          | 0/? [00:00<?, ?it/s]"
      ]
     },
     "metadata": {},
     "output_type": "display_data"
    },
    {
     "name": "stderr",
     "output_type": "stream",
     "text": [
      " 2024-06-01 15:00:37,633 [MainThread] 🐦‍🔥 Epoch 30: {'val_loss': 0.01404, 'val_accuracy': 0.69741, 'val_accuracy_2': 0.77382, 'val_auroc': 0.36626, 'val_f1_weighted': 0.53241, 'val_f1_macro': 0.17123, 'val_lrap': 0.76725, 'val_precision_macro': 0.19933, 'val_precision_weighted': 0.66169, 'val_recall_macro': 0.15996, 'val_recall_weighted': 0.47732, 'train_loss_epoch': 0.01242, 'train_accuracy': 0.68275, 'train_accuracy_2': 0.81895, 'train_f1_weighted': 0.5575, 'train_f1_macro': 0.20464, 'train_lrap': 0.7789, 'train_precision_macro': 0.21282, 'train_precision_weighted': 0.60165, 'train_recall_macro': 0.20422, 'train_recall_weighted': 0.54433}\n"
     ]
    },
    {
     "data": {
      "application/vnd.jupyter.widget-view+json": {
       "model_id": "ce98229fe3524350965fa1168492687e",
       "version_major": 2,
       "version_minor": 0
      },
      "text/plain": [
       "Validation: |          | 0/? [00:00<?, ?it/s]"
      ]
     },
     "metadata": {},
     "output_type": "display_data"
    },
    {
     "name": "stderr",
     "output_type": "stream",
     "text": [
      " 2024-06-01 15:01:29,758 [MainThread] 🐦‍🔥 Epoch 31: {'val_loss': 0.01291, 'val_accuracy': 0.71075, 'val_accuracy_2': 0.79078, 'val_auroc': 0.36692, 'val_f1_weighted': 0.62331, 'val_f1_macro': 0.20385, 'val_lrap': 0.78006, 'val_precision_macro': 0.22447, 'val_precision_weighted': 0.71554, 'val_recall_macro': 0.19758, 'val_recall_weighted': 0.58594, 'train_loss_epoch': 0.01031, 'train_accuracy': 0.73527, 'train_accuracy_2': 0.86022, 'train_f1_weighted': 0.62524, 'train_f1_macro': 0.23181, 'train_lrap': 0.82089, 'train_precision_macro': 0.24004, 'train_precision_weighted': 0.66925, 'train_recall_macro': 0.231, 'train_recall_weighted': 0.61192}\n"
     ]
    },
    {
     "data": {
      "application/vnd.jupyter.widget-view+json": {
       "model_id": "66429b8d5bea4ec6a9254ecc434e1b2b",
       "version_major": 2,
       "version_minor": 0
      },
      "text/plain": [
       "Validation: |          | 0/? [00:00<?, ?it/s]"
      ]
     },
     "metadata": {},
     "output_type": "display_data"
    },
    {
     "name": "stderr",
     "output_type": "stream",
     "text": [
      " 2024-06-01 15:02:21,915 [MainThread] 🐦‍🔥 Epoch 32: {'val_loss': 0.0137, 'val_accuracy': 0.70046, 'val_accuracy_2': 0.77668, 'val_auroc': 0.36581, 'val_f1_weighted': 0.58128, 'val_f1_macro': 0.19091, 'val_lrap': 0.76902, 'val_precision_macro': 0.2161, 'val_precision_weighted': 0.69325, 'val_recall_macro': 0.18155, 'val_recall_weighted': 0.53316, 'train_loss_epoch': 0.00979, 'train_accuracy': 0.75372, 'train_accuracy_2': 0.85961, 'train_f1_weighted': 0.66166, 'train_f1_macro': 0.24718, 'train_lrap': 0.8282, 'train_precision_macro': 0.2536, 'train_precision_weighted': 0.69653, 'train_recall_macro': 0.24652, 'train_recall_weighted': 0.65065}\n"
     ]
    },
    {
     "data": {
      "application/vnd.jupyter.widget-view+json": {
       "model_id": "c235401eae054411a5b9450fca72390f",
       "version_major": 2,
       "version_minor": 0
      },
      "text/plain": [
       "Validation: |          | 0/? [00:00<?, ?it/s]"
      ]
     },
     "metadata": {},
     "output_type": "display_data"
    },
    {
     "name": "stderr",
     "output_type": "stream",
     "text": [
      " 2024-06-01 15:03:15,364 [MainThread] 🐦‍🔥 Epoch 33: {'val_loss': 0.01217, 'val_accuracy': 0.72809, 'val_accuracy_2': 0.8024, 'val_auroc': 0.36716, 'val_f1_weighted': 0.6767, 'val_f1_macro': 0.22819, 'val_lrap': 0.79242, 'val_precision_macro': 0.2453, 'val_precision_weighted': 0.75575, 'val_recall_macro': 0.22437, 'val_recall_weighted': 0.64672, 'train_loss_epoch': 0.0102, 'train_accuracy': 0.73348, 'train_accuracy_2': 0.85876, 'train_f1_weighted': 0.63051, 'train_f1_macro': 0.23365, 'train_lrap': 0.81782, 'train_precision_macro': 0.24016, 'train_precision_weighted': 0.66531, 'train_recall_macro': 0.23331, 'train_recall_weighted': 0.62001}\n"
     ]
    },
    {
     "data": {
      "application/vnd.jupyter.widget-view+json": {
       "model_id": "7dcb414a922e48b19411b5131c821e38",
       "version_major": 2,
       "version_minor": 0
      },
      "text/plain": [
       "Validation: |          | 0/? [00:00<?, ?it/s]"
      ]
     },
     "metadata": {},
     "output_type": "display_data"
    },
    {
     "name": "stderr",
     "output_type": "stream",
     "text": [
      " 2024-06-01 15:04:07,964 [MainThread] 🐦‍🔥 Epoch 34: {'val_loss': 0.01291, 'val_accuracy': 0.71513, 'val_accuracy_2': 0.79002, 'val_auroc': 0.36626, 'val_f1_weighted': 0.63392, 'val_f1_macro': 0.21012, 'val_lrap': 0.78055, 'val_precision_macro': 0.23109, 'val_precision_weighted': 0.72779, 'val_recall_macro': 0.20332, 'val_recall_weighted': 0.59451, 'train_loss_epoch': 0.00994, 'train_accuracy': 0.74214, 'train_accuracy_2': 0.86578, 'train_f1_weighted': 0.63905, 'train_f1_macro': 0.23826, 'train_lrap': 0.82499, 'train_precision_macro': 0.24484, 'train_precision_weighted': 0.67633, 'train_recall_macro': 0.23838, 'train_recall_weighted': 0.62872}\n"
     ]
    },
    {
     "data": {
      "application/vnd.jupyter.widget-view+json": {
       "model_id": "0253741c9da84ec8a1e5a07cf20f1596",
       "version_major": 2,
       "version_minor": 0
      },
      "text/plain": [
       "Validation: |          | 0/? [00:00<?, ?it/s]"
      ]
     },
     "metadata": {},
     "output_type": "display_data"
    },
    {
     "name": "stderr",
     "output_type": "stream",
     "text": [
      " 2024-06-01 15:05:00,940 [MainThread] 🐦‍🔥 Epoch 35: {'val_loss': 0.01293, 'val_accuracy': 0.71113, 'val_accuracy_2': 0.79383, 'val_auroc': 0.36606, 'val_f1_weighted': 0.63506, 'val_f1_macro': 0.21092, 'val_lrap': 0.77968, 'val_precision_macro': 0.23166, 'val_precision_weighted': 0.72884, 'val_recall_macro': 0.20444, 'val_recall_weighted': 0.59604, 'train_loss_epoch': 0.00932, 'train_accuracy': 0.76238, 'train_accuracy_2': 0.87712, 'train_f1_weighted': 0.66354, 'train_f1_macro': 0.24592, 'train_lrap': 0.83988, 'train_precision_macro': 0.25345, 'train_precision_weighted': 0.70323, 'train_recall_macro': 0.24549, 'train_recall_weighted': 0.65178}\n"
     ]
    },
    {
     "data": {
      "application/vnd.jupyter.widget-view+json": {
       "model_id": "77078173bdf34395969e4711e6da2156",
       "version_major": 2,
       "version_minor": 0
      },
      "text/plain": [
       "Validation: |          | 0/? [00:00<?, ?it/s]"
      ]
     },
     "metadata": {},
     "output_type": "display_data"
    },
    {
     "name": "stderr",
     "output_type": "stream",
     "text": [
      " 2024-06-01 15:05:54,088 [MainThread] 🐦‍🔥 Epoch 36: {'val_loss': 0.01255, 'val_accuracy': 0.71799, 'val_accuracy_2': 0.79135, 'val_auroc': 0.3663, 'val_f1_weighted': 0.66661, 'val_f1_macro': 0.22543, 'val_lrap': 0.78325, 'val_precision_macro': 0.24458, 'val_precision_weighted': 0.75339, 'val_recall_macro': 0.2203, 'val_recall_weighted': 0.633, 'train_loss_epoch': 0.01018, 'train_accuracy': 0.73626, 'train_accuracy_2': 0.86507, 'train_f1_weighted': 0.62945, 'train_f1_macro': 0.23265, 'train_lrap': 0.82232, 'train_precision_macro': 0.2394, 'train_precision_weighted': 0.66727, 'train_recall_macro': 0.23296, 'train_recall_weighted': 0.61926}\n"
     ]
    },
    {
     "data": {
      "application/vnd.jupyter.widget-view+json": {
       "model_id": "e3f148f147c7471ea67a37014d46e72d",
       "version_major": 2,
       "version_minor": 0
      },
      "text/plain": [
       "Validation: |          | 0/? [00:00<?, ?it/s]"
      ]
     },
     "metadata": {},
     "output_type": "display_data"
    },
    {
     "name": "stderr",
     "output_type": "stream",
     "text": [
      " 2024-06-01 15:06:46,826 [MainThread] 🐦‍🔥 Epoch 37: {'val_loss': 0.01286, 'val_accuracy': 0.72123, 'val_accuracy_2': 0.79268, 'val_auroc': 0.36639, 'val_f1_weighted': 0.61615, 'val_f1_macro': 0.20425, 'val_lrap': 0.78513, 'val_precision_macro': 0.22657, 'val_precision_weighted': 0.71734, 'val_recall_macro': 0.1964, 'val_recall_weighted': 0.57336, 'train_loss_epoch': 0.01135, 'train_accuracy': 0.7011, 'train_accuracy_2': 0.84135, 'train_f1_weighted': 0.5834, 'train_f1_macro': 0.21538, 'train_lrap': 0.79653, 'train_precision_macro': 0.22284, 'train_precision_weighted': 0.62591, 'train_recall_macro': 0.21554, 'train_recall_weighted': 0.57229}\n"
     ]
    },
    {
     "data": {
      "application/vnd.jupyter.widget-view+json": {
       "model_id": "b0d51b67f52e4eb4a4c522a812e554cd",
       "version_major": 2,
       "version_minor": 0
      },
      "text/plain": [
       "Validation: |          | 0/? [00:00<?, ?it/s]"
      ]
     },
     "metadata": {},
     "output_type": "display_data"
    },
    {
     "name": "stderr",
     "output_type": "stream",
     "text": [
      " 2024-06-01 15:07:40,207 [MainThread] 🐦‍🔥 Epoch 38: {'val_loss': 0.01255, 'val_accuracy': 0.72218, 'val_accuracy_2': 0.79745, 'val_auroc': 0.36605, 'val_f1_weighted': 0.65471, 'val_f1_macro': 0.21715, 'val_lrap': 0.78764, 'val_precision_macro': 0.23503, 'val_precision_weighted': 0.73593, 'val_recall_macro': 0.21316, 'val_recall_weighted': 0.62538, 'train_loss_epoch': 0.01002, 'train_accuracy': 0.74318, 'train_accuracy_2': 0.86643, 'train_f1_weighted': 0.63629, 'train_f1_macro': 0.23504, 'train_lrap': 0.82633, 'train_precision_macro': 0.2428, 'train_precision_weighted': 0.67796, 'train_recall_macro': 0.23461, 'train_recall_weighted': 0.62444}\n"
     ]
    },
    {
     "data": {
      "application/vnd.jupyter.widget-view+json": {
       "model_id": "056a910149944e33b7d3890798034340",
       "version_major": 2,
       "version_minor": 0
      },
      "text/plain": [
       "Validation: |          | 0/? [00:00<?, ?it/s]"
      ]
     },
     "metadata": {},
     "output_type": "display_data"
    },
    {
     "name": "stderr",
     "output_type": "stream",
     "text": [
      " 2024-06-01 15:08:33,223 [MainThread] 🐦‍🔥 Epoch 39: {'val_loss': 0.01221, 'val_accuracy': 0.73152, 'val_accuracy_2': 0.80488, 'val_auroc': 0.36656, 'val_f1_weighted': 0.66819, 'val_f1_macro': 0.22358, 'val_lrap': 0.79489, 'val_precision_macro': 0.24346, 'val_precision_weighted': 0.7561, 'val_recall_macro': 0.21784, 'val_recall_weighted': 0.63167, 'train_loss_epoch': 0.00882, 'train_accuracy': 0.77499, 'train_accuracy_2': 0.8887, 'train_f1_weighted': 0.68838, 'train_f1_macro': 0.25742, 'train_lrap': 0.84971, 'train_precision_macro': 0.26368, 'train_precision_weighted': 0.72135, 'train_recall_macro': 0.25773, 'train_recall_weighted': 0.68011}\n"
     ]
    },
    {
     "data": {
      "application/vnd.jupyter.widget-view+json": {
       "model_id": "af7a3a6b79744e21849ce5b1a0e22609",
       "version_major": 2,
       "version_minor": 0
      },
      "text/plain": [
       "Validation: |          | 0/? [00:00<?, ?it/s]"
      ]
     },
     "metadata": {},
     "output_type": "display_data"
    },
    {
     "name": "stderr",
     "output_type": "stream",
     "text": [
      " 2024-06-01 15:09:26,694 [MainThread] 🐦‍🔥 Epoch 40: {'val_loss': 0.01289, 'val_accuracy': 0.71704, 'val_accuracy_2': 0.7923, 'val_auroc': 0.36689, 'val_f1_weighted': 0.61859, 'val_f1_macro': 0.20317, 'val_lrap': 0.7831, 'val_precision_macro': 0.22548, 'val_precision_weighted': 0.71878, 'val_recall_macro': 0.19552, 'val_recall_weighted': 0.57603, 'train_loss_epoch': 0.01096, 'train_accuracy': 0.70468, 'train_accuracy_2': 0.84893, 'train_f1_weighted': 0.5936, 'train_f1_macro': 0.21891, 'train_lrap': 0.80056, 'train_precision_macro': 0.22627, 'train_precision_weighted': 0.63386, 'train_recall_macro': 0.21879, 'train_recall_weighted': 0.58269}\n"
     ]
    },
    {
     "data": {
      "application/vnd.jupyter.widget-view+json": {
       "model_id": "6f4c31f6db5247eeb328b41e7f4939b9",
       "version_major": 2,
       "version_minor": 0
      },
      "text/plain": [
       "Validation: |          | 0/? [00:00<?, ?it/s]"
      ]
     },
     "metadata": {},
     "output_type": "display_data"
    },
    {
     "name": "stderr",
     "output_type": "stream",
     "text": [
      " 2024-06-01 15:10:20,338 [MainThread] 🐦‍🔥 Epoch 41: {'val_loss': 0.01297, 'val_accuracy': 0.71608, 'val_accuracy_2': 0.78582, 'val_auroc': 0.36594, 'val_f1_weighted': 0.63955, 'val_f1_macro': 0.21132, 'val_lrap': 0.78028, 'val_precision_macro': 0.23252, 'val_precision_weighted': 0.73379, 'val_recall_macro': 0.2045, 'val_recall_weighted': 0.60061, 'train_loss_epoch': 0.0092, 'train_accuracy': 0.75292, 'train_accuracy_2': 0.87919, 'train_f1_weighted': 0.65293, 'train_f1_macro': 0.2446, 'train_lrap': 0.83544, 'train_precision_macro': 0.25086, 'train_precision_weighted': 0.6879, 'train_recall_macro': 0.24441, 'train_recall_weighted': 0.64293}\n"
     ]
    },
    {
     "data": {
      "application/vnd.jupyter.widget-view+json": {
       "model_id": "ee01fe60a483474a9609418847581c31",
       "version_major": 2,
       "version_minor": 0
      },
      "text/plain": [
       "Validation: |          | 0/? [00:00<?, ?it/s]"
      ]
     },
     "metadata": {},
     "output_type": "display_data"
    },
    {
     "name": "stderr",
     "output_type": "stream",
     "text": [
      " 2024-06-01 15:11:14,101 [MainThread] 🐦‍🔥 Epoch 42: {'val_loss': 0.01431, 'val_accuracy': 0.69798, 'val_accuracy_2': 0.77896, 'val_auroc': 0.36539, 'val_f1_weighted': 0.51034, 'val_f1_macro': 0.1628, 'val_lrap': 0.76781, 'val_precision_macro': 0.19098, 'val_precision_weighted': 0.64127, 'val_recall_macro': 0.15252, 'val_recall_weighted': 0.45636, 'train_loss_epoch': 0.00896, 'train_accuracy': 0.76002, 'train_accuracy_2': 0.88131, 'train_f1_weighted': 0.66669, 'train_f1_macro': 0.24755, 'train_lrap': 0.8395, 'train_precision_macro': 0.25367, 'train_precision_weighted': 0.70027, 'train_recall_macro': 0.24748, 'train_recall_weighted': 0.65743}\n"
     ]
    },
    {
     "data": {
      "application/vnd.jupyter.widget-view+json": {
       "model_id": "cce5b1152bb3413dae6bcdac3a3eda3e",
       "version_major": 2,
       "version_minor": 0
      },
      "text/plain": [
       "Validation: |          | 0/? [00:00<?, ?it/s]"
      ]
     },
     "metadata": {},
     "output_type": "display_data"
    },
    {
     "name": "stderr",
     "output_type": "stream",
     "text": [
      " 2024-06-01 15:12:07,695 [MainThread] 🐦‍🔥 Epoch 43: {'val_loss': 0.01346, 'val_accuracy': 0.70732, 'val_accuracy_2': 0.78182, 'val_auroc': 0.36543, 'val_f1_weighted': 0.61321, 'val_f1_macro': 0.19943, 'val_lrap': 0.77365, 'val_precision_macro': 0.22025, 'val_precision_weighted': 0.70717, 'val_recall_macro': 0.19321, 'val_recall_weighted': 0.57508, 'train_loss_epoch': 0.00978, 'train_accuracy': 0.73409, 'train_accuracy_2': 0.86323, 'train_f1_weighted': 0.63398, 'train_f1_macro': 0.23538, 'train_lrap': 0.82046, 'train_precision_macro': 0.24193, 'train_precision_weighted': 0.66992, 'train_recall_macro': 0.23513, 'train_recall_weighted': 0.62378}\n"
     ]
    },
    {
     "data": {
      "application/vnd.jupyter.widget-view+json": {
       "model_id": "fc6722102acd49eabae8b3f5dd151f2f",
       "version_major": 2,
       "version_minor": 0
      },
      "text/plain": [
       "Validation: |          | 0/? [00:00<?, ?it/s]"
      ]
     },
     "metadata": {},
     "output_type": "display_data"
    },
    {
     "name": "stderr",
     "output_type": "stream",
     "text": [
      " 2024-06-01 15:13:00,838 [MainThread] 🐦‍🔥 Epoch 44: {'val_loss': 0.01383, 'val_accuracy': 0.69893, 'val_accuracy_2': 0.77477, 'val_auroc': 0.36521, 'val_f1_weighted': 0.59891, 'val_f1_macro': 0.19574, 'val_lrap': 0.76641, 'val_precision_macro': 0.2176, 'val_precision_weighted': 0.69801, 'val_recall_macro': 0.18869, 'val_recall_weighted': 0.5585, 'train_loss_epoch': 0.01035, 'train_accuracy': 0.71211, 'train_accuracy_2': 0.85566, 'train_f1_weighted': 0.60299, 'train_f1_macro': 0.22372, 'train_lrap': 0.80676, 'train_precision_macro': 0.23018, 'train_precision_weighted': 0.63835, 'train_recall_macro': 0.22381, 'train_recall_weighted': 0.59361}\n"
     ]
    },
    {
     "data": {
      "application/vnd.jupyter.widget-view+json": {
       "model_id": "6203dd6721e24d88937e75d311668fea",
       "version_major": 2,
       "version_minor": 0
      },
      "text/plain": [
       "Validation: |          | 0/? [00:00<?, ?it/s]"
      ]
     },
     "metadata": {},
     "output_type": "display_data"
    },
    {
     "name": "stderr",
     "output_type": "stream",
     "text": [
      " 2024-06-01 15:13:53,949 [MainThread] 🐦‍🔥 Epoch 45: {'val_loss': 0.01378, 'val_accuracy': 0.69684, 'val_accuracy_2': 0.76925, 'val_auroc': 0.36511, 'val_f1_weighted': 0.63698, 'val_f1_macro': 0.21273, 'val_lrap': 0.76306, 'val_precision_macro': 0.23134, 'val_precision_weighted': 0.72182, 'val_recall_macro': 0.20886, 'val_recall_weighted': 0.60671, 'train_loss_epoch': 0.00992, 'train_accuracy': 0.73202, 'train_accuracy_2': 0.8645, 'train_f1_weighted': 0.62538, 'train_f1_macro': 0.23242, 'train_lrap': 0.81932, 'train_precision_macro': 0.23908, 'train_precision_weighted': 0.66159, 'train_recall_macro': 0.23214, 'train_recall_weighted': 0.61516}\n"
     ]
    },
    {
     "data": {
      "application/vnd.jupyter.widget-view+json": {
       "model_id": "d784d14346254c7480af385b392ad9ad",
       "version_major": 2,
       "version_minor": 0
      },
      "text/plain": [
       "Validation: |          | 0/? [00:00<?, ?it/s]"
      ]
     },
     "metadata": {},
     "output_type": "display_data"
    },
    {
     "name": "stderr",
     "output_type": "stream",
     "text": [
      " 2024-06-01 15:14:46,838 [MainThread] 🐦‍🔥 Epoch 46: {'val_loss': 0.01254, 'val_accuracy': 0.72713, 'val_accuracy_2': 0.79668, 'val_auroc': 0.3661, 'val_f1_weighted': 0.64469, 'val_f1_macro': 0.21389, 'val_lrap': 0.78895, 'val_precision_macro': 0.2333, 'val_precision_weighted': 0.73104, 'val_recall_macro': 0.20774, 'val_recall_weighted': 0.6088, 'train_loss_epoch': 0.00992, 'train_accuracy': 0.72934, 'train_accuracy_2': 0.87034, 'train_f1_weighted': 0.62472, 'train_f1_macro': 0.23145, 'train_lrap': 0.82, 'train_precision_macro': 0.23755, 'train_precision_weighted': 0.65878, 'train_recall_macro': 0.23205, 'train_recall_weighted': 0.61643}\n"
     ]
    },
    {
     "data": {
      "application/vnd.jupyter.widget-view+json": {
       "model_id": "e27a057cb3f24a7c95137f58782fb543",
       "version_major": 2,
       "version_minor": 0
      },
      "text/plain": [
       "Validation: |          | 0/? [00:00<?, ?it/s]"
      ]
     },
     "metadata": {},
     "output_type": "display_data"
    },
    {
     "name": "stderr",
     "output_type": "stream",
     "text": [
      " 2024-06-01 15:15:40,557 [MainThread] 🐦‍🔥 Epoch 47: {'val_loss': 0.01218, 'val_accuracy': 0.7319, 'val_accuracy_2': 0.80716, 'val_auroc': 0.36704, 'val_f1_weighted': 0.66427, 'val_f1_macro': 0.22274, 'val_lrap': 0.79538, 'val_precision_macro': 0.24094, 'val_precision_weighted': 0.74701, 'val_recall_macro': 0.21792, 'val_recall_weighted': 0.6311, 'train_loss_epoch': 0.00944, 'train_accuracy': 0.73654, 'train_accuracy_2': 0.87312, 'train_f1_weighted': 0.63419, 'train_f1_macro': 0.23552, 'train_lrap': 0.82597, 'train_precision_macro': 0.2424, 'train_precision_weighted': 0.67232, 'train_recall_macro': 0.23548, 'train_recall_weighted': 0.62382}\n"
     ]
    },
    {
     "data": {
      "application/vnd.jupyter.widget-view+json": {
       "model_id": "b3e6d9db93834004a831b6febba41e38",
       "version_major": 2,
       "version_minor": 0
      },
      "text/plain": [
       "Validation: |          | 0/? [00:00<?, ?it/s]"
      ]
     },
     "metadata": {},
     "output_type": "display_data"
    },
    {
     "name": "stderr",
     "output_type": "stream",
     "text": [
      " 2024-06-01 15:16:33,847 [MainThread] 🐦‍🔥 Epoch 48: {'val_loss': 0.01247, 'val_accuracy': 0.72828, 'val_accuracy_2': 0.80259, 'val_auroc': 0.36614, 'val_f1_weighted': 0.66461, 'val_f1_macro': 0.22216, 'val_lrap': 0.79111, 'val_precision_macro': 0.24089, 'val_precision_weighted': 0.74768, 'val_recall_macro': 0.21665, 'val_recall_weighted': 0.63034, 'train_loss_epoch': 0.00957, 'train_accuracy': 0.72501, 'train_accuracy_2': 0.87199, 'train_f1_weighted': 0.62232, 'train_f1_macro': 0.2333, 'train_lrap': 0.81948, 'train_precision_macro': 0.23937, 'train_precision_weighted': 0.65621, 'train_recall_macro': 0.23372, 'train_recall_weighted': 0.61375}\n"
     ]
    },
    {
     "data": {
      "application/vnd.jupyter.widget-view+json": {
       "model_id": "365fbd2c5a524eda99a84dc8407718b3",
       "version_major": 2,
       "version_minor": 0
      },
      "text/plain": [
       "Validation: |          | 0/? [00:00<?, ?it/s]"
      ]
     },
     "metadata": {},
     "output_type": "display_data"
    },
    {
     "name": "stderr",
     "output_type": "stream",
     "text": [
      " 2024-06-01 15:17:27,208 [MainThread] 🐦‍🔥 Epoch 49: {'val_loss': 0.01243, 'val_accuracy': 0.72675, 'val_accuracy_2': 0.80278, 'val_auroc': 0.36637, 'val_f1_weighted': 0.66524, 'val_f1_macro': 0.22225, 'val_lrap': 0.79029, 'val_precision_macro': 0.23977, 'val_precision_weighted': 0.74424, 'val_recall_macro': 0.2178, 'val_recall_weighted': 0.63434, 'train_loss_epoch': 0.00926, 'train_accuracy': 0.74026, 'train_accuracy_2': 0.87345, 'train_f1_weighted': 0.63649, 'train_f1_macro': 0.23878, 'train_lrap': 0.82749, 'train_precision_macro': 0.24493, 'train_precision_weighted': 0.67204, 'train_recall_macro': 0.23876, 'train_recall_weighted': 0.62698}\n",
      "Monitored metric train_lrap did not improve in the last 25 records. Best score: 0.844. Signaling Trainer to stop.\n",
      " 2024-06-01 15:17:29,701 [MainThread] 🐦‍🔥 Finished training fold 0\n",
      " 2024-06-01 15:17:29,702 [MainThread] 🐦‍🔥 Saving model\n",
      " 2024-06-01 15:17:29,964 [MainThread] 🐦‍🔥 Saved model to filename: 2024-06-01 13:53:58_tf_efficientnetv2_b0.in1k_base_mixup_aug_val_0.2_Focal_AdamW_lr_0.001_decay_1e-06_fold_0_epochs_50.ckpt\n"
     ]
    }
   ],
   "source": [
    "    # %%\n",
    "    progress_bar = TQDMProgressBar(process_position=1)\n",
    "    early_stopping = EarlyStopping(\n",
    "        monitor=\"train_lrap\",\n",
    "        min_delta=0.01,\n",
    "        patience=cfg.patience,\n",
    "        verbose=True,\n",
    "        mode=\"max\",\n",
    "    )\n",
    "    model_checkpoint = ModelCheckpoint(\n",
    "        monitor=\"train_lrap\",\n",
    "        every_n_epochs=1,\n",
    "        mode=\"max\",\n",
    "        auto_insert_metric_name=True,\n",
    "        filename=f\"{cfg.run_tag}\"\n",
    "        + f\"_fold_{fold_index}_\"\n",
    "        + \"{epoch}-{val_lrap:.3f}-{val_acc2:.3f}-{val_acc2:.3f}-{val_f1_macro:.3}\",\n",
    "        dirpath=\"../model_objects/ckpts/\"\n",
    "    )\n",
    "\n",
    "    os.environ[\"PJRT_DEVICE\"] = \"GPU\"  # fix for G Cloud to avoid XLA/autocast clash\n",
    "    model = EfficientNetV2()\n",
    "    trainer = L.Trainer(\n",
    "        fast_dev_run=False,\n",
    "        enable_model_summary=True,\n",
    "        max_epochs=cfg.n_epochs,\n",
    "        accelerator=cfg.accelerator,\n",
    "        precision=cfg.precision,\n",
    "        callbacks=[progress_bar, early_stopping, model_checkpoint],\n",
    "        logger=csv_logger,\n",
    "        log_every_n_steps=10,\n",
    "    )\n",
    "\n",
    "    logger.info(f\"\\nStart training fold {fold_index}\")\n",
    "    trainer.fit(\n",
    "        model,\n",
    "        train_dataloaders=train_dataloader,\n",
    "        val_dataloaders=val_dataloader,\n",
    "        ckpt_path=None,\n",
    "    )\n",
    "\n",
    "    logger.info(f\"Finished training fold {fold_index}\")\n",
    "    if not cfg.debug_run and trainer.current_epoch > 10:\n",
    "        logger.info(\"Saving model\")\n",
    "        filename = (\n",
    "            f\"{cfg.run_tag}_fold_{fold_index}_epochs_{trainer.current_epoch}.ckpt\"\n",
    "        )\n",
    "        trainer.save_checkpoint(f\"../model_objects/{filename}\")\n",
    "        logger.info(f\"Saved model to filename: {filename}\")\n"
   ]
  },
  {
   "cell_type": "code",
   "execution_count": null,
   "metadata": {},
   "outputs": [],
   "source": []
  }
 ],
 "metadata": {
  "environment": {
   "kernel": "python3",
   "name": ".m120",
   "type": "gcloud",
   "uri": "us-docker.pkg.dev/deeplearning-platform-release/gcr.io/:m120"
  },
  "kernelspec": {
   "display_name": "Python 3 (Local)",
   "language": "python",
   "name": "python3"
  },
  "language_info": {
   "codemirror_mode": {
    "name": "ipython",
    "version": 3
   },
   "file_extension": ".py",
   "mimetype": "text/x-python",
   "name": "python",
   "nbconvert_exporter": "python",
   "pygments_lexer": "ipython3",
   "version": "3.9.4"
  }
 },
 "nbformat": 4,
 "nbformat_minor": 4
}
