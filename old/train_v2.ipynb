{
 "cells": [
  {
   "cell_type": "code",
   "execution_count": null,
   "metadata": {},
   "outputs": [],
   "source": [
    "# %%\n",
    "# !pip install lightning timm librosa albumentations torchaudio==2.2.2 audiomentations\n"
   ]
  },
  {
   "cell_type": "code",
   "execution_count": 1,
   "metadata": {
    "tags": []
   },
   "outputs": [],
   "source": [
    "# %%\n",
    "import gc\n",
    "import logging\n",
    "import os\n",
    "import random\n",
    "import warnings\n",
    "from datetime import datetime\n",
    "from pprint import pformat\n",
    "\n",
    "import albumentations\n",
    "import librosa\n",
    "import lightning as L\n",
    "import matplotlib.pyplot as plt\n",
    "import numpy as np\n",
    "import pandas as pd\n",
    "import seaborn as sns\n",
    "import timm\n",
    "import torch\n",
    "import torch_audiomentations as audiomentations\n",
    "import torchaudio\n",
    "import torchmetrics\n",
    "import torchvision\n",
    "from joblib import Parallel, delayed\n",
    "from lightning.pytorch.callbacks import ModelCheckpoint, TQDMProgressBar\n",
    "from lightning.pytorch.callbacks.early_stopping import EarlyStopping\n",
    "from sklearn.model_selection import StratifiedGroupKFold, train_test_split\n",
    "from torch.optim.lr_scheduler import CosineAnnealingWarmRestarts\n",
    "from torch.utils.data import DataLoader, Dataset, WeightedRandomSampler\n",
    "from torchvision import transforms\n",
    "from tqdm.notebook import tqdm\n",
    "\n",
    "sns.set(\n",
    "    rc={\n",
    "        \"figure.figsize\": (8, 4),\n",
    "        \"figure.dpi\": 240,\n",
    "    }\n",
    ")\n",
    "sns.set_style(\"darkgrid\", {\"axes.grid\": False})\n",
    "sns.set_context(\"paper\", font_scale=0.6)\n",
    "\n",
    "torch.set_float32_matmul_precision(\"high\")\n",
    "warnings.simplefilter(\"ignore\")\n"
   ]
  },
  {
   "cell_type": "code",
   "execution_count": 2,
   "metadata": {
    "tags": []
   },
   "outputs": [],
   "source": [
    "# %%\n",
    "class cfg:\n",
    "    experiment_name = \"foundation\"\n",
    "    data_path = \"../data\"\n",
    "\n",
    "    debug_run = False  # run on a small sample\n",
    "    experiment_run = False  # run on a stratified data sample\n",
    "    production_run = True  # run on all data\n",
    "\n",
    "    normalize_waveform = True\n",
    "    sample_rate = 32000\n",
    "    n_fft = 2048\n",
    "    hop_length = 512\n",
    "    window_length = None\n",
    "    melspec_hres = 128\n",
    "    melspec_wres = 312\n",
    "    freq_min = 40\n",
    "    freq_max = 15000\n",
    "    log_scale_power = 2\n",
    "    max_decibels = 100\n",
    "    frame_duration = 5\n",
    "    frame_rate = sample_rate / hop_length\n",
    "\n",
    "    # vit_b0 = \"efficientvit_b0.r224_in1k\"\n",
    "    vit_b1 = \"efficientvit_b1.r224_in1k\"\n",
    "    # vit_b1 = \"efficientvit_b1.r288_in1k\"\n",
    "    # vit_b2 = \"efficientvit_b2.r224_in1k\"\n",
    "    # effnet_b0 = \"tf_efficientnetv2_b0.in1k\"\n",
    "    # effnet_b1 = \"tf_efficientnetv2_b1.in1k\"\n",
    "    # vit_m0 = \"efficientvit_m0.r224_in1k\"\n",
    "    # vit_m1 = \"efficientvit_m1.r224_in1k\"\n",
    "    backbone = vit_b1\n",
    "\n",
    "    num_classes = 182\n",
    "    add_secondary_labels = False\n",
    "    label_smoothing = 0.05\n",
    "    weighted_sampling = False\n",
    "    sample_weight_factor = 0.25\n",
    "    waveform_augmentation = False\n",
    "    melspec_augmentation = True\n",
    "    melspec_mixup_prob = 0.5\n",
    "    melspec_mixup = False\n",
    "    melspec_supermixup = False\n",
    "\n",
    "    accelerator = \"gpu\"\n",
    "    precision = \"bf16-mixed\"\n",
    "    n_workers = os.cpu_count() - 2\n",
    "\n",
    "    n_epochs = 50\n",
    "    batch_size = 128\n",
    "    val_ratio = 0.25\n",
    "    patience = 10\n",
    "\n",
    "    lr_min = 1e-6\n",
    "    lr_max = 5e-4\n",
    "    weight_decay = 1e-6\n",
    "    # fused_adamw = True\n",
    "\n",
    "    focal_alpha = 0.25\n",
    "    focal_gamma = 2.0\n",
    "    focal_weight = 1.0\n",
    "    bce_weight = 1.0\n",
    "\n",
    "    timestamp = datetime.now().replace(microsecond=0)\n",
    "    run_tag = f\"{timestamp}_{backbone}_{experiment_name}_val_{val_ratio}_lr_{lr_max}_decay_{weight_decay}\"\n",
    "\n",
    "    if debug_run:\n",
    "        run_tag = f\"{timestamp}_{backbone}_debug\"\n",
    "        # accelerator = \"cpu\"\n",
    "        # n_epochs = 1\n",
    "        # batch_size = 32\n",
    "        # fused_adamw = False\n",
    "        # num_classes = 10\n"
   ]
  },
  {
   "cell_type": "code",
   "execution_count": 3,
   "metadata": {
    "tags": []
   },
   "outputs": [],
   "source": [
    "# %%\n",
    "def define_logger():\n",
    "    handlers = [\n",
    "        logging.StreamHandler(),\n",
    "        logging.FileHandler(f\"../logs/{cfg.run_tag}.log\"),\n",
    "    ]\n",
    "\n",
    "    if cfg.debug_run:\n",
    "        handlers = [logging.StreamHandler()]\n",
    "\n",
    "    logger = logging.getLogger(__name__)\n",
    "    logging.basicConfig(\n",
    "        level=logging.INFO,\n",
    "        format=\" %(asctime)s [%(threadName)s] 🐦‍🔥 %(message)s\",\n",
    "        handlers=handlers,\n",
    "        force=True,  # reconfigure root logger, in case of rerunning -> ensures new file\n",
    "    )\n",
    "\n",
    "    return logger\n",
    "\n",
    "\n",
    "def get_config(cfg) -> None:\n",
    "    cfg_dictionary = {\n",
    "        key: value\n",
    "        for key, value in cfg.__dict__.items()\n",
    "        if not key.startswith(\"__\") and not callable(key)\n",
    "    }\n",
    "    logger.info(f\"{'—' * 80}\")\n",
    "    logger.info(f\"Config: \\n{pformat(cfg_dictionary, indent=1)}\")\n",
    "    return cfg_dictionary\n",
    "\n",
    "\n",
    "def load_metadata(data_path: str) -> pd.DataFrame:\n",
    "    logger.info(f\"Loading prepared dataframes from {data_path}\")\n",
    "    model_input_df = pd.read_csv(f\"{data_path}/model_input_df.csv\")\n",
    "    sample_submission = pd.read_csv(f\"{data_path}/sample_submission.csv\")\n",
    "\n",
    "    if cfg.debug_run:\n",
    "        logger.info(\"Running debug: sampling data to 10 species and 250 samples\")\n",
    "        top_10_labels = model_input_df[\"primary_label\"].value_counts()[0:10].index\n",
    "        model_input_df = model_input_df[\n",
    "            model_input_df[\"primary_label\"].isin(top_10_labels)\n",
    "        ]\n",
    "        model_input_df = model_input_df.sample(1000).reset_index(drop=True)\n",
    "\n",
    "    elif cfg.experiment_run:\n",
    "        logger.info(\"Running experiment: sampling data\")\n",
    "        model_input_df = model_input_df.sample(frac=0.1).reset_index(drop=True)\n",
    "\n",
    "    elif cfg.production_run:\n",
    "        logger.info(\"Running production: full data\")\n",
    "        model_input_df = model_input_df.sample(frac=1).reset_index(drop=True)\n",
    "\n",
    "    logger.info(f\"Dataframe shape: {model_input_df.shape}\")\n",
    "\n",
    "    return model_input_df, sample_submission\n",
    "\n",
    "\n",
    "def read_waveform(filename: str) -> np.ndarray:\n",
    "    filepath = f\"{cfg.data_path}/train_windows_nv_c10/{filename}\"\n",
    "    waveform, _ = librosa.load(filepath, sr=cfg.sample_rate)\n",
    "    return waveform\n",
    "\n",
    "\n",
    "def read_waveforms_parallel(model_input_df: pd.DataFrame):\n",
    "    logger.info(\"Parallel Loading waveforms\")\n",
    "    waveforms = Parallel(n_jobs=cfg.n_workers, prefer=\"threads\")(\n",
    "        delayed(read_waveform)(filename)\n",
    "        for filename in tqdm(model_input_df[\"window_filename\"], desc=\"Loading waves\")\n",
    "    )\n",
    "    logger.info(\"Finished loadeding waveforms\")\n",
    "    return waveforms\n",
    "\n",
    "\n",
    "def create_label_map(submission_df: pd.DataFrame) -> dict:\n",
    "    logging.info(\"Creating label mappings\")\n",
    "    cfg.labels = submission_df.columns[1:]\n",
    "    cfg.num_classes = len(cfg.labels)\n",
    "    class_to_label_map = dict(zip(cfg.labels, np.arange(cfg.num_classes)))\n",
    "\n",
    "    return class_to_label_map\n",
    "\n",
    "\n",
    "def pad_or_crop_waveforms(waveforms: list, pad_method: str = \"repeat\") -> list:\n",
    "    logging.info(\"Padding or cropping waveforms to desired duration\")\n",
    "    desired_length = cfg.sample_rate * cfg.frame_duration\n",
    "\n",
    "    def _pad_or_crop(waveform: np.ndarray) -> np.ndarray:\n",
    "        length = len(waveform)\n",
    "\n",
    "        while length < desired_length:  # repeat if waveform too small\n",
    "            repeat_length = desired_length - length\n",
    "            padding_array = waveform[:repeat_length]\n",
    "            if pad_method != \"repeat\":\n",
    "                padding_array = np.zeros(shape=waveform[:repeat_length].shape)\n",
    "            waveform = np.concatenate([waveform, padding_array])\n",
    "            length = len(waveform)\n",
    "\n",
    "        if length > desired_length:  # crop if waveform is too big\n",
    "            offset = np.random.randint(0, length - desired_length)\n",
    "            waveform = waveform[offset : offset + desired_length]\n",
    "\n",
    "        return waveform\n",
    "\n",
    "    waveforms = [_pad_or_crop(wave) for wave in tqdm(waveforms, desc=\"Padding waves\")]\n",
    "\n",
    "    return waveforms\n",
    "\n",
    "\n",
    "def add_sample_weights(\n",
    "    model_input_df: pd.DataFrame, weight_factor: float = cfg.sample_weight_factor\n",
    ") -> pd.DataFrame:\n",
    "    sample_weights = round(\n",
    "        (\n",
    "            model_input_df[\"primary_label\"].value_counts()\n",
    "            / model_input_df[\"primary_label\"].value_counts().sum()\n",
    "        )\n",
    "        ** (-weight_factor)\n",
    "    )\n",
    "    sample_weights = pd.DataFrame(\n",
    "        {\n",
    "            \"primary_label\": sample_weights.index,\n",
    "            \"sample_weight\": sample_weights.values.astype(int),\n",
    "        }\n",
    "    )\n",
    "    model_input_df = model_input_df.merge(\n",
    "        sample_weights, on=\"primary_label\", how=\"left\"\n",
    "    )\n",
    "    return model_input_df\n"
   ]
  },
  {
   "cell_type": "code",
   "execution_count": 4,
   "metadata": {
    "tags": []
   },
   "outputs": [],
   "source": [
    "# %%\n",
    "class BirdDataset(Dataset):\n",
    "    def __init__(\n",
    "        self,\n",
    "        df: pd.DataFrame,\n",
    "        waveforms: list,\n",
    "        add_secondary_labels: bool = cfg.add_secondary_labels,\n",
    "        augmentation: list = None,\n",
    "    ):\n",
    "        self.df = df\n",
    "        self.waveforms = waveforms\n",
    "        self.num_classes = cfg.num_classes\n",
    "        self.class_to_label_map = class_to_label_map\n",
    "        self.add_secondary_labels = add_secondary_labels\n",
    "        self.waveform_augmentation = cfg.waveform_augmentation\n",
    "        self.melspec_augmentation = cfg.melspec_augmentation\n",
    "        self.augmentation = augmentation\n",
    "\n",
    "        self.mel_transform = torchaudio.transforms.MelSpectrogram(\n",
    "            sample_rate=cfg.sample_rate,\n",
    "            n_mels=cfg.melspec_hres,\n",
    "            f_min=cfg.freq_min,\n",
    "            f_max=cfg.freq_max,\n",
    "            n_fft=cfg.n_fft,\n",
    "            hop_length=cfg.hop_length,\n",
    "            normalized=cfg.normalize_waveform,\n",
    "            center=True,\n",
    "            pad_mode=\"reflect\",\n",
    "            norm=\"slaney\",\n",
    "            mel_scale=\"slaney\",\n",
    "        )\n",
    "        self.db_transform = torchaudio.transforms.AmplitudeToDB(\n",
    "            stype=\"power\", top_db=cfg.max_decibels\n",
    "        )\n",
    "\n",
    "    def create_target(\n",
    "        self,\n",
    "        primary_label: str,\n",
    "        secondary_labels: list,\n",
    "        secondary_label_weight: float = 1,\n",
    "    ) -> torch.tensor:\n",
    "        target = torch.zeros(self.num_classes, dtype=torch.float32)\n",
    "        # primary_target = torch.tensor(0, dtype=torch.int64)\n",
    "\n",
    "        if primary_label != \"nocall\":\n",
    "            primary_label = self.class_to_label_map[primary_label]\n",
    "            target[primary_label] = 1\n",
    "            primary_target = torch.tensor(primary_label, dtype=torch.int64)\n",
    "\n",
    "            if self.add_secondary_labels:\n",
    "                secondary_labels = eval(secondary_labels)\n",
    "                for label in secondary_labels:\n",
    "                    if label != \"\" and label in self.class_to_label_map.keys():\n",
    "                        target[self.class_to_label_map[label]] = secondary_label_weight\n",
    "\n",
    "        binary_target = target.to(torch.int64)\n",
    "\n",
    "        return target, binary_target, primary_target\n",
    "\n",
    "    def __len__(self):\n",
    "        return len(self.waveforms)\n",
    "\n",
    "    def __getitem__(self, idx):\n",
    "        waveform = self.waveforms[idx]\n",
    "        primary_label = self.df.iloc[idx][\"primary_label\"]\n",
    "        secondary_labels = self.df.iloc[idx][\"secondary_labels\"]\n",
    "\n",
    "        waveform = torch.tensor(waveform, dtype=torch.float32)\n",
    "\n",
    "        target, binary_target, primary_target = self.create_target(\n",
    "            primary_label=primary_label, secondary_labels=secondary_labels\n",
    "        )\n",
    "\n",
    "        melspec = self.db_transform(self.mel_transform(waveform)).to(torch.uint8)\n",
    "        melspec = melspec.expand(3, -1, -1).permute(1, 2, 0).numpy()\n",
    "\n",
    "        if self.melspec_augmentation is not None:\n",
    "            melspec = self.augmentation(image=melspec)[\"image\"]\n",
    "\n",
    "        return melspec, target, binary_target, primary_target\n"
   ]
  },
  {
   "cell_type": "code",
   "execution_count": 5,
   "metadata": {
    "tags": []
   },
   "outputs": [],
   "source": [
    "# %%\n",
    "class GeM(torch.nn.Module):\n",
    "    def __init__(self, p=3, eps=1e-6):\n",
    "        super(GeM, self).__init__()\n",
    "        self.p = torch.nn.Parameter(torch.ones(1) * p)\n",
    "        self.eps = eps\n",
    "\n",
    "    def forward(self, x):\n",
    "        out = torch.nn.functional.avg_pool2d(\n",
    "            x.clamp(min=self.eps).pow(self.p), (x.size(-2), x.size(-1))\n",
    "        ).pow(1.0 / self.p)\n",
    "        return out\n",
    "\n",
    "\n",
    "class FocalLoss(torch.nn.Module):\n",
    "    def __init__(\n",
    "        self,\n",
    "        alpha: float = cfg.focal_alpha,\n",
    "        gamma: float = cfg.focal_gamma,\n",
    "        reduction: str = \"mean\",\n",
    "    ):\n",
    "        super().__init__()\n",
    "        self.alpha = alpha\n",
    "        self.gamma = gamma\n",
    "        self.reduction = reduction\n",
    "\n",
    "    def forward(self, x, y):\n",
    "        loss = torchvision.ops.focal_loss.sigmoid_focal_loss(\n",
    "            inputs=x,\n",
    "            targets=y,\n",
    "            alpha=self.alpha,\n",
    "            gamma=self.gamma,\n",
    "            reduction=self.reduction,\n",
    "        )\n",
    "        return loss\n",
    "\n",
    "\n",
    "class FocalLossBCE(torch.nn.Module):\n",
    "    def __init__(\n",
    "        self,\n",
    "        alpha: float = cfg.focal_alpha,\n",
    "        gamma: float = cfg.focal_gamma,\n",
    "        reduction: str = \"mean\",\n",
    "        bce_weight: float = cfg.bce_weight,\n",
    "        focal_weight: float = cfg.focal_weight,\n",
    "    ):\n",
    "        super().__init__()\n",
    "        self.alpha = alpha\n",
    "        self.gamma = gamma\n",
    "        self.reduction = reduction\n",
    "        self.bce = torch.nn.BCEWithLogitsLoss(reduction=reduction)\n",
    "        self.bce_weight = bce_weight\n",
    "        self.focal_weight = focal_weight\n",
    "\n",
    "    def forward(self, inputs, targets):\n",
    "        focal_loss = torchvision.ops.focal_loss.sigmoid_focal_loss(\n",
    "            inputs=inputs,\n",
    "            targets=targets,\n",
    "            alpha=self.alpha,\n",
    "            gamma=self.gamma,\n",
    "            reduction=self.reduction,\n",
    "        )\n",
    "        bce_loss = self.bce(inputs, targets)\n",
    "        combined_loss = self.bce_weight * bce_loss + self.focal_weight * focal_loss\n",
    "        return combined_loss\n",
    "\n",
    "\n",
    "class EfficientViT(L.LightningModule):\n",
    "    def __init__(self):\n",
    "        super().__init__()\n",
    "\n",
    "        self.vit = timm.create_model(\n",
    "            cfg.backbone,\n",
    "            pretrained=True,\n",
    "            num_classes=cfg.num_classes,\n",
    "        )\n",
    "\n",
    "        self.loss_function = FocalLossBCE()\n",
    "        # self.loss_function = FocalLoss()\n",
    "        # self.loss_function = torch.nn.BCEWithLogitsLoss(reduction=\"mean\")\n",
    "        # self.loss_function = torch.nn.CrossEntropyLoss(\n",
    "        #     label_smoothing=cfg.label_smoothing\n",
    "        # )\n",
    "\n",
    "        self.accuracy = torchmetrics.Accuracy(\n",
    "            task=\"multiclass\", num_classes=cfg.num_classes, top_k=1\n",
    "        )\n",
    "        self.auroc = torchmetrics.AUROC(\n",
    "            task=\"multilabel\",\n",
    "            num_labels=cfg.num_classes,\n",
    "            average=\"macro\",\n",
    "        )\n",
    "        self.f1_macro = torchmetrics.F1Score(\n",
    "            task=\"multilabel\",\n",
    "            num_labels=cfg.num_classes,\n",
    "            average=\"macro\",\n",
    "            threshold=0.5,\n",
    "        )\n",
    "        self.f1_weighted = torchmetrics.F1Score(\n",
    "            task=\"multilabel\",\n",
    "            num_labels=cfg.num_classes,\n",
    "            average=\"weighted\",\n",
    "            threshold=0.5,\n",
    "        )\n",
    "        self.lrap = torchmetrics.classification.MultilabelRankingAveragePrecision(\n",
    "            num_labels=cfg.num_classes,\n",
    "        )\n",
    "\n",
    "\n",
    "    def mixup_data(self, x, y):\n",
    "        \"\"\"\n",
    "        Returns mixed inputs, pairs of targets, and lambda\n",
    "        reference: mixup: Beyond Empirical Risk Minimization\n",
    "        \"\"\"\n",
    "        lam = np.random.choice([0.2, 0.3, 0.4, 0.5])\n",
    "\n",
    "        batch_size = x.size()[0]\n",
    "        index = torch.randperm(batch_size)\n",
    "        mixed_x = lam * x + (1 - lam) * x[index, :]\n",
    "        y_a, y_b = y, y[index]\n",
    "        return mixed_x, y_a, y_b, lam\n",
    "\n",
    "    def mixup_loss_function(self, pred, y_a, y_b, lam):\n",
    "        loss = lam * self.loss_function(pred, y_a) + (\n",
    "            1 - lam\n",
    "        ) * self.loss_function(pred, y_b)\n",
    "        return loss\n",
    "\n",
    "\n",
    "    def forward(self, x):\n",
    "        # x = x.float() / 255\n",
    "        # x = x.expand(-1, 3, 128, -1)  # go from HxW → 3xHxW\n",
    "        x = x.permute(0, 3, 1, 2)\n",
    "        out = self.vit(x)\n",
    "        return out\n",
    "\n",
    "    def training_step(self, batch, batch_idx):\n",
    "        x, y, y_binary, y_primary = batch\n",
    "\n",
    "        y_pred = self(x)\n",
    "        loss = self.loss_function(y_pred, y)\n",
    "        y_pred = y_pred.sigmoid()\n",
    "\n",
    "        # with prob 0.5 do mel spectogram mixup\n",
    "        if np.random.choice([False, True]):\n",
    "            y_pred = self(x)\n",
    "            loss = self.loss_function(y_pred, y)\n",
    "            y_pred = y_pred.sigmoid()\n",
    "        else:\n",
    "            mixed_x, y_a, y_b, lam = self.mixup_data(x, y)\n",
    "            y_pred = self(mixed_x)\n",
    "            loss = self.mixup_loss_function(y_pred, y_a, y_b, lam)\n",
    "            y_pred = y_pred.sigmoid()\n",
    "\n",
    "        train_accuracy = self.accuracy(y_pred, y_primary)\n",
    "        train_f1_macro = self.f1_macro(y_pred, y_binary)\n",
    "        train_lrap = self.lrap(y_pred, y_binary)\n",
    "\n",
    "        self.log(\n",
    "            \"train_loss\",\n",
    "            loss,\n",
    "            on_step=True,\n",
    "            on_epoch=True,\n",
    "            prog_bar=True,\n",
    "            logger=True,\n",
    "        )\n",
    "        self.log(\n",
    "            \"train_acc\",\n",
    "            train_accuracy_top1,\n",
    "            on_step=False,\n",
    "            on_epoch=True,\n",
    "            prog_bar=True,\n",
    "            logger=True,\n",
    "        )\n",
    "        self.log(\n",
    "            \"train_f1_macro\",\n",
    "            train_f1_macro,\n",
    "            on_step=False,\n",
    "            on_epoch=True,\n",
    "            prog_bar=True,\n",
    "            logger=True,\n",
    "        )\n",
    "        self.log(\n",
    "            \"train_lrap\",\n",
    "            train_lrap,\n",
    "            on_step=False,\n",
    "            on_epoch=True,\n",
    "            prog_bar=True,\n",
    "            logger=True,\n",
    "        )\n",
    "\n",
    "        return loss\n",
    "\n",
    "    def validation_step(self, batch, batch_idx):\n",
    "        x_val, y_val, y_binary_val, y_primary_val = batch\n",
    "        y_pred = self(x_val)\n",
    "        val_loss = self.loss_function(y_pred, y_val)\n",
    "\n",
    "        y_pred = y_pred.sigmoid()\n",
    "        val_accuracy_top1 = self.accuracy(y_pred, y_primary_val)\n",
    "        val_auroc = self.auroc(y_pred, y_binary_val)\n",
    "        # val_f1_weighted = self.f1_weighted(y_pred, y_binary_val)\n",
    "        val_f1_macro = self.f1_macro(y_pred, y_binary_val)\n",
    "        val_lrap = self.lrap(y_pred, y_binary_val)\n",
    "\n",
    "        self.log(\n",
    "            \"val_loss\",\n",
    "            val_loss,\n",
    "            on_step=False,\n",
    "            on_epoch=True,\n",
    "            prog_bar=True,\n",
    "            logger=True,\n",
    "        )\n",
    "        self.log(\n",
    "            \"val_acc\",\n",
    "            val_accuracy,\n",
    "            on_step=False,\n",
    "            on_epoch=True,\n",
    "            prog_bar=True,\n",
    "            logger=True,\n",
    "        )\n",
    "        self.log(\n",
    "            \"val_auroc\",\n",
    "            val_auroc,\n",
    "            on_step=False,\n",
    "            on_epoch=True,\n",
    "            prog_bar=True,\n",
    "            logger=True,\n",
    "        )\n",
    "        # self.log(\n",
    "        #     \"val_f1_weighted\",\n",
    "        #     val_f1_weighted,\n",
    "        #     on_step=False,\n",
    "        #     on_epoch=True,\n",
    "        #     prog_bar=True,\n",
    "        #     logger=True,\n",
    "        # )\n",
    "        self.log(\n",
    "            \"val_f1_macro\",\n",
    "            val_f1_macro,\n",
    "            on_step=False,\n",
    "            on_epoch=True,\n",
    "            prog_bar=True,\n",
    "            logger=True,\n",
    "        )\n",
    "        self.log(\n",
    "            \"val_lrap\",\n",
    "            val_lrap,\n",
    "            on_step=False,\n",
    "            on_epoch=True,\n",
    "            prog_bar=True,\n",
    "            logger=True,\n",
    "        )\n",
    "\n",
    "        return val_loss\n",
    "\n",
    "    def on_train_epoch_end(self):\n",
    "        metrics = self.trainer.progress_bar_callback.get_metrics(trainer, model)\n",
    "        metrics.pop(\"v_num\", None)\n",
    "        metrics.pop(\"train_loss_step\", None)\n",
    "        for key, value in metrics.items():\n",
    "            metrics[key] = round(value, 5)\n",
    "        logger.info(f\"Epoch {self.trainer.current_epoch}: {metrics}\")\n",
    "\n",
    "    def configure_optimizers(self):\n",
    "        optimizer = torch.optim.AdamW(\n",
    "            params=self.parameters(),\n",
    "            lr=cfg.lr_max,\n",
    "            weight_decay=cfg.weight_decay,\n",
    "            # fused=cfg.fused_adamw,\n",
    "        )\n",
    "        lr_scheduler = CosineAnnealingWarmRestarts(\n",
    "            optimizer, T_0=cfg.n_epochs, T_mult=1, eta_min=cfg.lr_min, last_epoch=-1\n",
    "        )\n",
    "        return {\n",
    "            \"optimizer\": optimizer,\n",
    "            \"lr_scheduler\": {\n",
    "                \"scheduler\": lr_scheduler,\n",
    "                \"interval\": \"epoch\",\n",
    "                \"monitor\": \"val_loss\",\n",
    "                \"frequency\": 1,\n",
    "            },\n",
    "        }\n"
   ]
  },
  {
   "cell_type": "code",
   "execution_count": 6,
   "metadata": {
    "tags": []
   },
   "outputs": [
    {
     "name": "stderr",
     "output_type": "stream",
     "text": [
      " 2024-05-27 12:09:02,566 [MainThread] 🐦‍🔥 ————————————————————————————————————————————————————————————————————————————————\n",
      " 2024-05-27 12:09:02,568 [MainThread] 🐦‍🔥 Config: \n",
      "{'accelerator': 'gpu',\n",
      " 'add_secondary_labels': False,\n",
      " 'backbone': 'efficientvit_b1.r224_in1k',\n",
      " 'batch_size': 128,\n",
      " 'bce_weight': 1.0,\n",
      " 'data_path': '../data',\n",
      " 'debug_run': False,\n",
      " 'experiment_name': 'foundation',\n",
      " 'experiment_run': False,\n",
      " 'focal_alpha': 0.25,\n",
      " 'focal_gamma': 2.0,\n",
      " 'focal_weight': 1.0,\n",
      " 'frame_duration': 5,\n",
      " 'frame_rate': 62.5,\n",
      " 'freq_max': 15000,\n",
      " 'freq_min': 40,\n",
      " 'hop_length': 512,\n",
      " 'label_smoothing': 0.05,\n",
      " 'log_scale_power': 2,\n",
      " 'lr_max': 0.0005,\n",
      " 'lr_min': 1e-06,\n",
      " 'max_decibels': 100,\n",
      " 'melspec_augmentation': True,\n",
      " 'melspec_hres': 128,\n",
      " 'melspec_mixup': False,\n",
      " 'melspec_mixup_prob': 0.5,\n",
      " 'melspec_supermixup': False,\n",
      " 'melspec_wres': 312,\n",
      " 'n_epochs': 50,\n",
      " 'n_fft': 2048,\n",
      " 'n_workers': 30,\n",
      " 'normalize_waveform': True,\n",
      " 'num_classes': 182,\n",
      " 'patience': 10,\n",
      " 'precision': 'bf16-mixed',\n",
      " 'production_run': True,\n",
      " 'run_tag': '2024-05-27 '\n",
      "            '12:08:58_efficientvit_b1.r224_in1k_foundation_val_0.25_lr_0.0005_decay_1e-06',\n",
      " 'sample_rate': 32000,\n",
      " 'sample_weight_factor': 0.25,\n",
      " 'timestamp': datetime.datetime(2024, 5, 27, 12, 8, 58),\n",
      " 'val_ratio': 0.25,\n",
      " 'vit_b1': 'efficientvit_b1.r224_in1k',\n",
      " 'waveform_augmentation': False,\n",
      " 'weight_decay': 1e-06,\n",
      " 'weighted_sampling': False,\n",
      " 'window_length': None}\n",
      " 2024-05-27 12:09:02,771 [MainThread] 🐦‍🔥 Loading prepared dataframes from ../data\n",
      " 2024-05-27 12:09:03,192 [MainThread] 🐦‍🔥 Running production: full data\n",
      " 2024-05-27 12:09:03,229 [MainThread] 🐦‍🔥 Dataframe shape: (88247, 18)\n",
      " 2024-05-27 12:09:03,264 [MainThread] 🐦‍🔥 Creating label mappings\n"
     ]
    }
   ],
   "source": [
    "# %%\n",
    "if __name__ == \"__main__\":\n",
    "    logger = define_logger()\n",
    "    config_dictionary = get_config(cfg)\n",
    "\n",
    "    csv_logger = None\n",
    "    if not cfg.debug_run:\n",
    "        csv_logger = L.pytorch.loggers.CSVLogger(save_dir=\"../logs/\")\n",
    "        csv_logger.log_hyperparams(config_dictionary)\n",
    "\n",
    "    model_input_df, sample_submission = load_metadata(data_path=cfg.data_path)\n",
    "    model_input_df = add_sample_weights(model_input_df)\n",
    "    class_to_label_map = create_label_map(submission_df=sample_submission)\n"
   ]
  },
  {
   "cell_type": "code",
   "execution_count": null,
   "metadata": {
    "tags": []
   },
   "outputs": [
    {
     "name": "stderr",
     "output_type": "stream",
     "text": [
      " 2024-05-27 12:09:06,270 [MainThread] 🐦‍🔥 Parallel Loading waveforms\n"
     ]
    },
    {
     "data": {
      "application/vnd.jupyter.widget-view+json": {
       "model_id": "3c35964ba156435786c5a0703d9a6ac6",
       "version_major": 2,
       "version_minor": 0
      },
      "text/plain": [
       "Loading waves:   0%|          | 0/88247 [00:00<?, ?it/s]"
      ]
     },
     "metadata": {},
     "output_type": "display_data"
    },
    {
     "name": "stderr",
     "output_type": "stream",
     "text": [
      " 2024-05-27 12:23:58,439 [MainThread] 🐦‍🔥 Finished loadeding waveforms\n"
     ]
    }
   ],
   "source": [
    "    # %%\n",
    "    waveforms = read_waveforms_parallel(model_input_df=model_input_df)"
   ]
  },
  {
   "cell_type": "code",
   "execution_count": 8,
   "metadata": {
    "tags": []
   },
   "outputs": [
    {
     "name": "stderr",
     "output_type": "stream",
     "text": [
      " 2024-05-27 12:24:05,957 [MainThread] 🐦‍🔥 Padding or cropping waveforms to desired duration\n"
     ]
    },
    {
     "data": {
      "application/vnd.jupyter.widget-view+json": {
       "model_id": "50fe7e14303446f8b216f21f85704ac5",
       "version_major": 2,
       "version_minor": 0
      },
      "text/plain": [
       "Padding waves:   0%|          | 0/88247 [00:00<?, ?it/s]"
      ]
     },
     "metadata": {},
     "output_type": "display_data"
    }
   ],
   "source": [
    "    # %%\n",
    "    waveforms = pad_or_crop_waveforms(waveforms=waveforms)"
   ]
  },
  {
   "cell_type": "code",
   "execution_count": null,
   "metadata": {
    "tags": []
   },
   "outputs": [
    {
     "name": "stderr",
     "output_type": "stream",
     "text": [
      " 2024-05-27 12:24:46,902 [MainThread] 🐦‍🔥 Splitting 88247 waveforms into train/val: 0.25\n",
      " 2024-05-27 12:24:55,167 [MainThread] 🐦‍🔥 Dataloaders ready to go brrr\n",
      " 2024-05-27 12:24:55,251 [MainThread] 🐦‍🔥 Loading pretrained weights from Hugging Face hub (timm/efficientvit_b1.r224_in1k)\n",
      " 2024-05-27 12:24:55,395 [MainThread] 🐦‍🔥 [timm/efficientvit_b1.r224_in1k] Safe alternative available for 'pytorch_model.bin' (as 'model.safetensors'). Loading weights using safetensors.\n",
      " 2024-05-27 12:24:55,416 [MainThread] 🐦‍🔥 Missing keys (head.classifier.4.weight, head.classifier.4.bias) discovered while loading pretrained weights. This is expected if model is being adapted.\n",
      "Using bfloat16 Automatic Mixed Precision (AMP)\n",
      "GPU available: True (cuda), used: True\n",
      "TPU available: False, using: 0 TPU cores\n",
      "IPU available: False, using: 0 IPUs\n",
      "HPU available: False, using: 0 HPUs\n",
      " 2024-05-27 12:25:09,588 [MainThread] 🐦‍🔥 \n",
      "Start training fold 0\n",
      "LOCAL_RANK: 0 - CUDA_VISIBLE_DEVICES: [0]\n"
     ]
    },
    {
     "data": {
      "application/vnd.jupyter.widget-view+json": {
       "model_id": "",
       "version_major": 2,
       "version_minor": 0
      },
      "text/plain": [
       "Sanity Checking: |          | 0/? [00:00<?, ?it/s]"
      ]
     },
     "metadata": {},
     "output_type": "display_data"
    },
    {
     "data": {
      "application/vnd.jupyter.widget-view+json": {
       "model_id": "c0870da21b1a49cd8467a07ccb106777",
       "version_major": 2,
       "version_minor": 0
      },
      "text/plain": [
       "Training: |          | 0/? [00:00<?, ?it/s]"
      ]
     },
     "metadata": {},
     "output_type": "display_data"
    },
    {
     "data": {
      "application/vnd.jupyter.widget-view+json": {
       "model_id": "",
       "version_major": 2,
       "version_minor": 0
      },
      "text/plain": [
       "Validation: |          | 0/? [00:00<?, ?it/s]"
      ]
     },
     "metadata": {},
     "output_type": "display_data"
    },
    {
     "name": "stderr",
     "output_type": "stream",
     "text": [
      " 2024-05-27 12:28:26,010 [MainThread] 🐦‍🔥 Epoch 0: {'val_loss': 0.0275, 'val_acc_1': 0.34047, 'val_auroc': 0.34372, 'val_f1_macro': 0.01601, 'train_loss_epoch': 0.03728, 'train_acc_1': 0.15271, 'train_f1_macro': 0.01517}\n",
      "Metric val_f1_macro improved. New best score: 0.016\n"
     ]
    },
    {
     "data": {
      "application/vnd.jupyter.widget-view+json": {
       "model_id": "",
       "version_major": 2,
       "version_minor": 0
      },
      "text/plain": [
       "Validation: |          | 0/? [00:00<?, ?it/s]"
      ]
     },
     "metadata": {},
     "output_type": "display_data"
    },
    {
     "name": "stderr",
     "output_type": "stream",
     "text": [
      " 2024-05-27 12:31:06,279 [MainThread] 🐦‍🔥 Epoch 1: {'val_loss': 0.01837, 'val_acc_1': 0.56892, 'val_auroc': 0.37135, 'val_f1_macro': 0.09809, 'train_loss_epoch': 0.02177, 'train_acc_1': 0.37558, 'train_f1_macro': 0.07749}\n",
      "Metric val_f1_macro improved by 0.082 >= min_delta = 0.005. New best score: 0.098\n"
     ]
    },
    {
     "data": {
      "application/vnd.jupyter.widget-view+json": {
       "model_id": "",
       "version_major": 2,
       "version_minor": 0
      },
      "text/plain": [
       "Validation: |          | 0/? [00:00<?, ?it/s]"
      ]
     },
     "metadata": {},
     "output_type": "display_data"
    },
    {
     "name": "stderr",
     "output_type": "stream",
     "text": [
      " 2024-05-27 12:33:48,214 [MainThread] 🐦‍🔥 Epoch 2: {'val_loss': 0.01687, 'val_acc_1': 0.60277, 'val_auroc': 0.37412, 'val_f1_macro': 0.1288, 'train_loss_epoch': 0.01895, 'train_acc_1': 0.41383, 'train_f1_macro': 0.10176}\n",
      "Metric val_f1_macro improved by 0.031 >= min_delta = 0.005. New best score: 0.129\n"
     ]
    },
    {
     "data": {
      "application/vnd.jupyter.widget-view+json": {
       "model_id": "",
       "version_major": 2,
       "version_minor": 0
      },
      "text/plain": [
       "Validation: |          | 0/? [00:00<?, ?it/s]"
      ]
     },
     "metadata": {},
     "output_type": "display_data"
    },
    {
     "name": "stderr",
     "output_type": "stream",
     "text": [
      " 2024-05-27 12:36:29,918 [MainThread] 🐦‍🔥 Epoch 3: {'val_loss': 0.0151, 'val_acc_1': 0.65252, 'val_auroc': 0.37531, 'val_f1_macro': 0.15602, 'train_loss_epoch': 0.01686, 'train_acc_1': 0.4746, 'train_f1_macro': 0.13057}\n",
      "Metric val_f1_macro improved by 0.027 >= min_delta = 0.005. New best score: 0.156\n"
     ]
    },
    {
     "data": {
      "application/vnd.jupyter.widget-view+json": {
       "model_id": "",
       "version_major": 2,
       "version_minor": 0
      },
      "text/plain": [
       "Validation: |          | 0/? [00:00<?, ?it/s]"
      ]
     },
     "metadata": {},
     "output_type": "display_data"
    },
    {
     "name": "stderr",
     "output_type": "stream",
     "text": [
      " 2024-05-27 12:39:13,824 [MainThread] 🐦‍🔥 Epoch 4: {'val_loss': 0.01768, 'val_acc_1': 0.59748, 'val_auroc': 0.37458, 'val_f1_macro': 0.13197, 'train_loss_epoch': 0.01522, 'train_acc_1': 0.50758, 'train_f1_macro': 0.14801}\n"
     ]
    },
    {
     "data": {
      "application/vnd.jupyter.widget-view+json": {
       "model_id": "",
       "version_major": 2,
       "version_minor": 0
      },
      "text/plain": [
       "Validation: |          | 0/? [00:00<?, ?it/s]"
      ]
     },
     "metadata": {},
     "output_type": "display_data"
    },
    {
     "name": "stderr",
     "output_type": "stream",
     "text": [
      " 2024-05-27 12:41:58,758 [MainThread] 🐦‍🔥 Epoch 5: {'val_loss': 0.01579, 'val_acc_1': 0.64413, 'val_auroc': 0.37518, 'val_f1_macro': 0.15519, 'train_loss_epoch': 0.01485, 'train_acc_1': 0.51222, 'train_f1_macro': 0.1498}\n"
     ]
    },
    {
     "data": {
      "application/vnd.jupyter.widget-view+json": {
       "model_id": "",
       "version_major": 2,
       "version_minor": 0
      },
      "text/plain": [
       "Validation: |          | 0/? [00:00<?, ?it/s]"
      ]
     },
     "metadata": {},
     "output_type": "display_data"
    },
    {
     "name": "stderr",
     "output_type": "stream",
     "text": [
      " 2024-05-27 12:44:44,075 [MainThread] 🐦‍🔥 Epoch 6: {'val_loss': 0.01463, 'val_acc_1': 0.67888, 'val_auroc': 0.37622, 'val_f1_macro': 0.19087, 'train_loss_epoch': 0.01356, 'train_acc_1': 0.53386, 'train_f1_macro': 0.16436}\n",
      "Metric val_f1_macro improved by 0.035 >= min_delta = 0.005. New best score: 0.191\n"
     ]
    },
    {
     "data": {
      "application/vnd.jupyter.widget-view+json": {
       "model_id": "",
       "version_major": 2,
       "version_minor": 0
      },
      "text/plain": [
       "Validation: |          | 0/? [00:00<?, ?it/s]"
      ]
     },
     "metadata": {},
     "output_type": "display_data"
    },
    {
     "name": "stderr",
     "output_type": "stream",
     "text": [
      " 2024-05-27 12:47:32,025 [MainThread] 🐦‍🔥 Epoch 7: {'val_loss': 0.01369, 'val_acc_1': 0.68934, 'val_auroc': 0.37629, 'val_f1_macro': 0.20475, 'train_loss_epoch': 0.01352, 'train_acc_1': 0.51822, 'train_f1_macro': 0.15946}\n",
      "Metric val_f1_macro improved by 0.014 >= min_delta = 0.005. New best score: 0.205\n"
     ]
    },
    {
     "data": {
      "application/vnd.jupyter.widget-view+json": {
       "model_id": "",
       "version_major": 2,
       "version_minor": 0
      },
      "text/plain": [
       "Validation: |          | 0/? [00:00<?, ?it/s]"
      ]
     },
     "metadata": {},
     "output_type": "display_data"
    },
    {
     "name": "stderr",
     "output_type": "stream",
     "text": [
      " 2024-05-27 12:50:21,218 [MainThread] 🐦‍🔥 Epoch 8: {'val_loss': 0.01388, 'val_acc_1': 0.69913, 'val_auroc': 0.37684, 'val_f1_macro': 0.21165, 'train_loss_epoch': 0.01337, 'train_acc_1': 0.53102, 'train_f1_macro': 0.16263}\n",
      "Metric val_f1_macro improved by 0.007 >= min_delta = 0.005. New best score: 0.212\n"
     ]
    },
    {
     "data": {
      "application/vnd.jupyter.widget-view+json": {
       "model_id": "",
       "version_major": 2,
       "version_minor": 0
      },
      "text/plain": [
       "Validation: |          | 0/? [00:00<?, ?it/s]"
      ]
     },
     "metadata": {},
     "output_type": "display_data"
    },
    {
     "name": "stderr",
     "output_type": "stream",
     "text": [
      " 2024-05-27 12:53:10,740 [MainThread] 🐦‍🔥 Epoch 9: {'val_loss': 0.01296, 'val_acc_1': 0.70438, 'val_auroc': 0.37469, 'val_f1_macro': 0.21976, 'train_loss_epoch': 0.01246, 'train_acc_1': 0.55303, 'train_f1_macro': 0.17741}\n",
      "Metric val_f1_macro improved by 0.008 >= min_delta = 0.005. New best score: 0.220\n"
     ]
    },
    {
     "data": {
      "application/vnd.jupyter.widget-view+json": {
       "model_id": "",
       "version_major": 2,
       "version_minor": 0
      },
      "text/plain": [
       "Validation: |          | 0/? [00:00<?, ?it/s]"
      ]
     },
     "metadata": {},
     "output_type": "display_data"
    },
    {
     "name": "stderr",
     "output_type": "stream",
     "text": [
      " 2024-05-27 12:56:02,569 [MainThread] 🐦‍🔥 Epoch 10: {'val_loss': 0.01374, 'val_acc_1': 0.70151, 'val_auroc': 0.37649, 'val_f1_macro': 0.21805, 'train_loss_epoch': 0.01167, 'train_acc_1': 0.57589, 'train_f1_macro': 0.18553}\n"
     ]
    },
    {
     "data": {
      "application/vnd.jupyter.widget-view+json": {
       "model_id": "",
       "version_major": 2,
       "version_minor": 0
      },
      "text/plain": [
       "Validation: |          | 0/? [00:00<?, ?it/s]"
      ]
     },
     "metadata": {},
     "output_type": "display_data"
    },
    {
     "name": "stderr",
     "output_type": "stream",
     "text": [
      " 2024-05-27 12:58:53,768 [MainThread] 🐦‍🔥 Epoch 11: {'val_loss': 0.01325, 'val_acc_1': 0.71731, 'val_auroc': 0.37677, 'val_f1_macro': 0.22912, 'train_loss_epoch': 0.01288, 'train_acc_1': 0.54341, 'train_f1_macro': 0.17}\n",
      "Metric val_f1_macro improved by 0.009 >= min_delta = 0.005. New best score: 0.229\n"
     ]
    },
    {
     "data": {
      "application/vnd.jupyter.widget-view+json": {
       "model_id": "",
       "version_major": 2,
       "version_minor": 0
      },
      "text/plain": [
       "Validation: |          | 0/? [00:00<?, ?it/s]"
      ]
     },
     "metadata": {},
     "output_type": "display_data"
    },
    {
     "name": "stderr",
     "output_type": "stream",
     "text": [
      " 2024-05-27 13:01:46,996 [MainThread] 🐦‍🔥 Epoch 12: {'val_loss': 0.01345, 'val_acc_1': 0.72661, 'val_auroc': 0.37727, 'val_f1_macro': 0.23624, 'train_loss_epoch': 0.01114, 'train_acc_1': 0.59453, 'train_f1_macro': 0.19342}\n",
      "Metric val_f1_macro improved by 0.007 >= min_delta = 0.005. New best score: 0.236\n"
     ]
    },
    {
     "data": {
      "application/vnd.jupyter.widget-view+json": {
       "model_id": "",
       "version_major": 2,
       "version_minor": 0
      },
      "text/plain": [
       "Validation: |          | 0/? [00:00<?, ?it/s]"
      ]
     },
     "metadata": {},
     "output_type": "display_data"
    },
    {
     "name": "stderr",
     "output_type": "stream",
     "text": [
      " 2024-05-27 13:04:40,281 [MainThread] 🐦‍🔥 Epoch 13: {'val_loss': 0.01367, 'val_acc_1': 0.72082, 'val_auroc': 0.37708, 'val_f1_macro': 0.23593, 'train_loss_epoch': 0.01111, 'train_acc_1': 0.57683, 'train_f1_macro': 0.18737}\n"
     ]
    },
    {
     "data": {
      "application/vnd.jupyter.widget-view+json": {
       "model_id": "",
       "version_major": 2,
       "version_minor": 0
      },
      "text/plain": [
       "Validation: |          | 0/? [00:00<?, ?it/s]"
      ]
     },
     "metadata": {},
     "output_type": "display_data"
    },
    {
     "name": "stderr",
     "output_type": "stream",
     "text": [
      " 2024-05-27 13:07:35,469 [MainThread] 🐦‍🔥 Epoch 14: {'val_loss': 0.01366, 'val_acc_1': 0.73141, 'val_auroc': 0.37701, 'val_f1_macro': 0.24208, 'train_loss_epoch': 0.01096, 'train_acc_1': 0.57048, 'train_f1_macro': 0.18606}\n",
      "Metric val_f1_macro improved by 0.006 >= min_delta = 0.005. New best score: 0.242\n"
     ]
    },
    {
     "data": {
      "application/vnd.jupyter.widget-view+json": {
       "model_id": "",
       "version_major": 2,
       "version_minor": 0
      },
      "text/plain": [
       "Validation: |          | 0/? [00:00<?, ?it/s]"
      ]
     },
     "metadata": {},
     "output_type": "display_data"
    },
    {
     "name": "stderr",
     "output_type": "stream",
     "text": [
      " 2024-05-27 13:10:31,795 [MainThread] 🐦‍🔥 Epoch 15: {'val_loss': 0.01492, 'val_acc_1': 0.71026, 'val_auroc': 0.37667, 'val_f1_macro': 0.23088, 'train_loss_epoch': 0.01059, 'train_acc_1': 0.59036, 'train_f1_macro': 0.19242}\n"
     ]
    },
    {
     "data": {
      "application/vnd.jupyter.widget-view+json": {
       "model_id": "",
       "version_major": 2,
       "version_minor": 0
      },
      "text/plain": [
       "Validation: |          | 0/? [00:00<?, ?it/s]"
      ]
     },
     "metadata": {},
     "output_type": "display_data"
    },
    {
     "name": "stderr",
     "output_type": "stream",
     "text": [
      " 2024-05-27 13:13:29,869 [MainThread] 🐦‍🔥 Epoch 16: {'val_loss': 0.01363, 'val_acc_1': 0.73379, 'val_auroc': 0.37755, 'val_f1_macro': 0.24124, 'train_loss_epoch': 0.01016, 'train_acc_1': 0.61029, 'train_f1_macro': 0.20156}\n"
     ]
    },
    {
     "data": {
      "application/vnd.jupyter.widget-view+json": {
       "model_id": "",
       "version_major": 2,
       "version_minor": 0
      },
      "text/plain": [
       "Validation: |          | 0/? [00:00<?, ?it/s]"
      ]
     },
     "metadata": {},
     "output_type": "display_data"
    },
    {
     "name": "stderr",
     "output_type": "stream",
     "text": [
      " 2024-05-27 13:16:27,054 [MainThread] 🐦‍🔥 Epoch 17: {'val_loss': 0.01327, 'val_acc_1': 0.7095, 'val_auroc': 0.37428, 'val_f1_macro': 0.21001, 'train_loss_epoch': 0.01028, 'train_acc_1': 0.58089, 'train_f1_macro': 0.19284}\n"
     ]
    },
    {
     "data": {
      "application/vnd.jupyter.widget-view+json": {
       "model_id": "",
       "version_major": 2,
       "version_minor": 0
      },
      "text/plain": [
       "Validation: |          | 0/? [00:00<?, ?it/s]"
      ]
     },
     "metadata": {},
     "output_type": "display_data"
    },
    {
     "name": "stderr",
     "output_type": "stream",
     "text": [
      " 2024-05-27 13:19:27,544 [MainThread] 🐦‍🔥 Epoch 18: {'val_loss': 0.01295, 'val_acc_1': 0.73087, 'val_auroc': 0.37552, 'val_f1_macro': 0.23539, 'train_loss_epoch': 0.01004, 'train_acc_1': 0.60366, 'train_f1_macro': 0.20031}\n"
     ]
    },
    {
     "data": {
      "application/vnd.jupyter.widget-view+json": {
       "model_id": "",
       "version_major": 2,
       "version_minor": 0
      },
      "text/plain": [
       "Validation: |          | 0/? [00:00<?, ?it/s]"
      ]
     },
     "metadata": {},
     "output_type": "display_data"
    },
    {
     "name": "stderr",
     "output_type": "stream",
     "text": [
      " 2024-05-27 13:22:28,690 [MainThread] 🐦‍🔥 Epoch 19: {'val_loss': 0.01232, 'val_acc_1': 0.73464, 'val_auroc': 0.37555, 'val_f1_macro': 0.23421, 'train_loss_epoch': 0.00956, 'train_acc_1': 0.6115, 'train_f1_macro': 0.20438}\n"
     ]
    },
    {
     "data": {
      "application/vnd.jupyter.widget-view+json": {
       "model_id": "",
       "version_major": 2,
       "version_minor": 0
      },
      "text/plain": [
       "Validation: |          | 0/? [00:00<?, ?it/s]"
      ]
     },
     "metadata": {},
     "output_type": "display_data"
    },
    {
     "name": "stderr",
     "output_type": "stream",
     "text": [
      " 2024-05-27 13:25:30,177 [MainThread] 🐦‍🔥 Epoch 20: {'val_loss': 0.01276, 'val_acc_1': 0.73864, 'val_auroc': 0.37623, 'val_f1_macro': 0.23762, 'train_loss_epoch': 0.00955, 'train_acc_1': 0.60456, 'train_f1_macro': 0.20164}\n"
     ]
    },
    {
     "data": {
      "application/vnd.jupyter.widget-view+json": {
       "model_id": "",
       "version_major": 2,
       "version_minor": 0
      },
      "text/plain": [
       "Validation: |          | 0/? [00:00<?, ?it/s]"
      ]
     },
     "metadata": {},
     "output_type": "display_data"
    },
    {
     "name": "stderr",
     "output_type": "stream",
     "text": [
      " 2024-05-27 13:28:33,014 [MainThread] 🐦‍🔥 Epoch 21: {'val_loss': 0.0135, 'val_acc_1': 0.74107, 'val_auroc': 0.37634, 'val_f1_macro': 0.24235, 'train_loss_epoch': 0.01012, 'train_acc_1': 0.57775, 'train_f1_macro': 0.19101}\n"
     ]
    },
    {
     "data": {
      "application/vnd.jupyter.widget-view+json": {
       "model_id": "",
       "version_major": 2,
       "version_minor": 0
      },
      "text/plain": [
       "Validation: |          | 0/? [00:00<?, ?it/s]"
      ]
     },
     "metadata": {},
     "output_type": "display_data"
    },
    {
     "name": "stderr",
     "output_type": "stream",
     "text": [
      " 2024-05-27 13:31:37,581 [MainThread] 🐦‍🔥 Epoch 22: {'val_loss': 0.01253, 'val_acc_1': 0.73262, 'val_auroc': 0.37551, 'val_f1_macro': 0.23004, 'train_loss_epoch': 0.00935, 'train_acc_1': 0.61661, 'train_f1_macro': 0.20621}\n"
     ]
    },
    {
     "data": {
      "application/vnd.jupyter.widget-view+json": {
       "model_id": "",
       "version_major": 2,
       "version_minor": 0
      },
      "text/plain": [
       "Validation: |          | 0/? [00:00<?, ?it/s]"
      ]
     },
     "metadata": {},
     "output_type": "display_data"
    },
    {
     "name": "stderr",
     "output_type": "stream",
     "text": [
      " 2024-05-27 13:34:42,316 [MainThread] 🐦‍🔥 Epoch 23: {'val_loss': 0.01216, 'val_acc_1': 0.74915, 'val_auroc': 0.37527, 'val_f1_macro': 0.2415, 'train_loss_epoch': 0.00932, 'train_acc_1': 0.61241, 'train_f1_macro': 0.20418}\n"
     ]
    },
    {
     "data": {
      "application/vnd.jupyter.widget-view+json": {
       "model_id": "c1475c245ac94187874114b51869d202",
       "version_major": 2,
       "version_minor": 0
      },
      "text/plain": [
       "Validation: |          | 0/? [00:00<?, ?it/s]"
      ]
     },
     "metadata": {},
     "output_type": "display_data"
    },
    {
     "name": "stderr",
     "output_type": "stream",
     "text": [
      " 2024-05-27 13:37:48,157 [MainThread] 🐦‍🔥 Epoch 24: {'val_loss': 0.01275, 'val_acc_1': 0.73235, 'val_auroc': 0.37557, 'val_f1_macro': 0.23499, 'train_loss_epoch': 0.00982, 'train_acc_1': 0.58151, 'train_f1_macro': 0.19157}\n",
      "Monitored metric val_f1_macro did not improve in the last 10 records. Best score: 0.242. Signaling Trainer to stop.\n",
      " 2024-05-27 13:37:52,219 [MainThread] 🐦‍🔥 Finished training fold 0\n",
      " 2024-05-27 13:37:52,221 [MainThread] 🐦‍🔥 Saving model\n",
      " 2024-05-27 13:37:52,489 [MainThread] 🐦‍🔥 Saved model to filename: 2024-05-27 12:08:58_efficientvit_b1.r224_in1k_foundation_val_0.25_lr_0.0005_decay_1e-06_fold_0_epochs_25.ckpt\n",
      " 2024-05-27 13:37:52,599 [MainThread] 🐦‍🔥 Dataloaders ready to go brrr\n",
      " 2024-05-27 13:37:52,699 [MainThread] 🐦‍🔥 Loading pretrained weights from Hugging Face hub (timm/efficientvit_b1.r224_in1k)\n",
      " 2024-05-27 13:37:52,879 [MainThread] 🐦‍🔥 [timm/efficientvit_b1.r224_in1k] Safe alternative available for 'pytorch_model.bin' (as 'model.safetensors'). Loading weights using safetensors.\n",
      " 2024-05-27 13:37:52,907 [MainThread] 🐦‍🔥 Missing keys (head.classifier.4.weight, head.classifier.4.bias) discovered while loading pretrained weights. This is expected if model is being adapted.\n",
      "Using bfloat16 Automatic Mixed Precision (AMP)\n",
      "GPU available: True (cuda), used: True\n",
      "TPU available: False, using: 0 TPU cores\n",
      "IPU available: False, using: 0 IPUs\n",
      "HPU available: False, using: 0 HPUs\n",
      " 2024-05-27 13:37:52,936 [MainThread] 🐦‍🔥 \n",
      "Start training fold 1\n",
      "LOCAL_RANK: 0 - CUDA_VISIBLE_DEVICES: [0]\n"
     ]
    },
    {
     "data": {
      "application/vnd.jupyter.widget-view+json": {
       "model_id": "d384ed1b57cf4af6b61eef9bd15f09b0",
       "version_major": 2,
       "version_minor": 0
      },
      "text/plain": [
       "Sanity Checking: |          | 0/? [00:00<?, ?it/s]"
      ]
     },
     "metadata": {},
     "output_type": "display_data"
    },
    {
     "data": {
      "application/vnd.jupyter.widget-view+json": {
       "model_id": "eec70e1c8b654bed852dbaf4ba62490b",
       "version_major": 2,
       "version_minor": 0
      },
      "text/plain": [
       "Training: |          | 0/? [00:00<?, ?it/s]"
      ]
     },
     "metadata": {},
     "output_type": "display_data"
    },
    {
     "data": {
      "application/vnd.jupyter.widget-view+json": {
       "model_id": "bac783e5a4fa45899096c68272069176",
       "version_major": 2,
       "version_minor": 0
      },
      "text/plain": [
       "Validation: |          | 0/? [00:00<?, ?it/s]"
      ]
     },
     "metadata": {},
     "output_type": "display_data"
    },
    {
     "name": "stderr",
     "output_type": "stream",
     "text": [
      " 2024-05-27 13:41:05,397 [MainThread] 🐦‍🔥 Epoch 0: {'val_loss': 0.02345, 'val_acc_1': 0.43586, 'val_auroc': 0.35653, 'val_f1_macro': 0.06743, 'train_loss_epoch': 0.0372, 'train_acc_1': 0.14378, 'train_f1_macro': 0.01382}\n",
      "Metric val_f1_macro improved. New best score: 0.067\n"
     ]
    },
    {
     "data": {
      "application/vnd.jupyter.widget-view+json": {
       "model_id": "3ec51e5d10134daab090389dc135ea2f",
       "version_major": 2,
       "version_minor": 0
      },
      "text/plain": [
       "Validation: |          | 0/? [00:00<?, ?it/s]"
      ]
     },
     "metadata": {},
     "output_type": "display_data"
    },
    {
     "name": "stderr",
     "output_type": "stream",
     "text": [
      " 2024-05-27 13:43:45,524 [MainThread] 🐦‍🔥 Epoch 1: {'val_loss': 0.01673, 'val_acc_1': 0.59667, 'val_auroc': 0.36971, 'val_f1_macro': 0.13428, 'train_loss_epoch': 0.02196, 'train_acc_1': 0.35075, 'train_f1_macro': 0.07325}\n",
      "Metric val_f1_macro improved by 0.067 >= min_delta = 0.005. New best score: 0.134\n"
     ]
    },
    {
     "data": {
      "application/vnd.jupyter.widget-view+json": {
       "model_id": "9e60a99f3cc34174a55ccfc52311494e",
       "version_major": 2,
       "version_minor": 0
      },
      "text/plain": [
       "Validation: |          | 0/? [00:00<?, ?it/s]"
      ]
     },
     "metadata": {},
     "output_type": "display_data"
    },
    {
     "name": "stderr",
     "output_type": "stream",
     "text": [
      " 2024-05-27 13:46:27,180 [MainThread] 🐦‍🔥 Epoch 2: {'val_loss': 0.01419, 'val_acc_1': 0.65735, 'val_auroc': 0.3719, 'val_f1_macro': 0.17154, 'train_loss_epoch': 0.01898, 'train_acc_1': 0.4203, 'train_f1_macro': 0.10486}\n",
      "Metric val_f1_macro improved by 0.037 >= min_delta = 0.005. New best score: 0.172\n"
     ]
    },
    {
     "data": {
      "application/vnd.jupyter.widget-view+json": {
       "model_id": "47bdddc16f63473e970d804a9834b150",
       "version_major": 2,
       "version_minor": 0
      },
      "text/plain": [
       "Validation: |          | 0/? [00:00<?, ?it/s]"
      ]
     },
     "metadata": {},
     "output_type": "display_data"
    },
    {
     "name": "stderr",
     "output_type": "stream",
     "text": [
      " 2024-05-27 13:49:09,446 [MainThread] 🐦‍🔥 Epoch 3: {'val_loss': 0.01641, 'val_acc_1': 0.6223, 'val_auroc': 0.37022, 'val_f1_macro': 0.1346, 'train_loss_epoch': 0.01664, 'train_acc_1': 0.47495, 'train_f1_macro': 0.13123}\n"
     ]
    },
    {
     "data": {
      "application/vnd.jupyter.widget-view+json": {
       "model_id": "cb9cb73974384cfd983ad0f9183de639",
       "version_major": 2,
       "version_minor": 0
      },
      "text/plain": [
       "Validation: |          | 0/? [00:00<?, ?it/s]"
      ]
     },
     "metadata": {},
     "output_type": "display_data"
    },
    {
     "name": "stderr",
     "output_type": "stream",
     "text": [
      " 2024-05-27 13:51:52,165 [MainThread] 🐦‍🔥 Epoch 4: {'val_loss': 0.01509, 'val_acc_1': 0.64629, 'val_auroc': 0.37139, 'val_f1_macro': 0.1673, 'train_loss_epoch': 0.01597, 'train_acc_1': 0.47934, 'train_f1_macro': 0.13564}\n"
     ]
    },
    {
     "data": {
      "application/vnd.jupyter.widget-view+json": {
       "model_id": "c37b1a787eb3417cb470763100151d6e",
       "version_major": 2,
       "version_minor": 0
      },
      "text/plain": [
       "Validation: |          | 0/? [00:00<?, ?it/s]"
      ]
     },
     "metadata": {},
     "output_type": "display_data"
    },
    {
     "name": "stderr",
     "output_type": "stream",
     "text": [
      " 2024-05-27 13:54:36,961 [MainThread] 🐦‍🔥 Epoch 5: {'val_loss': 0.01334, 'val_acc_1': 0.69042, 'val_auroc': 0.37231, 'val_f1_macro': 0.20158, 'train_loss_epoch': 0.01501, 'train_acc_1': 0.48776, 'train_f1_macro': 0.14142}\n",
      "Metric val_f1_macro improved by 0.030 >= min_delta = 0.005. New best score: 0.202\n"
     ]
    },
    {
     "data": {
      "application/vnd.jupyter.widget-view+json": {
       "model_id": "cc6de680f5e04206aeb5411bea677f7b",
       "version_major": 2,
       "version_minor": 0
      },
      "text/plain": [
       "Validation: |          | 0/? [00:00<?, ?it/s]"
      ]
     },
     "metadata": {},
     "output_type": "display_data"
    },
    {
     "name": "stderr",
     "output_type": "stream",
     "text": [
      " 2024-05-27 13:57:22,717 [MainThread] 🐦‍🔥 Epoch 6: {'val_loss': 0.01339, 'val_acc_1': 0.68663, 'val_auroc': 0.37254, 'val_f1_macro': 0.20403, 'train_loss_epoch': 0.01363, 'train_acc_1': 0.53596, 'train_f1_macro': 0.16485}\n"
     ]
    },
    {
     "data": {
      "application/vnd.jupyter.widget-view+json": {
       "model_id": "c6183ef82d4846eaa1e03529c365f07d",
       "version_major": 2,
       "version_minor": 0
      },
      "text/plain": [
       "Validation: |          | 0/? [00:00<?, ?it/s]"
      ]
     },
     "metadata": {},
     "output_type": "display_data"
    },
    {
     "name": "stderr",
     "output_type": "stream",
     "text": [
      " 2024-05-27 14:00:09,051 [MainThread] 🐦‍🔥 Epoch 7: {'val_loss': 0.01351, 'val_acc_1': 0.69467, 'val_auroc': 0.37225, 'val_f1_macro': 0.2004, 'train_loss_epoch': 0.01363, 'train_acc_1': 0.52865, 'train_f1_macro': 0.16104}\n"
     ]
    },
    {
     "data": {
      "application/vnd.jupyter.widget-view+json": {
       "model_id": "4c647222e2a64d87841af8f9ef654caf",
       "version_major": 2,
       "version_minor": 0
      },
      "text/plain": [
       "Validation: |          | 0/? [00:00<?, ?it/s]"
      ]
     },
     "metadata": {},
     "output_type": "display_data"
    },
    {
     "name": "stderr",
     "output_type": "stream",
     "text": [
      " 2024-05-27 14:02:56,669 [MainThread] 🐦‍🔥 Epoch 8: {'val_loss': 0.01358, 'val_acc_1': 0.69668, 'val_auroc': 0.3724, 'val_f1_macro': 0.20932, 'train_loss_epoch': 0.01201, 'train_acc_1': 0.57648, 'train_f1_macro': 0.18432}\n",
      "Metric val_f1_macro improved by 0.008 >= min_delta = 0.005. New best score: 0.209\n"
     ]
    },
    {
     "data": {
      "application/vnd.jupyter.widget-view+json": {
       "model_id": "3a3d79aa564d4873b09571619343f0bc",
       "version_major": 2,
       "version_minor": 0
      },
      "text/plain": [
       "Validation: |          | 0/? [00:00<?, ?it/s]"
      ]
     },
     "metadata": {},
     "output_type": "display_data"
    },
    {
     "name": "stderr",
     "output_type": "stream",
     "text": [
      " 2024-05-27 14:05:46,951 [MainThread] 🐦‍🔥 Epoch 9: {'val_loss': 0.01308, 'val_acc_1': 0.70948, 'val_auroc': 0.37242, 'val_f1_macro': 0.2215, 'train_loss_epoch': 0.01279, 'train_acc_1': 0.56542, 'train_f1_macro': 0.17721}\n",
      "Metric val_f1_macro improved by 0.012 >= min_delta = 0.005. New best score: 0.222\n"
     ]
    },
    {
     "data": {
      "application/vnd.jupyter.widget-view+json": {
       "model_id": "48d0d4e4ead94de3b6cac93dec675b5b",
       "version_major": 2,
       "version_minor": 0
      },
      "text/plain": [
       "Validation: |          | 0/? [00:00<?, ?it/s]"
      ]
     },
     "metadata": {},
     "output_type": "display_data"
    },
    {
     "name": "stderr",
     "output_type": "stream",
     "text": [
      " 2024-05-27 14:08:38,419 [MainThread] 🐦‍🔥 Epoch 10: {'val_loss': 0.01265, 'val_acc_1': 0.73118, 'val_auroc': 0.37366, 'val_f1_macro': 0.23282, 'train_loss_epoch': 0.0118, 'train_acc_1': 0.5486, 'train_f1_macro': 0.17766}\n",
      "Metric val_f1_macro improved by 0.011 >= min_delta = 0.005. New best score: 0.233\n"
     ]
    },
    {
     "data": {
      "application/vnd.jupyter.widget-view+json": {
       "model_id": "c771e28313c241158a4c840d154eabc1",
       "version_major": 2,
       "version_minor": 0
      },
      "text/plain": [
       "Validation: |          | 0/? [00:00<?, ?it/s]"
      ]
     },
     "metadata": {},
     "output_type": "display_data"
    },
    {
     "name": "stderr",
     "output_type": "stream",
     "text": [
      " 2024-05-27 14:11:30,562 [MainThread] 🐦‍🔥 Epoch 11: {'val_loss': 0.013, 'val_acc_1': 0.73017, 'val_auroc': 0.37297, 'val_f1_macro': 0.23103, 'train_loss_epoch': 0.0112, 'train_acc_1': 0.58186, 'train_f1_macro': 0.18906}\n"
     ]
    },
    {
     "data": {
      "application/vnd.jupyter.widget-view+json": {
       "model_id": "ba5e72d053164e8489f7f5bbf7c29d2a",
       "version_major": 2,
       "version_minor": 0
      },
      "text/plain": [
       "Validation: |          | 0/? [00:00<?, ?it/s]"
      ]
     },
     "metadata": {},
     "output_type": "display_data"
    },
    {
     "name": "stderr",
     "output_type": "stream",
     "text": [
      " 2024-05-27 14:14:23,141 [MainThread] 🐦‍🔥 Epoch 12: {'val_loss': 0.01303, 'val_acc_1': 0.7352, 'val_auroc': 0.37384, 'val_f1_macro': 0.23454, 'train_loss_epoch': 0.0112, 'train_acc_1': 0.58128, 'train_f1_macro': 0.1878}\n"
     ]
    },
    {
     "data": {
      "application/vnd.jupyter.widget-view+json": {
       "model_id": "",
       "version_major": 2,
       "version_minor": 0
      },
      "text/plain": [
       "Validation: |          | 0/? [00:00<?, ?it/s]"
      ]
     },
     "metadata": {},
     "output_type": "display_data"
    },
    {
     "name": "stderr",
     "output_type": "stream",
     "text": [
      " 2024-05-27 14:17:17,216 [MainThread] 🐦‍🔥 Epoch 13: {'val_loss': 0.01345, 'val_acc_1': 0.7246, 'val_auroc': 0.37307, 'val_f1_macro': 0.22983, 'train_loss_epoch': 0.01147, 'train_acc_1': 0.5554, 'train_f1_macro': 0.17887}\n"
     ]
    },
    {
     "data": {
      "application/vnd.jupyter.widget-view+json": {
       "model_id": "",
       "version_major": 2,
       "version_minor": 0
      },
      "text/plain": [
       "Validation: |          | 0/? [00:00<?, ?it/s]"
      ]
     },
     "metadata": {},
     "output_type": "display_data"
    },
    {
     "name": "stderr",
     "output_type": "stream",
     "text": [
      " 2024-05-27 14:20:12,620 [MainThread] 🐦‍🔥 Epoch 14: {'val_loss': 0.01296, 'val_acc_1': 0.73634, 'val_auroc': 0.37326, 'val_f1_macro': 0.23262, 'train_loss_epoch': 0.01083, 'train_acc_1': 0.59263, 'train_f1_macro': 0.19263}\n"
     ]
    },
    {
     "data": {
      "application/vnd.jupyter.widget-view+json": {
       "model_id": "",
       "version_major": 2,
       "version_minor": 0
      },
      "text/plain": [
       "Validation: |          | 0/? [00:00<?, ?it/s]"
      ]
     },
     "metadata": {},
     "output_type": "display_data"
    },
    {
     "name": "stderr",
     "output_type": "stream",
     "text": [
      " 2024-05-27 14:23:09,461 [MainThread] 🐦‍🔥 Epoch 15: {'val_loss': 0.01272, 'val_acc_1': 0.74365, 'val_auroc': 0.37376, 'val_f1_macro': 0.24106, 'train_loss_epoch': 0.01013, 'train_acc_1': 0.60397, 'train_f1_macro': 0.19985}\n",
      "Metric val_f1_macro improved by 0.008 >= min_delta = 0.005. New best score: 0.241\n"
     ]
    },
    {
     "data": {
      "application/vnd.jupyter.widget-view+json": {
       "model_id": "",
       "version_major": 2,
       "version_minor": 0
      },
      "text/plain": [
       "Validation: |          | 0/? [00:00<?, ?it/s]"
      ]
     },
     "metadata": {},
     "output_type": "display_data"
    },
    {
     "name": "stderr",
     "output_type": "stream",
     "text": [
      " 2024-05-27 14:26:08,748 [MainThread] 🐦‍🔥 Epoch 16: {'val_loss': 0.01372, 'val_acc_1': 0.74328, 'val_auroc': 0.37431, 'val_f1_macro': 0.23941, 'train_loss_epoch': 0.01007, 'train_acc_1': 0.59881, 'train_f1_macro': 0.1985}\n"
     ]
    },
    {
     "data": {
      "application/vnd.jupyter.widget-view+json": {
       "model_id": "",
       "version_major": 2,
       "version_minor": 0
      },
      "text/plain": [
       "Validation: |          | 0/? [00:00<?, ?it/s]"
      ]
     },
     "metadata": {},
     "output_type": "display_data"
    },
    {
     "name": "stderr",
     "output_type": "stream",
     "text": [
      " 2024-05-27 14:29:07,934 [MainThread] 🐦‍🔥 Epoch 17: {'val_loss': 0.01349, 'val_acc_1': 0.74114, 'val_auroc': 0.37367, 'val_f1_macro': 0.23866, 'train_loss_epoch': 0.00938, 'train_acc_1': 0.6184, 'train_f1_macro': 0.21047}\n"
     ]
    },
    {
     "data": {
      "application/vnd.jupyter.widget-view+json": {
       "model_id": "",
       "version_major": 2,
       "version_minor": 0
      },
      "text/plain": [
       "Validation: |          | 0/? [00:00<?, ?it/s]"
      ]
     },
     "metadata": {},
     "output_type": "display_data"
    },
    {
     "name": "stderr",
     "output_type": "stream",
     "text": [
      " 2024-05-27 14:32:09,290 [MainThread] 🐦‍🔥 Epoch 18: {'val_loss': 0.01292, 'val_acc_1': 0.7447, 'val_auroc': 0.37298, 'val_f1_macro': 0.24212, 'train_loss_epoch': 0.0097, 'train_acc_1': 0.60174, 'train_f1_macro': 0.20174}\n"
     ]
    },
    {
     "data": {
      "application/vnd.jupyter.widget-view+json": {
       "model_id": "",
       "version_major": 2,
       "version_minor": 0
      },
      "text/plain": [
       "Validation: |          | 0/? [00:00<?, ?it/s]"
      ]
     },
     "metadata": {},
     "output_type": "display_data"
    },
    {
     "name": "stderr",
     "output_type": "stream",
     "text": [
      " 2024-05-27 14:35:10,508 [MainThread] 🐦‍🔥 Epoch 19: {'val_loss': 0.01405, 'val_acc_1': 0.7436, 'val_auroc': 0.3733, 'val_f1_macro': 0.2425, 'train_loss_epoch': 0.00971, 'train_acc_1': 0.61332, 'train_f1_macro': 0.20346}\n"
     ]
    },
    {
     "data": {
      "application/vnd.jupyter.widget-view+json": {
       "model_id": "",
       "version_major": 2,
       "version_minor": 0
      },
      "text/plain": [
       "Validation: |          | 0/? [00:00<?, ?it/s]"
      ]
     },
     "metadata": {},
     "output_type": "display_data"
    },
    {
     "name": "stderr",
     "output_type": "stream",
     "text": [
      " 2024-05-27 14:38:12,252 [MainThread] 🐦‍🔥 Epoch 20: {'val_loss': 0.01225, 'val_acc_1': 0.74721, 'val_auroc': 0.37325, 'val_f1_macro': 0.24263, 'train_loss_epoch': 0.00925, 'train_acc_1': 0.61326, 'train_f1_macro': 0.20748}\n"
     ]
    },
    {
     "data": {
      "application/vnd.jupyter.widget-view+json": {
       "model_id": "",
       "version_major": 2,
       "version_minor": 0
      },
      "text/plain": [
       "Validation: |          | 0/? [00:00<?, ?it/s]"
      ]
     },
     "metadata": {},
     "output_type": "display_data"
    },
    {
     "name": "stderr",
     "output_type": "stream",
     "text": [
      " 2024-05-27 14:41:16,628 [MainThread] 🐦‍🔥 Epoch 21: {'val_loss': 0.01338, 'val_acc_1': 0.75228, 'val_auroc': 0.37367, 'val_f1_macro': 0.24708, 'train_loss_epoch': 0.01026, 'train_acc_1': 0.57089, 'train_f1_macro': 0.18863}\n",
      "Metric val_f1_macro improved by 0.006 >= min_delta = 0.005. New best score: 0.247\n"
     ]
    },
    {
     "data": {
      "application/vnd.jupyter.widget-view+json": {
       "model_id": "",
       "version_major": 2,
       "version_minor": 0
      },
      "text/plain": [
       "Validation: |          | 0/? [00:00<?, ?it/s]"
      ]
     },
     "metadata": {},
     "output_type": "display_data"
    },
    {
     "name": "stderr",
     "output_type": "stream",
     "text": [
      " 2024-05-27 14:44:21,763 [MainThread] 🐦‍🔥 Epoch 22: {'val_loss': 0.01305, 'val_acc_1': 0.75676, 'val_auroc': 0.37424, 'val_f1_macro': 0.24893, 'train_loss_epoch': 0.00965, 'train_acc_1': 0.59416, 'train_f1_macro': 0.19797}\n"
     ]
    },
    {
     "data": {
      "application/vnd.jupyter.widget-view+json": {
       "model_id": "",
       "version_major": 2,
       "version_minor": 0
      },
      "text/plain": [
       "Validation: |          | 0/? [00:00<?, ?it/s]"
      ]
     },
     "metadata": {},
     "output_type": "display_data"
    },
    {
     "name": "stderr",
     "output_type": "stream",
     "text": [
      " 2024-05-27 14:47:27,984 [MainThread] 🐦‍🔥 Epoch 23: {'val_loss': 0.01326, 'val_acc_1': 0.76128, 'val_auroc': 0.37453, 'val_f1_macro': 0.25032, 'train_loss_epoch': 0.00919, 'train_acc_1': 0.61531, 'train_f1_macro': 0.20676}\n"
     ]
    },
    {
     "data": {
      "application/vnd.jupyter.widget-view+json": {
       "model_id": "",
       "version_major": 2,
       "version_minor": 0
      },
      "text/plain": [
       "Validation: |          | 0/? [00:00<?, ?it/s]"
      ]
     },
     "metadata": {},
     "output_type": "display_data"
    },
    {
     "name": "stderr",
     "output_type": "stream",
     "text": [
      " 2024-05-27 14:50:35,274 [MainThread] 🐦‍🔥 Epoch 24: {'val_loss': 0.01307, 'val_acc_1': 0.76339, 'val_auroc': 0.37432, 'val_f1_macro': 0.25097, 'train_loss_epoch': 0.0093, 'train_acc_1': 0.60821, 'train_f1_macro': 0.20358}\n"
     ]
    },
    {
     "data": {
      "application/vnd.jupyter.widget-view+json": {
       "model_id": "",
       "version_major": 2,
       "version_minor": 0
      },
      "text/plain": [
       "Validation: |          | 0/? [00:00<?, ?it/s]"
      ]
     },
     "metadata": {},
     "output_type": "display_data"
    },
    {
     "name": "stderr",
     "output_type": "stream",
     "text": [
      " 2024-05-27 14:53:43,534 [MainThread] 🐦‍🔥 Epoch 25: {'val_loss': 0.01331, 'val_acc_1': 0.75736, 'val_auroc': 0.37366, 'val_f1_macro': 0.24755, 'train_loss_epoch': 0.00905, 'train_acc_1': 0.59976, 'train_f1_macro': 0.20245}\n"
     ]
    }
   ],
   "source": [
    "    # %%\n",
    "    train_augmentation = albumentations.Compose(\n",
    "        [\n",
    "            albumentations.AdvancedBlur(p=0.25),\n",
    "            albumentations.GaussNoise(p=0.25),\n",
    "            albumentations.ImageCompression(\n",
    "                quality_lower=75, quality_upper=100, p=0.25\n",
    "            ),\n",
    "            albumentations.CoarseDropout(\n",
    "                max_holes=1, max_height=64, max_width=64, p=0.25\n",
    "            ),\n",
    "            albumentations.XYMasking(\n",
    "                p=0.25,\n",
    "                num_masks_x=(1, 2),\n",
    "                num_masks_y=(1, 2),\n",
    "                mask_x_length=(5, 25),\n",
    "                mask_y_length=(5, 25),\n",
    "            ),\n",
    "            albumentations.CLAHE(p=0.15),\n",
    "            albumentations.Downscale(\n",
    "                scale_min=0.5, scale_max=0.9, interpolation=4, p=0.15\n",
    "            ),\n",
    "            albumentations.Morphological(p=0.15, scale=(1, 3), operation=\"erosion\"),\n",
    "            albumentations.Normalize(p=1),\n",
    "        ]\n",
    "    )\n",
    "    val_augmentation = albumentations.Compose([albumentations.Normalize(p=1)])\n",
    "\n",
    "    # grouped split on sample index to keep different windows from the same sample\n",
    "    # together if splitting randomly this can be considered as a form of leakage\n",
    "    # validating on a windowed waveform while windows of the same waveform were used for\n",
    "    # training is easier than classifying a waveform from a different sample, which is\n",
    "    # the case in practice\n",
    "    logger.info(f\"Splitting {len(waveforms)} waveforms into train/val: {cfg.val_ratio}\")\n",
    "    n_splits = int(round(1 / cfg.val_ratio))\n",
    "    kfold = StratifiedGroupKFold(n_splits=n_splits, shuffle=True)\n",
    "    for fold_index, (train_index, val_index) in enumerate(\n",
    "        kfold.split(\n",
    "            X=model_input_df,\n",
    "            y=model_input_df[\"primary_label\"],\n",
    "            groups=model_input_df[\"sample_index\"],\n",
    "        )\n",
    "    ):\n",
    "\n",
    "        train_df = model_input_df.iloc[train_index]\n",
    "        val_df = model_input_df.iloc[val_index]\n",
    "\n",
    "        train_waveforms = [waveforms[i] for i in train_index]\n",
    "        val_waveforms = [waveforms[i] for i in val_index]\n",
    "\n",
    "        train_dataset = BirdDataset(\n",
    "            df=train_df, waveforms=train_waveforms, augmentation=train_augmentation\n",
    "        )\n",
    "        val_dataset = BirdDataset(\n",
    "            df=val_df, waveforms=val_waveforms, augmentation=val_augmentation\n",
    "        )\n",
    "\n",
    "        train_dataloader = DataLoader(\n",
    "            train_dataset,\n",
    "            batch_size=cfg.batch_size,\n",
    "            drop_last=True,\n",
    "            num_workers=cfg.n_workers,\n",
    "            persistent_workers=True,\n",
    "            pin_memory=True,\n",
    "        )\n",
    "\n",
    "        if cfg.weighted_sampling:\n",
    "            logger.info(\n",
    "                f\"Defining weighted sampling with  factor: {cfg.sample_weight_factor}\"\n",
    "            )\n",
    "            sample_weight = train_df[\"sample_weight\"].values\n",
    "            sample_weight = torch.from_numpy(sample_weight)\n",
    "\n",
    "            weighted_sampler = WeightedRandomSampler(\n",
    "                sample_weight.type(\"torch.DoubleTensor\"),\n",
    "                len(sample_weight),\n",
    "                replacement=True,\n",
    "            )\n",
    "\n",
    "            train_dataloader = DataLoader(\n",
    "                train_dataset,\n",
    "                batch_size=cfg.batch_size,\n",
    "                sampler=weighted_sampler,\n",
    "                drop_last=True,\n",
    "                num_workers=cfg.n_workers,\n",
    "                persistent_workers=True,\n",
    "                pin_memory=True,\n",
    "            )\n",
    "\n",
    "        val_dataloader = DataLoader(\n",
    "            val_dataset,\n",
    "            batch_size=cfg.batch_size,\n",
    "            shuffle=False,\n",
    "            drop_last=True,\n",
    "            num_workers=cfg.n_workers,\n",
    "            persistent_workers=True,\n",
    "            pin_memory=True,\n",
    "        )\n",
    "\n",
    "        logger.info(\"Dataloaders ready to go brrr\")\n",
    "\n",
    "        progress_bar = TQDMProgressBar(process_position=0)\n",
    "        early_stopping = EarlyStopping(\n",
    "            monitor=\"val_f1_macro\",\n",
    "            min_delta=0.005,\n",
    "            patience=cfg.patience,\n",
    "            verbose=True,\n",
    "            mode=\"max\",\n",
    "        )\n",
    "        model_checkpoint = ModelCheckpoint(\n",
    "            monitor=\"val_f1_macro\",\n",
    "            every_n_epochs=1,\n",
    "            mode=\"max\",\n",
    "            save_on_train_epoch_end=True,\n",
    "            auto_insert_metric_name=True,\n",
    "            filename=f\"{cfg.run_tag}\"\n",
    "            + f\"_fold_{fold_index}_\"\n",
    "            + \"{epoch}-{val_lrap:.3f}-{val_acc2:.3f}-{val_acc2:.3f}-{val_f1_macro:.3}\",\n",
    "        )\n",
    "\n",
    "        os.environ[\"PJRT_DEVICE\"] = \"GPU\"  # fix for G Cloud to avoid XLA/autocast clash\n",
    "        model = EfficientViT()\n",
    "        trainer = L.Trainer(\n",
    "            fast_dev_run=False,\n",
    "            enable_model_summary=False,\n",
    "            max_epochs=cfg.n_epochs,\n",
    "            accelerator=cfg.accelerator,\n",
    "            precision=cfg.precision,\n",
    "            callbacks=[progress_bar, early_stopping, model_checkpoint],\n",
    "            logger=csv_logger,3\n",
    "            log_every_n_steps=10,\n",
    "        )\n",
    "\n",
    "        logger.info(f\"\\nStart training fold {fold_index}\")\n",
    "        trainer.fit(\n",
    "            model,\n",
    "            train_dataloaders=train_dataloader,\n",
    "            val_dataloaders=val_dataloader,\n",
    "            ckpt_path=None,\n",
    "        )\n",
    "\n",
    "        logger.info(f\"Finished training fold {fold_index}\")\n",
    "        if not cfg.debug_run and trainer.current_epoch > 10:\n",
    "            logger.info(\"Saving model\")\n",
    "            filename = (\n",
    "                f\"{cfg.run_tag}_fold_{fold_index}_epochs_{trainer.current_epoch}.ckpt\"\n",
    "            )\n",
    "            trainer.save_checkpoint(f\"../model_objects/{filename}\")\n",
    "            logger.info(f\"Saved model to filename: {filename}\")\n"
   ]
  },
  {
   "cell_type": "code",
   "execution_count": null,
   "metadata": {},
   "outputs": [],
   "source": []
  }
 ],
 "metadata": {
  "environment": {
   "kernel": "python3",
   "name": ".m120",
   "type": "gcloud",
   "uri": "us-docker.pkg.dev/deeplearning-platform-release/gcr.io/:m120"
  },
  "kernelspec": {
   "display_name": "Python 3 (Local)",
   "language": "python",
   "name": "python3"
  },
  "language_info": {
   "codemirror_mode": {
    "name": "ipython",
    "version": 3
   },
   "file_extension": ".py",
   "mimetype": "text/x-python",
   "name": "python",
   "nbconvert_exporter": "python",
   "pygments_lexer": "ipython3",
   "version": "3.10.14"
  }
 },
 "nbformat": 4,
 "nbformat_minor": 4
}
